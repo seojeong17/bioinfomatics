{
  "nbformat": 4,
  "nbformat_minor": 0,
  "metadata": {
    "colab": {
      "provenance": [],
      "authorship_tag": "ABX9TyMKxq6qLMkQrm01hxcxldB+",
      "include_colab_link": true
    },
    "kernelspec": {
      "name": "python3",
      "display_name": "Python 3"
    },
    "language_info": {
      "name": "python"
    }
  },
  "cells": [
    {
      "cell_type": "markdown",
      "metadata": {
        "id": "view-in-github",
        "colab_type": "text"
      },
      "source": [
        "<a href=\"https://colab.research.google.com/github/seojeong17/bioinfomatics/blob/main/01_%ED%8C%8C%EC%9D%B4%EC%8D%AC_1%EC%9D%BC%EC%B0%A8_%EC%8B%A4%EC%8A%B5.ipynb\" target=\"_parent\"><img src=\"https://colab.research.google.com/assets/colab-badge.svg\" alt=\"Open In Colab\"/></a>"
      ]
    },
    {
      "cell_type": "markdown",
      "source": [
        "## 파이썬 자료형"
      ],
      "metadata": {
        "id": "rSvVN0ukexMb"
      }
    },
    {
      "cell_type": "code",
      "source": [
        "# 데이터 형태를 확인해 주는 함수 : type()\n",
        "# 화면에 출력해주는 함수 : print()\n",
        "print( type(100))\n",
        "print( type(100.0))\n",
        "print( type('파이썬'))\n"
      ],
      "metadata": {
        "colab": {
          "base_uri": "https://localhost:8080/"
        },
        "id": "OoNmmAKte57X",
        "outputId": "bc069af4-f357-44cd-8da5-50f2c37b131b"
      },
      "execution_count": 6,
      "outputs": [
        {
          "output_type": "stream",
          "name": "stdout",
          "text": [
            "<class 'int'>\n",
            "<class 'float'>\n",
            "<class 'str'>\n"
          ]
        }
      ]
    },
    {
      "cell_type": "code",
      "source": [
        "# 변수에 값을 지정해서 사용한다.\n",
        "a = 100\n",
        "b = 50\n",
        "c = '파이썬'\n",
        "print(a+b)\n",
        "print(c)"
      ],
      "metadata": {
        "colab": {
          "base_uri": "https://localhost:8080/"
        },
        "id": "zGOIX1MNf_3X",
        "outputId": "7e90301f-9311-4490-be16-46a8b68f3577"
      },
      "execution_count": 7,
      "outputs": [
        {
          "output_type": "stream",
          "name": "stdout",
          "text": [
            "150\n",
            "파이썬\n"
          ]
        }
      ]
    },
    {
      "cell_type": "code",
      "source": [
        "# 변수명은 첫 글자 숫자 지정 불가/ 언더바_ 기호만 사용가능/ 공백문자 불가\n",
        "사과 = '수박'\n",
        "print(사과)"
      ],
      "metadata": {
        "colab": {
          "base_uri": "https://localhost:8080/"
        },
        "id": "P4lsAGoGg5rC",
        "outputId": "f1946085-7be1-4c1c-f0ed-9d2e3499307e"
      },
      "execution_count": 9,
      "outputs": [
        {
          "output_type": "stream",
          "name": "stdout",
          "text": [
            "수박\n"
          ]
        }
      ]
    },
    {
      "cell_type": "code",
      "source": [
        "a = 3.14\n",
        "b = 314\n",
        "print(int(a))\n",
        "print(float(b))"
      ],
      "metadata": {
        "colab": {
          "base_uri": "https://localhost:8080/"
        },
        "id": "lyHc2gHjhpNL",
        "outputId": "4552cc35-de22-40d8-958c-58e01b2e47de"
      },
      "execution_count": 10,
      "outputs": [
        {
          "output_type": "stream",
          "name": "stdout",
          "text": [
            "3\n",
            "314.0\n"
          ]
        }
      ]
    },
    {
      "cell_type": "code",
      "source": [
        "x =100\n",
        "y = 3\n",
        "print(x//y)\n",
        "print(x%y)\n",
        "print(x**y)"
      ],
      "metadata": {
        "colab": {
          "base_uri": "https://localhost:8080/"
        },
        "id": "ABlITHVFiQzK",
        "outputId": "3a0f3790-0e5b-483f-bd4d-5a2a161897de"
      },
      "execution_count": 13,
      "outputs": [
        {
          "output_type": "stream",
          "name": "stdout",
          "text": [
            "33\n",
            "1\n",
            "1000000\n"
          ]
        }
      ]
    },
    {
      "cell_type": "code",
      "source": [
        "# 여러개의 따옴표를 사용하면 다량의 문자열을 출력가능"
      ],
      "metadata": {
        "id": "_DhnnTgon4K0"
      },
      "execution_count": null,
      "outputs": []
    },
    {
      "cell_type": "markdown",
      "source": [
        "### 문자열형\n"
      ],
      "metadata": {
        "id": "JQWFfFPOpVC4"
      }
    },
    {
      "cell_type": "code",
      "source": [
        "# + : 문자열을 붙여서 표현한다.\n",
        "print('오늘은' + '파이썬 첫째날!')\n",
        "print('오늘은' , '파이썬 첫째날!')"
      ],
      "metadata": {
        "colab": {
          "base_uri": "https://localhost:8080/"
        },
        "id": "JKjI7fFQpX4R",
        "outputId": "dc4e98ff-5114-4959-cfeb-876e978279a5"
      },
      "execution_count": 14,
      "outputs": [
        {
          "output_type": "stream",
          "name": "stdout",
          "text": [
            "오늘은파이썬 첫째날!\n",
            "오늘은 파이썬 첫째날!\n"
          ]
        }
      ]
    },
    {
      "cell_type": "code",
      "source": [
        "# * : 문자열을 반복한다.\n",
        "print('반짝' *5)\n",
        "print('-' *50)"
      ],
      "metadata": {
        "colab": {
          "base_uri": "https://localhost:8080/"
        },
        "id": "f9yXUTxSpx--",
        "outputId": "fff7bb0f-9761-4aa8-8f59-30e035f63502"
      },
      "execution_count": 16,
      "outputs": [
        {
          "output_type": "stream",
          "name": "stdout",
          "text": [
            "반짝반짝반짝반짝반짝\n",
            "--------------------------------------------------\n"
          ]
        }
      ]
    },
    {
      "cell_type": "markdown",
      "source": [
        "### Bool타입\n"
      ],
      "metadata": {
        "id": "Mjp7Xve0qam3"
      }
    },
    {
      "cell_type": "code",
      "source": [
        "# true 는 1, false는 0\n",
        "\n",
        "# a = True\n",
        "# b = False\n",
        "# print(a, b)\n",
        "\n",
        "a = 100\n",
        "b = 200\n",
        "print ( type(a>b))\n"
      ],
      "metadata": {
        "colab": {
          "base_uri": "https://localhost:8080/"
        },
        "id": "rFslYZn6qels",
        "outputId": "03176b36-d220-40e8-de40-363dd20cebcf"
      },
      "execution_count": 20,
      "outputs": [
        {
          "output_type": "stream",
          "name": "stdout",
          "text": [
            "<class 'bool'>\n"
          ]
        }
      ]
    },
    {
      "cell_type": "markdown",
      "source": [
        "## 파이썬 기본 입출력"
      ],
      "metadata": {
        "id": "kVo2Z9A6sn8r"
      }
    },
    {
      "cell_type": "code",
      "source": [
        "# 파이썬으로 사칙연산 하기 프로그램\n",
        "a = input('키보드로 입력하세요:')\n",
        "a = int(a)                  # 정수로 만들기\n",
        "print('a의 값은 : ', a, type(a))\n"
      ],
      "metadata": {
        "colab": {
          "base_uri": "https://localhost:8080/"
        },
        "id": "n8IWn7VUsroL",
        "outputId": "57a619e1-633a-4c68-9bf4-ccec022a23c6"
      },
      "execution_count": 24,
      "outputs": [
        {
          "output_type": "stream",
          "name": "stdout",
          "text": [
            "키보드로 입력하세요:100\n",
            "a의 값은 :  100 <class 'int'>\n"
          ]
        }
      ]
    },
    {
      "cell_type": "code",
      "source": [
        "a = int(input('키보드로 입력하세요:'))\n",
        "print('a의 값은 : ', a, type(a))"
      ],
      "metadata": {
        "colab": {
          "base_uri": "https://localhost:8080/"
        },
        "id": "LHanB2g3t6cJ",
        "outputId": "327da3a8-8a24-453e-be57-b41f13a1b2d1"
      },
      "execution_count": 26,
      "outputs": [
        {
          "output_type": "stream",
          "name": "stdout",
          "text": [
            "키보드로 입력하세요:100\n",
            "a의 값은 :  100 <class 'int'>\n"
          ]
        }
      ]
    },
    {
      "cell_type": "code",
      "source": [
        "num1 = int(input('첫 번째 숫자:'))\n",
        "num2 = int(input('두 번째 숫자:'))\n",
        "print('-'*30)\n",
        "print('덧셈: %d + %d = %d' % (num1, num2, num1+num2))\n",
        "print('뺄셈: %d - %d = %d' % (num1, num2, num1-num2))\n",
        "print('곱셈: %d * %d = %d' % (num1, num2, num1*num2))\n",
        "print('나눗셈: %d / %d = %d' % (num1, num2, num1/num2))"
      ],
      "metadata": {
        "colab": {
          "base_uri": "https://localhost:8080/"
        },
        "id": "mSw8e7wbuZw-",
        "outputId": "88545e7d-444e-4c89-9523-53ce60b97ce2"
      },
      "execution_count": 28,
      "outputs": [
        {
          "output_type": "stream",
          "name": "stdout",
          "text": [
            "첫 번째 숫자:200\n",
            "두 번째 숫자:30\n",
            "------------------------------\n",
            "덧셈: 200 + 30 = 230\n",
            "뺄셈: 200 - 30 = 170\n",
            "곱셈: 200 * 30 = 6000\n",
            "나눗셈: 200 / 30 = 6\n"
          ]
        }
      ]
    },
    {
      "cell_type": "code",
      "source": [
        "num1 = int(input('첫 번째 숫자:'))\n",
        "num2 = int(input('두 번째 숫자:'))\n",
        "print('-'*30)\n",
        "print(f'덧셈: {num1} + {num2:>3} = {num1+num2}' )\n",
        "print(f'뺄셈: {num1} - {num2:0>3} = {num1-num2}' )\n",
        "print(f'곱셈: {num1} * {num2} = {num1*num2}' )\n",
        "print(f'나눗셈: {num1} / {num2} = {num1/num2}' )"
      ],
      "metadata": {
        "colab": {
          "base_uri": "https://localhost:8080/"
        },
        "id": "CQhMJbvzwUsd",
        "outputId": "cf90be49-00bf-4c69-9fb9-41f8cc111561"
      },
      "execution_count": 32,
      "outputs": [
        {
          "output_type": "stream",
          "name": "stdout",
          "text": [
            "첫 번째 숫자:200\n",
            "두 번째 숫자:30\n",
            "------------------------------\n",
            "덧셈: 200 +  30 = 230\n",
            "뺄셈: 200 - 030 = 170\n",
            "곱셈: 200 * 30 = 6000\n",
            "나눗셈: 200 / 30 = 6.666666666666667\n"
          ]
        }
      ]
    },
    {
      "cell_type": "code",
      "source": [
        "\n",
        "num1 = float(input('속도를 입력해 주세요 :'))\n",
        "d = float(input('거리를 입력해 주세요 :'))\n",
        "print('속도=',num1)\n",
        "print('거리=',d)\n",
        "print(f'시간=  {d}/ {num1}= {d/num1}')\n"
      ],
      "metadata": {
        "colab": {
          "base_uri": "https://localhost:8080/"
        },
        "id": "LGdUhF72xxIu",
        "outputId": "a55ebd43-dc40-4265-db6d-a3c94ec1b1bd"
      },
      "execution_count": 42,
      "outputs": [
        {
          "output_type": "stream",
          "name": "stdout",
          "text": [
            "속도를 입력해 주세요 :200\n",
            "거리를 입력해 주세요 :50\n",
            "속도= 200.0\n",
            "거리= 50.0\n",
            "시간=  50.0/ 200.0= 0.25\n"
          ]
        }
      ]
    },
    {
      "cell_type": "code",
      "source": [
        "a=input('정수를 입력하세요 :')\n",
        "n=int(a)\n",
        "nn=int(a+a)\n",
        "nnn=int(a+a+a)\n",
        "\n",
        "print(f'{n}+{nn}+{nnn}={n+nn+nnn}')\n",
        "\n"
      ],
      "metadata": {
        "colab": {
          "base_uri": "https://localhost:8080/"
        },
        "id": "9AIW8ygr32tA",
        "outputId": "06708962-6c73-43d9-d75a-029b0d575174"
      },
      "execution_count": 50,
      "outputs": [
        {
          "output_type": "stream",
          "name": "stdout",
          "text": [
            "정수를 입력하세요 :7\n",
            "7+77+777=861\n"
          ]
        }
      ]
    },
    {
      "cell_type": "code",
      "source": [
        "# eval() : 문자열을 숫자처럼 계산해준다.\n",
        "\n",
        "# eval ('3+4')\n",
        "\n",
        "a= input('정수를 입력하세요')\n",
        "result = f'{a}+{a+a}+{a+a+a}'\n",
        "\n",
        "print(f' {a}+{a+a}+{a+a+a}={eval(result)}')"
      ],
      "metadata": {
        "colab": {
          "base_uri": "https://localhost:8080/"
        },
        "id": "VRl3Ktlh7zGn",
        "outputId": "f8900446-daee-488a-91c2-29f6ec900fa3"
      },
      "execution_count": 54,
      "outputs": [
        {
          "output_type": "stream",
          "name": "stdout",
          "text": [
            "정수를 입력하세요7\n",
            " 7+77+777=861\n"
          ]
        }
      ]
    }
  ]
}