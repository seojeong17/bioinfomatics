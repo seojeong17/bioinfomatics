{
  "nbformat": 4,
  "nbformat_minor": 0,
  "metadata": {
    "colab": {
      "provenance": [],
      "authorship_tag": "ABX9TyMvIWdy9IuLH8cdnpUZbivs",
      "include_colab_link": true
    },
    "kernelspec": {
      "name": "python3",
      "display_name": "Python 3"
    },
    "language_info": {
      "name": "python"
    }
  },
  "cells": [
    {
      "cell_type": "markdown",
      "metadata": {
        "id": "view-in-github",
        "colab_type": "text"
      },
      "source": [
        "<a href=\"https://colab.research.google.com/github/seojeong17/bioinfomatics/blob/main/%ED%8C%8C%EC%9D%B4%EC%8D%AC_%EC%8B%A4%EC%8A%B52%EC%9D%BC%EC%B0%A8.ipynb\" target=\"_parent\"><img src=\"https://colab.research.google.com/assets/colab-badge.svg\" alt=\"Open In Colab\"/></a>"
      ]
    },
    {
      "cell_type": "markdown",
      "source": [],
      "metadata": {
        "id": "w3vJepoxvEjr"
      }
    },
    {
      "cell_type": "markdown",
      "source": [
        "## 문자열 인덱싱 & 슬라이싱"
      ],
      "metadata": {
        "id": "K97n1xN70ILD"
      }
    },
    {
      "cell_type": "code",
      "source": [
        "\"i eat {0} apples\".format(3)\n",
        "\"i eat {0} apples\".format(\"five\")\n",
        "number=5\n",
        "\"i eat {0} apples\".format(number)\n",
        "\"i ate {0} apples. so I'm {1}\".format(10,\"full\")\n",
        "\"i ate {0} apples. so I'm {word}\".format(5,word=\"full\")\n",
        "\"{0:<10}\".format(\"파이썬\")\n",
        "\"{0:>10}\".format(\"파이썬\")\n",
        "\"{0:^10}\".format(\"파이썬\")\n",
        "\"{0:*^10}\".format(\"파이썬\")\n",
        "\"{0:0.4f}\".format(3.4213423)\n",
        "\"{0:10.4f}\".format(3.42313234)\n",
        "\"{{and}}\".format()\n"
      ],
      "metadata": {
        "colab": {
          "base_uri": "https://localhost:8080/",
          "height": 36
        },
        "id": "LEDfr-g-xlkM",
        "outputId": "0d8834cc-cc37-4ecb-b172-97e3788c472f"
      },
      "execution_count": null,
      "outputs": [
        {
          "output_type": "execute_result",
          "data": {
            "text/plain": [
              "'{and}'"
            ],
            "application/vnd.google.colaboratory.intrinsic+json": {
              "type": "string"
            }
          },
          "metadata": {},
          "execution_count": 9
        }
      ]
    },
    {
      "cell_type": "code",
      "source": [
        "str(list(range(1,10001,1))).count('7')"
      ],
      "metadata": {
        "colab": {
          "base_uri": "https://localhost:8080/"
        },
        "id": "tIEhaLRO0OO6",
        "outputId": "8b08198e-6c2e-483c-81cd-756c13edcc6e"
      },
      "execution_count": null,
      "outputs": [
        {
          "output_type": "execute_result",
          "data": {
            "text/plain": [
              "4000"
            ]
          },
          "metadata": {},
          "execution_count": 15
        }
      ]
    },
    {
      "cell_type": "code",
      "source": [
        "a=\"a, b, c, d\"\n",
        "a.split(',')"
      ],
      "metadata": {
        "colab": {
          "base_uri": "https://localhost:8080/"
        },
        "id": "nAyGQ6zt2xon",
        "outputId": "d5d804a5-69ad-49d4-b99d-5dc0a470bb32"
      },
      "execution_count": null,
      "outputs": [
        {
          "output_type": "execute_result",
          "data": {
            "text/plain": [
              "['a', ' b', ' c', ' d']"
            ]
          },
          "metadata": {},
          "execution_count": 16
        }
      ]
    },
    {
      "cell_type": "code",
      "source": [
        "a=\"a, b, c, d\"\n",
        "a.split('.')\n",
        "해당되는 게 없으면 리스트로 출력"
      ],
      "metadata": {
        "colab": {
          "base_uri": "https://localhost:8080/"
        },
        "id": "C4fc2N5l24JF",
        "outputId": "61201245-a2c8-42c5-ebad-8c7eda00ebbe"
      },
      "execution_count": null,
      "outputs": [
        {
          "output_type": "execute_result",
          "data": {
            "text/plain": [
              "['a, b, c, d']"
            ]
          },
          "metadata": {},
          "execution_count": 17
        }
      ]
    },
    {
      "cell_type": "code",
      "source": [
        "a=\"hobby\"\n",
        "a.count('b')\n",
        "\n",
        "a=\"Phthon is best choice\"\n",
        "a.find('b')\n",
        "a.find('is')\n",
        "a.find('k')\n",
        "a.index('b')\n",
        "\n",
        "a=\",\"\n",
        "a.join('abcd')\n",
        "a=\"!\"\n",
        "a.join(\"파이썬\")\n",
        "a=\"python\"\n",
        "a.upper()\n",
        "a.lower()\n",
        "a.strip()\n",
        "a.lstrip()\n",
        "a.rstrip()\n",
        "a=\"Life is too short\"\n",
        "a.replace(\"Life\",\"Your leg\")\n",
        "a=\"Life is too short\"\n",
        "a.split()\n"
      ],
      "metadata": {
        "colab": {
          "base_uri": "https://localhost:8080/"
        },
        "id": "eRRXFtwj3LXe",
        "outputId": "ca28093b-fcbe-40d1-e017-e229709e114d"
      },
      "execution_count": null,
      "outputs": [
        {
          "output_type": "execute_result",
          "data": {
            "text/plain": [
              "['Life', 'is', 'too', 'short']"
            ]
          },
          "metadata": {},
          "execution_count": 19
        }
      ]
    },
    {
      "cell_type": "code",
      "source": [
        "s=input('문자열을 입력하세요 :')\n",
        "print(s[::-1])"
      ],
      "metadata": {
        "colab": {
          "base_uri": "https://localhost:8080/"
        },
        "id": "8D1RLzS65er_",
        "outputId": "2da29f53-4b82-41c5-af06-ab60c05f65d3"
      },
      "execution_count": null,
      "outputs": [
        {
          "output_type": "stream",
          "name": "stdout",
          "text": [
            "문자열을 입력하세요 :사랑해요 파이썬!\n",
            "!썬이파 요해랑사\n"
          ]
        }
      ]
    },
    {
      "cell_type": "markdown",
      "source": [
        "[0:x:1단위]\n",
        "[0:x:2단위]"
      ],
      "metadata": {
        "id": "T2ZG6xOaAIX_"
      }
    },
    {
      "cell_type": "code",
      "source": [
        "a=input('파일을 입력하세요 :')\n",
        "x = a.split('.')\n",
        "print(f'파일명: {x[0]}, 확장자 : {x[1]}')\n"
      ],
      "metadata": {
        "colab": {
          "base_uri": "https://localhost:8080/"
        },
        "id": "ije2AFZIAQqf",
        "outputId": "da074a2b-e169-462d-843f-6e8db368ea61"
      },
      "execution_count": null,
      "outputs": [
        {
          "output_type": "stream",
          "name": "stdout",
          "text": [
            "파일을 입력하세요 :test.ipynb\n",
            "파일명: test, 확장자 : ipynb\n"
          ]
        }
      ]
    },
    {
      "cell_type": "markdown",
      "source": [
        "### 날짜와 시간관련 모듈 : datetime"
      ],
      "metadata": {
        "id": "_ZXeWyuzDaOV"
      }
    },
    {
      "cell_type": "code",
      "source": [
        "import datetime\n",
        "\n",
        "now = str(datetime.datetime.now())\n",
        "print(f'값 : {now}')\n",
        "print(f'자료형: {type(now)}')\n",
        "print (f' 지금 시각은 {now[:4]}년')"
      ],
      "metadata": {
        "colab": {
          "base_uri": "https://localhost:8080/"
        },
        "id": "piKOSXlADWca",
        "outputId": "e3fdf677-8ebc-4218-aba5-a6c2ec493589"
      },
      "execution_count": null,
      "outputs": [
        {
          "output_type": "stream",
          "name": "stdout",
          "text": [
            "값 : 2023-08-08 03:12:51.059685\n",
            "자료형: <class 'str'>\n",
            " 지금 시각은 2023년\n"
          ]
        }
      ]
    },
    {
      "cell_type": "code",
      "source": [
        "now=datetime.datetime.now()\n",
        "print(now.strftime('지금 시간은 %Y년 %m월 %d일 %H시 %M분 %S초 입니다.'))"
      ],
      "metadata": {
        "colab": {
          "base_uri": "https://localhost:8080/"
        },
        "id": "ZKEzGs_oI4cB",
        "outputId": "222a484f-0a58-4f81-ff53-9351d94129ba"
      },
      "execution_count": null,
      "outputs": [
        {
          "output_type": "stream",
          "name": "stdout",
          "text": [
            "지금 시간은 2023년 08월 08일 03시 17분 26초 입니다.\n"
          ]
        }
      ]
    },
    {
      "cell_type": "code",
      "source": [
        "import urllib.request\n",
        "import ssl\n",
        "\n",
        "ctx = ssl._create_unverified_context()\n",
        "\n",
        "#환율정보 페이지 불러오기\n",
        "print(\"[환율정보 불러오기]\")\n",
        "URL = \"https://search.naver.com/search.naver?where=nexearch&sm=top_hty&fbm=1&ie=utf8&query=%ED%99%98%EC%9C%A8\"\n",
        "page = urllib.request.urlopen(URL, context=ctx)\n",
        "text = page.read().decode(\"utf8\")  # 해당 페이지의 소스코드\n",
        "# print(text)\n",
        "\n",
        "#환율정보 가져오기: 기준시간\n",
        "searchText = 'class=\"grp_info\"> <em>'\n",
        "where      = text.find(searchText)  #소스코드에서 해당 문자열의 시작위치\n",
        "print(f'위치{where}')\n",
        "print(f'searchText길이{len(searchText)}')\n",
        "start = where+len(searchText)\n",
        "end = where+len(searchText)+16\n",
        "targetInfo = text[start:end]\n",
        "print(f'-환율기준시간: {targetInfo}')\n",
        "\n",
        "#환율정보 가져오기: 달러\n",
        "searchText = '<span>미국 <em>USD</em></span></a></th> <td><span>'\n",
        "where      = text.find(searchText)\n",
        "targetInfo = text[where+len(searchText):where+len(searchText)+8]\n",
        "print(f'-달러: {targetInfo}')\n",
        "\n",
        "searchText = '<span>유럽연합 <em>EUR</em></span></a></th> <td><span>'\n",
        "where      = text.find(searchText)\n",
        "targetInfo = text[where+len(searchText):where+len(searchText)+8]\n",
        "print(f'-유로: {targetInfo}')\n",
        "\n",
        "searchText = '<span>중국 <em>CNY</em></span></a></th> <td><span>'\n",
        "where      = text.find(searchText)\n",
        "targetInfo = text[where+len(searchText):where+len(searchText)+6]\n",
        "print(f'-위안화: {targetInfo}')\n"
      ],
      "metadata": {
        "colab": {
          "base_uri": "https://localhost:8080/"
        },
        "id": "WaHwvSYjKVjW",
        "outputId": "379e83c3-88a6-496e-fd3c-aef5f6e011d0"
      },
      "execution_count": null,
      "outputs": [
        {
          "output_type": "stream",
          "name": "stdout",
          "text": [
            "[환율정보 불러오기]\n",
            "위치74032\n",
            "searchText길이22\n",
            "-환율기준시간: 2023.08.08 12:40\n",
            "-달러: 1,314.90\n",
            "-유로: 1,444.42\n",
            "-위안화: 182.06\n"
          ]
        }
      ]
    },
    {
      "cell_type": "code",
      "source": [
        "print('==동전교환 프로그램==')\n",
        "\n",
        "a=int(input('동전으로 교환할 금액을 입력하세요 :'))\n",
        "\n",
        "print('-' *30)\n",
        "print(f'500원짜리 동전 : {a//500}개')\n",
        "a=a%500\n",
        "print(f'100원짜리 동전 : {a//100}개 ')\n",
        "a=a% 100\n",
        "print(f'50원짜리 동전 : {a//50}개')\n",
        "a%=50\n",
        "print(f'10원짜리 동전 : {a//10}개')\n",
        "a%=10\n",
        "print(f'잔돈 : {a}원')\n"
      ],
      "metadata": {
        "id": "UEydmnjaSNm-",
        "colab": {
          "base_uri": "https://localhost:8080/"
        },
        "outputId": "89850799-ec14-4a74-828f-415a8544067e"
      },
      "execution_count": 62,
      "outputs": [
        {
          "output_type": "stream",
          "name": "stdout",
          "text": [
            "==동전교환 프로그램==\n",
            "동전으로 교환할 금액을 입력하세요 :4321\n",
            "------------------------------\n",
            "500원짜리 동전 : 8개\n",
            "100원짜리 동전 : 3개 \n",
            "50원짜리 동전 : 0개\n",
            "10원짜리 동전 : 2개\n",
            "잔돈 : 1원\n"
          ]
        }
      ]
    },
    {
      "cell_type": "code",
      "source": [
        "print('==지폐,동전교환 프로그램==')\n",
        "\n",
        "a=int(input('지폐,동전으로 교환할 금액을 입력하세요 :'))\n",
        "\n",
        "print('-' *30)\n",
        "print(f'50000원짜리 지폐 : {a//50000}장')\n",
        "a=a%50000\n",
        "print(f'10000원짜리 지폐 : {a//10000}장 ')\n",
        "a=a% 10000\n",
        "print(f'5000원짜리 지폐 : {a//5000}장')\n",
        "a%=5000\n",
        "print(f'1000원짜리 지폐 : {a//1000}장')\n",
        "a%=1000\n",
        "print(f'500원짜리 동전 : {a//500}개')\n",
        "a=a%500\n",
        "print(f'100원짜리 동전 : {a//100}개 ')\n",
        "a=a% 100\n",
        "print(f'50원짜리 동전 : {a//50}개')\n",
        "a%=50\n",
        "print(f'10원짜리 동전 : {a//10}개')\n",
        "a%=10\n",
        "print(f'잔돈 : {a}원')\n"
      ],
      "metadata": {
        "colab": {
          "base_uri": "https://localhost:8080/"
        },
        "id": "D3mXndz7pXXc",
        "outputId": "64be66ba-f5da-4a0e-9d2f-4c1d691d93b6"
      },
      "execution_count": 63,
      "outputs": [
        {
          "output_type": "stream",
          "name": "stdout",
          "text": [
            "==지폐,동전교환 프로그램==\n",
            "지폐,동전으로 교환할 금액을 입력하세요 :657890\n",
            "------------------------------\n",
            "50000원짜리 지폐 : 13장\n",
            "10000원짜리 지폐 : 0장 \n",
            "5000원짜리 지폐 : 1장\n",
            "1000원짜리 지폐 : 2장\n",
            "500원짜리 동전 : 1개\n",
            "100원짜리 동전 : 3개 \n",
            "50원짜리 동전 : 1개\n",
            "10원짜리 동전 : 4개\n",
            "잔돈 : 0원\n"
          ]
        }
      ]
    },
    {
      "cell_type": "code",
      "source": [
        "a=200\n",
        "if a < 100 :\n",
        "  print(\"100보다 작군요\")\n",
        "else:\n",
        "  print(\"100보다 크거나 같군요\")"
      ],
      "metadata": {
        "colab": {
          "base_uri": "https://localhost:8080/"
        },
        "id": "4OTX4SbVrZaN",
        "outputId": "d5e3de98-2271-49d0-af46-220a02e6a2bd"
      },
      "execution_count": 66,
      "outputs": [
        {
          "output_type": "stream",
          "name": "stdout",
          "text": [
            "100보다 크거나 같군요\n"
          ]
        }
      ]
    },
    {
      "cell_type": "markdown",
      "source": [
        "###if조건문"
      ],
      "metadata": {
        "id": "H4TaTS1ytKiV"
      }
    },
    {
      "cell_type": "code",
      "source": [
        "# if조건문\n",
        "\n",
        "a=500\n",
        "if a < 1000:\n",
        "  print(f'{a}는 1000보다 작군요!')\n"
      ],
      "metadata": {
        "colab": {
          "base_uri": "https://localhost:8080/"
        },
        "id": "5ERE4QloskQZ",
        "outputId": "ce2637e9-6ed4-4205-b1f6-5fca99644dd7"
      },
      "execution_count": 72,
      "outputs": [
        {
          "output_type": "stream",
          "name": "stdout",
          "text": [
            "500는 1000보다 작군요!\n"
          ]
        }
      ]
    },
    {
      "cell_type": "code",
      "source": [
        "# if~else~조건문\n",
        "\n",
        "a=1500\n",
        "if a < 1000:\n",
        "  print(f'{a}는 1000보다 작군요!')\n",
        "else:\n",
        "  print(f'{a}는 1000보다 크거나 같군요!')"
      ],
      "metadata": {
        "colab": {
          "base_uri": "https://localhost:8080/"
        },
        "id": "b3G3jjtztlYT",
        "outputId": "0b2d3c72-2f53-4166-f7ed-334588973fc8"
      },
      "execution_count": 70,
      "outputs": [
        {
          "output_type": "stream",
          "name": "stdout",
          "text": [
            "1500는 1000보다 크거나 같군요!\n"
          ]
        }
      ]
    },
    {
      "cell_type": "code",
      "source": [
        "# 중첩 if~문\n",
        "\n",
        "온도=float(input('온도를 입력해주세요.'))\n",
        "\n",
        "if 온도>30:\n",
        "  if 온도>35:\n",
        "    print('매우 더운 날씨 입니다!')\n",
        "  else:\n",
        "    print('덥군요!')\n",
        "else:\n",
        "  if 10< 온도 <=30:\n",
        "    print('쾌적한 온도 입니다!')\n",
        "  else:\n",
        "    print('추운 온도입니다!')\n"
      ],
      "metadata": {
        "colab": {
          "base_uri": "https://localhost:8080/"
        },
        "id": "vN3dlComt08L",
        "outputId": "13a9e26d-7939-4406-b7c3-d6d05a9349f2"
      },
      "execution_count": 81,
      "outputs": [
        {
          "output_type": "stream",
          "name": "stdout",
          "text": [
            "온도를 입력해주세요.28\n",
            "쾌적한 온도 입니다!\n"
          ]
        }
      ]
    },
    {
      "cell_type": "code",
      "source": [
        "# if~elif~else~ 문\n",
        "\n",
        "온도=float(input('온도를 입력해주세요'))\n",
        "\n",
        "if 온도 >35:\n",
        "  print('매우 더운 날씨 입니다!')\n",
        "elif 온도>30:\n",
        "  print('덥군요!')\n",
        "elif 온도> 10:\n",
        "  print('쾌적한 온도 입니다!')\n",
        "else:\n",
        "  print('추운 온도입니다!')"
      ],
      "metadata": {
        "colab": {
          "base_uri": "https://localhost:8080/"
        },
        "id": "Y9wePNfYvVzE",
        "outputId": "ee58c11a-a36d-4f47-c1c4-af56d29f0429"
      },
      "execution_count": 86,
      "outputs": [
        {
          "output_type": "stream",
          "name": "stdout",
          "text": [
            "온도를 입력해주세요2\n",
            "추운 온도입니다!\n"
          ]
        }
      ]
    },
    {
      "cell_type": "code",
      "source": [
        "# if ~ elif~ else ~\n",
        "# pip install pywin32    pywin32 라이브러리 인스톨하고 tts 기능 이용한다.\n",
        "import win32com.client\n",
        "\n",
        "tts = win32com.client.Dispatch(\"SAPI.SpVoice\")\n",
        "tts.Speak('조건문 만들기 프로그램입니다.')\n",
        "\n",
        "tts.Speak('온도를 입력해주세요:')\n",
        "온도 = float(input('온도를 입력해주세요: '))\n",
        "\n",
        "speak = ''\n",
        "if 온도 > 35:\n",
        "    speak = '무척 덥군요!'\n",
        "elif 온도 > 30:\n",
        "    speak = '덥군요!'\n",
        "elif 온도 > 10:\n",
        "    speak = '쾌적한 온도 입니다!'\n",
        "else:\n",
        "    speak = '추운 온도네요!'\n",
        "\n",
        "print(speak)\n",
        "tts.Speak(speak)"
      ],
      "metadata": {
        "id": "KzKCksHxyvFP"
      },
      "execution_count": null,
      "outputs": []
    },
    {
      "cell_type": "code",
      "source": [
        "x= int(input('숫자를 입력해 주세요:'))\n",
        "\n",
        "if (x % 2)==0:\n",
        "  print(f'{x}는 짝수')\n",
        "else:\n",
        "  print(f'{x}는 홀수')"
      ],
      "metadata": {
        "colab": {
          "base_uri": "https://localhost:8080/"
        },
        "id": "j8qQxw2U2RR-",
        "outputId": "51d84572-b3ff-4f3e-c048-868417c3d427"
      },
      "execution_count": 93,
      "outputs": [
        {
          "output_type": "stream",
          "name": "stdout",
          "text": [
            "숫자를 입력해 주세요:22\n",
            "22는 짝수\n"
          ]
        }
      ]
    },
    {
      "cell_type": "code",
      "source": [
        "score= int(input('성적을 입력해주세요 :'))\n",
        "\n",
        "print('-'*30)\n",
        "\n",
        "print(f'성적 {score} 는 {grade} 등급입니다.')\n",
        "\n",
        "grad=\"\"\n",
        "\n",
        "if score >=90:\n",
        "  grade= \"A\"\n",
        "elif score >=80:\n",
        "  grade= \"B\"\n",
        "if score >=70:\n",
        "  grade= \"C\"\n",
        "else:\n",
        "  grade= \"D\"\n",
        "\n"
      ],
      "metadata": {
        "colab": {
          "base_uri": "https://localhost:8080/"
        },
        "id": "prRXiicp3zc0",
        "outputId": "5e30ba37-b13a-48ce-e8ce-858fdbfa4dff"
      },
      "execution_count": 108,
      "outputs": [
        {
          "output_type": "stream",
          "name": "stdout",
          "text": [
            "성적을 입력해주세요 :90\n",
            "------------------------------\n",
            "성적 90 는 C 등급입니다.\n"
          ]
        }
      ]
    },
    {
      "cell_type": "code",
      "source": [
        "온도 = float(input('온도를 입력해주세요:'))\n",
        "\n",
        "if 온도 >= 30:\n",
        "  print('에어컨을 켜세요')\n",
        "\n",
        "elif 15 <= 온도 < 30:\n",
        " print('쾌적한 온도')\n",
        "\n",
        "elif 10 < 온도 < 15:\n",
        "  print('내복을 입으세요')\n",
        "\n",
        "elif 온도 <= 10:\n",
        "  print('난방기를 켜세요')\n",
        "\n"
      ],
      "metadata": {
        "colab": {
          "base_uri": "https://localhost:8080/"
        },
        "id": "zGTqB95Y7D7O",
        "outputId": "b9dfd08b-a7bf-47b5-8844-463632e3ca08"
      },
      "execution_count": 119,
      "outputs": [
        {
          "output_type": "stream",
          "name": "stdout",
          "text": [
            "온도를 입력해주세요:5\n",
            "난방기를 켜세요\n"
          ]
        }
      ]
    },
    {
      "cell_type": "code",
      "source": [
        "a = input('주민번호를 입력하세요')\n",
        "s = a[7]\n",
        "if s=='1'\n",
        "  print('1900년대 남성')\n",
        "elif s=='2'\n",
        "  print('1900년대 여성')\n",
        "elif s=='3'\n",
        "  print('2000년대 남성')\n",
        "elif s=='4'\n",
        "  print('2000년대 여성')"
      ],
      "metadata": {
        "colab": {
          "base_uri": "https://localhost:8080/",
          "height": 148
        },
        "id": "NBBEz2Ag-_q_",
        "outputId": "0e3bdfe2-6e71-41ba-fc9b-1b61cb18e9aa"
      },
      "execution_count": 125,
      "outputs": [
        {
          "output_type": "error",
          "ename": "SyntaxError",
          "evalue": "ignored",
          "traceback": [
            "\u001b[0;36m  File \u001b[0;32m\"<ipython-input-125-3880fe63c0cc>\"\u001b[0;36m, line \u001b[0;32m3\u001b[0m\n\u001b[0;31m    if s=='1'\u001b[0m\n\u001b[0m             ^\u001b[0m\n\u001b[0;31mSyntaxError\u001b[0m\u001b[0;31m:\u001b[0m expected ':'\n"
          ]
        }
      ]
    },
    {
      "cell_type": "code",
      "source": [
        "userid = input('주민번호:')\n",
        "yy = userid[:2] #년도\n",
        "mm = userid[2:4] #월\n",
        "dd = userid[4:6] #일\n",
        "print(f'{yy}년 {mm}월 {dd}일')\n",
        "yy, mm, dd = userid[:2], userid[2:4], userid[4:6]\n",
        "\n",
        "\n",
        "# gender확인\n",
        "\n",
        "if userid[7] == '1':\n",
        "  gender = '남성'\n",
        "  yy = 1900 + int(yy)\n",
        "\n",
        "if userid[7] == '2':\n",
        "  gender = '여성'\n",
        "  yy = 1900 + int(yy)\n",
        "\n",
        "if userid[7] == '3':\n",
        "  gender = '남성'\n",
        "  yy = 2000 + int(yy)\n",
        "\n",
        "if userid[7] == '4':\n",
        "  gender = '여성'\n",
        "  yy = 2000 + int(yy)\n",
        "\n",
        "import datetime\n",
        "now = datetime.datetime.now()\n",
        "age = now.year-yy  # 나이 계산\n",
        "\n",
        "\n",
        "print(f'{yy}년 {mm}월 {dd}일, {gender},{age}세')"
      ],
      "metadata": {
        "colab": {
          "base_uri": "https://localhost:8080/"
        },
        "id": "291c8qSUAuwK",
        "outputId": "fd42f720-2f75-4012-df2e-5041c4262ba3"
      },
      "execution_count": 132,
      "outputs": [
        {
          "output_type": "stream",
          "name": "stdout",
          "text": [
            "주민번호:870701-2409184\n",
            "87년 07월 01일\n",
            "1987년 07월 01일, 여성,36\n"
          ]
        }
      ]
    },
    {
      "cell_type": "code",
      "source": [
        "import datetime\n",
        "now = datetime.datetime.now()\n",
        "print (now.year, now.month, now.day)\n",
        "print(type(now.year))"
      ],
      "metadata": {
        "colab": {
          "base_uri": "https://localhost:8080/"
        },
        "id": "2axiD3G-DL6s",
        "outputId": "17b7072b-9baa-48af-a32a-8911976bde62"
      },
      "execution_count": 130,
      "outputs": [
        {
          "output_type": "stream",
          "name": "stdout",
          "text": [
            "2023 8 8\n",
            "<class 'int'>\n"
          ]
        }
      ]
    },
    {
      "cell_type": "code",
      "source": [
        "coffee1_price = 2500\n",
        "coffee2_price = 3000\n",
        "coffee3_price = 3000\n",
        "\n",
        "menu = f'''[커피 자동주문 머신 메뉴]\n",
        "----------------------------------------\n",
        "- 아메리카노: {coffee1_price}원\n",
        "- 카페라떼 :  {coffee2_price}원\n",
        "- 카푸치노 :  {coffee3_price}원\n",
        "-----------------------------------------\n",
        "원하시는 커피 종류와 잔수를 입력하세요!\n",
        "'''\n",
        "print(menu)\n",
        "coffee1 = int(input('아메리카노 몇잔: '))\n",
        "coffee2 = int(input('카페라떼 몇잔: '))\n",
        "coffee3 = int(input('카푸치노 몇잔: '))\n",
        "\n",
        "total = coffee1_price*coffee1 + coffee2_price*coffee2 + coffee3_price*coffee3\n",
        "print(f'주문하신 총 가격은 {total}원 입니다.')\n",
        "\n",
        "money=  int(input('돈을 입력해주세요~'))\n",
        "if total >money:\n",
        "  print(f'{total-money}원이 부족합니다. 돈을 더 넣어주세요')\n",
        "else:\n",
        "  print(f'거스름돈은 {money-total}입니다. 커피 맛있게 드세요~')\n",
        "\n",
        "\n",
        "\n"
      ],
      "metadata": {
        "colab": {
          "base_uri": "https://localhost:8080/"
        },
        "id": "kSaPbRWGEwWH",
        "outputId": "ef611db1-5c7c-4fdf-cc6c-524cee3fab79"
      },
      "execution_count": 141,
      "outputs": [
        {
          "output_type": "stream",
          "name": "stdout",
          "text": [
            "[커피 자동주문 머신 메뉴]\n",
            "----------------------------------------\n",
            "- 아메리카노: 2500원\n",
            "- 카페라떼 :  3000원\n",
            "- 카푸치노 :  3000원\n",
            "-----------------------------------------\n",
            "원하시는 커피 종류와 잔수를 입력하세요!\n",
            "\n",
            "아메리카노 몇잔: 3\n",
            "카페라떼 몇잔: 2\n",
            "카푸치노 몇잔: 1\n",
            "주문하신 총 가격은 16500원 입니다.\n",
            "돈을 입력해주세요~20000\n",
            "거스름돈은 3500입니다. 커피 맛있게 드세요~\n"
          ]
        }
      ]
    },
    {
      "cell_type": "code",
      "source": [
        "  print(f'거스름돈은 {abs(total-money)}원 입니다. ')\n",
        "\n",
        " ## abs"
      ],
      "metadata": {
        "id": "1xmZygnNI4vA"
      },
      "execution_count": null,
      "outputs": []
    }
  ]
}