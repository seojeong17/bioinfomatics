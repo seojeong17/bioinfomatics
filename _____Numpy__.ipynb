{
  "nbformat": 4,
  "nbformat_minor": 0,
  "metadata": {
    "colab": {
      "provenance": [],
      "toc_visible": true,
      "include_colab_link": true
    },
    "kernelspec": {
      "name": "python3",
      "display_name": "Python 3"
    },
    "language_info": {
      "name": "python"
    }
  },
  "cells": [
    {
      "cell_type": "markdown",
      "metadata": {
        "id": "view-in-github",
        "colab_type": "text"
      },
      "source": [
        "<a href=\"https://colab.research.google.com/github/seojeong17/bioinfomatics/blob/main/_____Numpy__.ipynb\" target=\"_parent\"><img src=\"https://colab.research.google.com/assets/colab-badge.svg\" alt=\"Open In Colab\"/></a>"
      ]
    },
    {
      "cell_type": "markdown",
      "source": [
        "\n",
        "1. **Numpy**\n",
        "\n",
        "2. **np.array()**\n",
        "\n",
        "  1) ndarray의 데이터 타입\n",
        "\n",
        "  2) ndarray를 편리하게 생성하기\n",
        "\n",
        "3.  **차원과 크기 변경: reshape()**\n",
        "\n",
        "4.  **데이터 세트 선택하기 - 인덱싱(Indexing)**\n",
        "\n",
        "5. **행렬의 정렬 - sort()와 argsort()**\n",
        "\n",
        "6. **선형대수 연산 - 행렬 내적과 전치 행렬 구하기**\n",
        "\n",
        "7. **배열 간 사칙연산**\n",
        "\n",
        "8. **Broadcasting**\n",
        "\n",
        "9. **집계(Aggregation)**\n",
        "\n",
        "  1) 합계\n",
        "\n",
        "  2) 평균\n",
        "\n",
        "  3) 곱셈\n",
        "\n",
        "  4) 최댓값과 최솟값\n",
        "\n",
        "  5) 표준편차와 분산\n"
      ],
      "metadata": {
        "id": "m8MtFY4im7Eg"
      }
    },
    {
      "cell_type": "markdown",
      "source": [
        "<div><span>"
      ],
      "metadata": {
        "id": "Tr-D3iAYn8Wt"
      }
    },
    {
      "cell_type": "markdown",
      "source": [
        "\n",
        "\n",
        "---\n",
        "\n"
      ],
      "metadata": {
        "id": "PXTmJWXAfI6P"
      }
    },
    {
      "cell_type": "markdown",
      "source": [
        "## **1. Numpy**"
      ],
      "metadata": {
        "id": "j4O3-2SYmjHA"
      }
    },
    {
      "cell_type": "markdown",
      "source": [
        "선형대수는 머신러닝 주요 알고리즘 중 하나입니다.\n",
        "<br/>넘파이는 파이썬에서 선형대수 기반 프로그램을 가능하게 하는 대표적인 패키지이며 빠른 계산과 배열 연산 능력을 보장합니다."
      ],
      "metadata": {
        "id": "LNIbwJt0ca6z"
      }
    },
    {
      "cell_type": "markdown",
      "source": [
        "수행 성능이 중요시될 때는 C/C++ 기반의 코드를 넘파이에서 호출하여 쉽게 통합할 수도 있습니다.\n",
        "<br/> 딥러닝 프레임워크인 텐서플로가 앞서 말한 방식으로 작성됐습니다."
      ],
      "metadata": {
        "id": "FvnFcCaTfZGo"
      }
    },
    {
      "cell_type": "markdown",
      "source": [
        "넘파이는 다양한 데이터 핸들링 기능도 제공하지만 데이터 처리 패키지인 판다스의 편리성은 따라가지 못합니다.\n",
        "<br/> 그러나 많은 머신러닝 알고리즘이 넘파이를 기반으로 하기 때문에 넘파이에 익숙해지는 것이 매우 중요합니다."
      ],
      "metadata": {
        "id": "YElQBKAZeQPb"
      }
    },
    {
      "cell_type": "markdown",
      "source": [
        "ㅤ"
      ],
      "metadata": {
        "id": "w9jjVOmoEivl"
      }
    },
    {
      "cell_type": "code",
      "source": [
        "import numpy as np"
      ],
      "metadata": {
        "id": "Cs2YJVO4mpAS"
      },
      "execution_count": null,
      "outputs": []
    },
    {
      "cell_type": "code",
      "source": [
        "data = [1,2,3,4]\n",
        "result = []\n",
        "\n",
        "for i in data :\n",
        "  result.append(i*10)\n",
        "\n",
        "print(result,type(result))"
      ],
      "metadata": {
        "colab": {
          "base_uri": "https://localhost:8080/"
        },
        "id": "PaDBJCn0Bnfg",
        "outputId": "e04b569d-d5aa-4d18-cbba-e3b624e680b6"
      },
      "execution_count": null,
      "outputs": [
        {
          "output_type": "stream",
          "name": "stdout",
          "text": [
            "[10, 20, 30, 40] <class 'list'>\n"
          ]
        }
      ]
    },
    {
      "cell_type": "code",
      "source": [
        "# 넘파일 이용해 10씩 곱하기\n",
        "\n",
        "arr = np.array(data)\n",
        "\n",
        "arr10 =arr*10\n",
        "print(arr10,type(arr10))"
      ],
      "metadata": {
        "colab": {
          "base_uri": "https://localhost:8080/"
        },
        "id": "HLH4leqiB8Ma",
        "outputId": "9269a4a2-c258-4b18-c338-b59c838b19eb"
      },
      "execution_count": null,
      "outputs": [
        {
          "output_type": "stream",
          "name": "stdout",
          "text": [
            "[10 20 30 40] <class 'numpy.ndarray'>\n"
          ]
        }
      ]
    },
    {
      "cell_type": "markdown",
      "source": [
        "ㅤ"
      ],
      "metadata": {
        "id": "JiM99u3ieQAc"
      }
    },
    {
      "cell_type": "markdown",
      "source": [
        "## **2. np.array()**\n",
        "\n",
        "*   리스트와 같은 다양한 인자를 입력 받아서 ndarray로 변환하는 기능을 수행합니다.\n",
        "*   .shape로 배열의 모양을 확인할 수 있으며 ndarray의 행과 열의 수를 튜플 형태로 가집니다.\n",
        "*   대괄호[] 중첩으로 배열이 증가합니다.\n",
        "\n",
        "\n",
        "\n",
        "\n"
      ],
      "metadata": {
        "id": "lWh8o8ypm5Ot"
      }
    },
    {
      "cell_type": "code",
      "source": [
        "# 1차원 배열\n",
        "배열1 = np.array([1,2,3])\n",
        "print(배열1)\n",
        "print(배열1.shape)"
      ],
      "metadata": {
        "colab": {
          "base_uri": "https://localhost:8080/"
        },
        "id": "80skSGWbG2MR",
        "outputId": "1dc16623-8fd9-4b20-9bb1-12b08fc40c7e"
      },
      "execution_count": null,
      "outputs": [
        {
          "output_type": "stream",
          "name": "stdout",
          "text": [
            "[1 2 3]\n",
            "(3,)\n"
          ]
        }
      ]
    },
    {
      "cell_type": "code",
      "source": [
        "# 2차원 배열\n",
        "배열2 = np.array([[1,2,3],[4,5,6]])\n",
        "print(배열2)\n",
        "print(배열2.shape)  #행, 열"
      ],
      "metadata": {
        "colab": {
          "base_uri": "https://localhost:8080/"
        },
        "id": "pCK--sxtHmRB",
        "outputId": "4513ae6b-faf2-424c-9cdc-4f8126f2b8fc"
      },
      "execution_count": null,
      "outputs": [
        {
          "output_type": "stream",
          "name": "stdout",
          "text": [
            "[[1 2 3]\n",
            " [4 5 6]]\n",
            "(2, 3)\n"
          ]
        }
      ]
    },
    {
      "cell_type": "code",
      "source": [
        "# 3차원 배열\n",
        "배열3 = np.array([[[1,2,3],[4,5,6],[7,8,9]]])\n",
        "print(배열3)\n",
        "print(배열3.shape)  #층, 행, 열"
      ],
      "metadata": {
        "colab": {
          "base_uri": "https://localhost:8080/"
        },
        "id": "i_Jy1ssJIJvv",
        "outputId": "6481f6b7-fb5d-4dab-ac93-9ab0d422bc73"
      },
      "execution_count": null,
      "outputs": [
        {
          "output_type": "stream",
          "name": "stdout",
          "text": [
            "[[[1 2 3]\n",
            "  [4 5 6]\n",
            "  [7 8 9]]]\n",
            "(1, 3, 3)\n"
          ]
        }
      ]
    },
    {
      "cell_type": "markdown",
      "source": [
        "ㅤ"
      ],
      "metadata": {
        "id": "8SKfQy9ieQ8D"
      }
    },
    {
      "cell_type": "markdown",
      "source": [
        "### **1) ndarray의 데이터 타입**\n",
        "\n",
        "\n",
        "\n",
        "\n"
      ],
      "metadata": {
        "id": "9gskT0Xlxem9"
      }
    },
    {
      "cell_type": "markdown",
      "source": [
        "숫자값, 문자열 값, bool 값 등이 모두 가능합니다."
      ],
      "metadata": {
        "id": "t8vACAuNyMpy"
      }
    },
    {
      "cell_type": "markdown",
      "source": [
        "연산의 특성상 같은 데이터 타입만 가능합니다. 즉, 한 개의 ndarray 객체에 int와 float가 함께 있을 수 없습니다."
      ],
      "metadata": {
        "id": "NH8Dr7yeyYYY"
      }
    },
    {
      "cell_type": "markdown",
      "source": [
        "dtype으로 데이터 타입 속성을 확인 할 수 있습니다."
      ],
      "metadata": {
        "id": "PcFMzR_lyppz"
      }
    },
    {
      "cell_type": "code",
      "source": [
        "list1 = [1.5, 2.4, 3.7]\n",
        "print(type(list1))\n",
        "\n",
        "array1 = np.array(list1)\n",
        "print(type(array1))\n",
        "\n",
        "print(array1, array1.dtype)"
      ],
      "metadata": {
        "colab": {
          "base_uri": "https://localhost:8080/"
        },
        "id": "JUvzobovJbFu",
        "outputId": "4b5119f8-13ce-4061-866a-73ea53cee518"
      },
      "execution_count": null,
      "outputs": [
        {
          "output_type": "stream",
          "name": "stdout",
          "text": [
            "<class 'list'>\n",
            "<class 'numpy.ndarray'>\n",
            "[1.5 2.4 3.7] float64\n"
          ]
        }
      ]
    },
    {
      "cell_type": "code",
      "source": [
        "list2 = [1, 2, 't']\n",
        "array2 = np.array(list2)\n",
        "print(array2, array2.dtype)   #unicode 21/문자형으로 모두 변환/문자가 정수보다 우선."
      ],
      "metadata": {
        "colab": {
          "base_uri": "https://localhost:8080/"
        },
        "id": "eQjUINhtJ1_z",
        "outputId": "7f66aa69-6284-4379-c162-eafad8549bfd"
      },
      "execution_count": null,
      "outputs": [
        {
          "output_type": "stream",
          "name": "stdout",
          "text": [
            "['1' '2' 't'] <U21\n"
          ]
        }
      ]
    },
    {
      "cell_type": "code",
      "source": [
        "list2 = [1, 2, 3.5, 4]\n",
        "arr2 = np.array(list2)\n",
        "print(arr2, arr2.dtype)  # 실수가 정수보다 우선"
      ],
      "metadata": {
        "colab": {
          "base_uri": "https://localhost:8080/"
        },
        "id": "YyO-ewV4KRcw",
        "outputId": "f0a5fd51-9ba9-452c-b461-b9098c731611"
      },
      "execution_count": null,
      "outputs": [
        {
          "output_type": "stream",
          "name": "stdout",
          "text": [
            "[1.  2.  3.5 4. ] float64\n"
          ]
        }
      ]
    },
    {
      "cell_type": "code",
      "source": [
        "list2 = [1.2, 2.4, 't']\n",
        "arr2 = np.array(list2)\n",
        "print(arr2, arr2.dtype)  # 문자 > 실수 > 정수"
      ],
      "metadata": {
        "colab": {
          "base_uri": "https://localhost:8080/"
        },
        "id": "acPifaQyKkZ_",
        "outputId": "3869924e-402e-4a63-eb2f-304b3fbd252c"
      },
      "execution_count": null,
      "outputs": [
        {
          "output_type": "stream",
          "name": "stdout",
          "text": [
            "['1.2' '2.4' 't'] <U32\n"
          ]
        }
      ]
    },
    {
      "cell_type": "markdown",
      "source": [
        "ㅤ"
      ],
      "metadata": {
        "id": "GnYoHdK3eVHs"
      }
    },
    {
      "cell_type": "markdown",
      "source": [
        "* 서로 다른 데이터 타입이 섞여 있을 경우 데이터 타입이 더 큰 데이터 타입으로 변환됩니다.\n",
        "* 사용하는 아키텍처에 따라 지정되기 때문에\n",
        "int64비트가 기본으로 설정\n",
        "\n",
        "\n",
        "> int형: 8bit, 16bit, 32bit\n",
        "\n",
        "\n",
        "> unsigned int형: 8bit, 16bit, 32bit\n",
        "\n",
        "\n",
        "> float형: 16bit, 32bit, 64bit, 128bit\n",
        "\n",
        "\n",
        "\n",
        "\n",
        "\n",
        "\n",
        "\n",
        "\n",
        "\n"
      ],
      "metadata": {
        "id": "7XuUrUR31N51"
      }
    },
    {
      "cell_type": "markdown",
      "source": [
        "ㅤ"
      ],
      "metadata": {
        "id": "8jvtA_SBeXGA"
      }
    },
    {
      "cell_type": "markdown",
      "source": [
        "* int8 ( -128 ~ 127 )\n",
        "* int16 ( -32768 ~ 32767 )\n",
        "* int32 ( -2147483648 ~ 2147483647 )"
      ],
      "metadata": {
        "id": "lG_S_DkGpQY-"
      }
    },
    {
      "cell_type": "markdown",
      "source": [
        "메모리를 절약해야 할 때 astype()을 사용하여 ndarray 내 데이터값의 타입을 변경할 수 있습니다."
      ],
      "metadata": {
        "id": "hkQHjmT_2mG8"
      }
    },
    {
      "cell_type": "markdown",
      "source": [
        "ㅤ"
      ],
      "metadata": {
        "id": "LRMPWLhLeYWi"
      }
    },
    {
      "cell_type": "markdown",
      "source": [
        "### **2) ndarray를 편리하게 생성하기**\n"
      ],
      "metadata": {
        "id": "WwpZVu7Q3kQ7"
      }
    },
    {
      "cell_type": "markdown",
      "source": [
        "**[ arange() ]**"
      ],
      "metadata": {
        "id": "LjHxuwbKff1J"
      }
    },
    {
      "cell_type": "markdown",
      "source": [
        "arange()는 표준 함수 range()와 유사,\n",
        "데이터 타입 지정하지 않으면 넘파이가 가장 적절한 타입으로 지정.\n",
        "~~~\n",
        "np.arange( 시작번호, 끝번호(포함X), 간격, dtype=데이터타입 )\n",
        "~~~"
      ],
      "metadata": {
        "id": "1Fxatu863uN3"
      }
    },
    {
      "cell_type": "markdown",
      "source": [
        "0부터 함수 인자 값 -1까지의 값을 순차적으로 ndarray의 데이터값으로 변환합니다."
      ],
      "metadata": {
        "id": "umcifAMn4ryG"
      }
    },
    {
      "cell_type": "code",
      "source": [
        "seq_arr = np.arange(10)\n",
        "print(seq_arr,seq_arr.dtype)"
      ],
      "metadata": {
        "colab": {
          "base_uri": "https://localhost:8080/"
        },
        "id": "WfJYlFOTLmlf",
        "outputId": "d37041ef-824c-41b2-c89f-f3b80e56dc6a"
      },
      "execution_count": null,
      "outputs": [
        {
          "output_type": "stream",
          "name": "stdout",
          "text": [
            "[0 1 2 3 4 5 6 7 8 9] int64\n"
          ]
        }
      ]
    },
    {
      "cell_type": "markdown",
      "source": [
        "**[ linspace() ]**\n",
        "\n",
        "범위를 정해주고 정해진 수만큼 분할된 수열 생성"
      ],
      "metadata": {
        "id": "Tn8clfLzrhzH"
      }
    },
    {
      "cell_type": "markdown",
      "source": [
        "~~~\n",
        "np.linspace( 시작번호, 끝번호(포함), 나눌갯수, dtype=데이터타입 )\n",
        "~~~\n",
        "기본 값 실수, arange와 다른점을 끝번호를 포함하여 생성"
      ],
      "metadata": {
        "id": "Rbzer6z6roLt"
      }
    },
    {
      "cell_type": "code",
      "source": [
        "seq_arr = np.linspace(1,100,5,dtype = np.int32)\n",
        "print(seq_arr, seq_arr.dtype)\n",
        "\n",
        "seq_arr2 =np.linspace(1,90,3,dtype = np.int16)\n",
        "print(seq_arr2, seq_arr2.dtype)"
      ],
      "metadata": {
        "colab": {
          "base_uri": "https://localhost:8080/"
        },
        "id": "oMOBcdGfMMCg",
        "outputId": "5ec8aa8a-a4d1-484e-f456-300ec4b29c9b"
      },
      "execution_count": null,
      "outputs": [
        {
          "output_type": "stream",
          "name": "stdout",
          "text": [
            "[  1  25  50  75 100] int32\n",
            "[ 1 45 90] int16\n"
          ]
        }
      ]
    },
    {
      "cell_type": "markdown",
      "source": [
        "ㅤ"
      ],
      "metadata": {
        "id": "e4T6VFEEeaRu"
      }
    },
    {
      "cell_type": "markdown",
      "source": [
        "**[ zeros() ]**"
      ],
      "metadata": {
        "id": "0T1upwBKgASw"
      }
    },
    {
      "cell_type": "markdown",
      "source": [
        "zeros()는 모든 값을 0으로 채운 배열을 만듭니다."
      ],
      "metadata": {
        "id": "THThhjM34uyI"
      }
    },
    {
      "cell_type": "code",
      "source": [
        "zeros = np.zeros(10, dtype = np.int8)\n",
        "print(zeros, zeros.dtype)"
      ],
      "metadata": {
        "colab": {
          "base_uri": "https://localhost:8080/"
        },
        "id": "0TADhNMONJMY",
        "outputId": "244eccbd-8a63-45f0-ac86-ad583a327c40"
      },
      "execution_count": null,
      "outputs": [
        {
          "output_type": "stream",
          "name": "stdout",
          "text": [
            "[0 0 0 0 0 0 0 0 0 0] int8\n"
          ]
        }
      ]
    },
    {
      "cell_type": "code",
      "source": [
        "zeros1 = np.zeros((3,2))\n",
        "print(zeros1)      # 기본은 실수형"
      ],
      "metadata": {
        "colab": {
          "base_uri": "https://localhost:8080/"
        },
        "id": "9hLFMNJvNjs8",
        "outputId": "34310d7d-3f0d-4b91-f368-8de97dcf4a42"
      },
      "execution_count": null,
      "outputs": [
        {
          "output_type": "stream",
          "name": "stdout",
          "text": [
            "[[0. 0.]\n",
            " [0. 0.]\n",
            " [0. 0.]]\n"
          ]
        }
      ]
    },
    {
      "cell_type": "code",
      "source": [
        "zeros2 = np.zeros([3,2])\n",
        "print(zeros2)"
      ],
      "metadata": {
        "colab": {
          "base_uri": "https://localhost:8080/"
        },
        "id": "O64rCIx-Nr4j",
        "outputId": "f6947407-c7df-4806-d202-0fb51d09d0e8"
      },
      "execution_count": null,
      "outputs": [
        {
          "output_type": "stream",
          "name": "stdout",
          "text": [
            "[[0. 0.]\n",
            " [0. 0.]\n",
            " [0. 0.]]\n"
          ]
        }
      ]
    },
    {
      "cell_type": "markdown",
      "source": [
        "ㅤ"
      ],
      "metadata": {
        "id": "BKe_LmKFecVp"
      }
    },
    {
      "cell_type": "markdown",
      "source": [
        "**[ ones() ]**"
      ],
      "metadata": {
        "id": "FphezyjhgDfO"
      }
    },
    {
      "cell_type": "markdown",
      "source": [
        "ones()는 모든 값을 1로 채운 배열을 만듭니다."
      ],
      "metadata": {
        "id": "DThhde6O5lgB"
      }
    },
    {
      "cell_type": "code",
      "source": [
        "one1 = np.ones((3,2))\n",
        "print(one1)"
      ],
      "metadata": {
        "colab": {
          "base_uri": "https://localhost:8080/"
        },
        "id": "zzQhHcRFN3n1",
        "outputId": "ed37f73b-7ca7-471e-f16a-f8c434fe052d"
      },
      "execution_count": null,
      "outputs": [
        {
          "output_type": "stream",
          "name": "stdout",
          "text": [
            "[[1. 1.]\n",
            " [1. 1.]\n",
            " [1. 1.]]\n"
          ]
        }
      ]
    },
    {
      "cell_type": "code",
      "source": [
        "one2 = np.ones([3,2])\n",
        "print(one2)"
      ],
      "metadata": {
        "colab": {
          "base_uri": "https://localhost:8080/"
        },
        "id": "Z9fTeUyHODpk",
        "outputId": "e9fdc357-0786-425d-a684-de03359c28b0"
      },
      "execution_count": null,
      "outputs": [
        {
          "output_type": "stream",
          "name": "stdout",
          "text": [
            "[[1. 1.]\n",
            " [1. 1.]\n",
            " [1. 1.]]\n"
          ]
        }
      ]
    },
    {
      "cell_type": "markdown",
      "source": [
        "ㅤ"
      ],
      "metadata": {
        "id": "QgmpkAf5edxJ"
      }
    },
    {
      "cell_type": "markdown",
      "source": [
        "**[ random.randn() ]**"
      ],
      "metadata": {
        "id": "CRaBQ4vRgFvM"
      }
    },
    {
      "cell_type": "markdown",
      "source": [
        "random.randn()는 랜덤한 숫자 배열을 만듭니다."
      ],
      "metadata": {
        "id": "pkBAKXPi5ueu"
      }
    },
    {
      "cell_type": "code",
      "source": [
        "rd = np.random.randn(3,2)  # d.type 지정 불가\n",
        "print(rd)"
      ],
      "metadata": {
        "colab": {
          "base_uri": "https://localhost:8080/"
        },
        "id": "NzK2SeAaOVdq",
        "outputId": "8242cb0d-b509-4674-f77c-3648b8ce4134"
      },
      "execution_count": null,
      "outputs": [
        {
          "output_type": "stream",
          "name": "stdout",
          "text": [
            "[[-1.94995644  0.24110173]\n",
            " [ 0.60013698  0.68628113]\n",
            " [-0.86569761 -1.84358325]]\n"
          ]
        }
      ]
    },
    {
      "cell_type": "markdown",
      "source": [
        "ㅤ"
      ],
      "metadata": {
        "id": "T0g6eAzYefbN"
      }
    },
    {
      "cell_type": "markdown",
      "source": [
        "## **3. 차원과 크기 변경: reshape()**"
      ],
      "metadata": {
        "id": "3Jrc0vHq7E9X"
      }
    },
    {
      "cell_type": "markdown",
      "source": [
        "ndarray를 특정 차원 및 크기로 변환합니다."
      ],
      "metadata": {
        "id": "YZ2mPWrlS5g9"
      }
    },
    {
      "cell_type": "markdown",
      "source": [
        "지정된 사이즈로 변경이 불가능하면 오류가 발생합니다."
      ],
      "metadata": {
        "id": "V2KgtItWUhIw"
      }
    },
    {
      "cell_type": "markdown",
      "source": [
        "####배열의 차원 확인(뒤에 괄호 붙이지 않음)\n",
        "\n",
        "~~~\n",
        "배열이름.ndim\n",
        "~~~"
      ],
      "metadata": {
        "id": "n1-iX6KCsu61"
      }
    },
    {
      "cell_type": "code",
      "source": [
        "a1 = np.array([1,2,3,4,5])\n",
        "a2 = np.array([[1,2,3,4,5],[1,2,3,4,5]])\n",
        "a3 = np.array([[[1,2,3],[1,2,3]],[[1,2,3],[1,2,3]],[[1,2,3],[1,2,3]]])\n",
        "print(a1.ndim)\n",
        "print(a2.ndim)\n",
        "print(a3.ndim)"
      ],
      "metadata": {
        "colab": {
          "base_uri": "https://localhost:8080/"
        },
        "id": "_qQTfFJeO4om",
        "outputId": "d9e2b793-cc6a-4d75-c913-415e230cfe05"
      },
      "execution_count": null,
      "outputs": [
        {
          "output_type": "stream",
          "name": "stdout",
          "text": [
            "1\n",
            "2\n",
            "3\n"
          ]
        }
      ]
    },
    {
      "cell_type": "markdown",
      "source": [
        "####배열의 크기\n",
        "~~~\n",
        "배열이름.shape\n",
        "~~~"
      ],
      "metadata": {
        "id": "H7nijyNjtHs3"
      }
    },
    {
      "cell_type": "code",
      "source": [
        "print(a1.shape)\n",
        "print(a2.shape)\n",
        "print(a3.shape)"
      ],
      "metadata": {
        "colab": {
          "base_uri": "https://localhost:8080/"
        },
        "id": "Nk34KcYPPwEs",
        "outputId": "9b3a3041-bcc5-4071-9566-30c6dde0d357"
      },
      "execution_count": null,
      "outputs": [
        {
          "output_type": "stream",
          "name": "stdout",
          "text": [
            "(5,)\n",
            "(2, 5)\n",
            "(3, 2, 3)\n"
          ]
        }
      ]
    },
    {
      "cell_type": "markdown",
      "source": [
        "####배열의 차원 바꾸기\n",
        "~~~\n",
        "배열이름.reshape(행, 열)\n",
        "~~~"
      ],
      "metadata": {
        "id": "LosLOgqwtl2p"
      }
    },
    {
      "cell_type": "code",
      "source": [
        "arr1 = np.arange(10)\n",
        "print(arr1)\n",
        "\n",
        "arr2 = arr1.reshape(2, 5)\n",
        "print(arr2)\n",
        "\n",
        "#arr3 = arr1.reshape(3,3)\n",
        "#print(arr3)\n",
        "# 에러"
      ],
      "metadata": {
        "colab": {
          "base_uri": "https://localhost:8080/"
        },
        "id": "TrBWoqvYQHmc",
        "outputId": "26e06f50-2aa8-4c25-d696-30d69fbbc2fa"
      },
      "execution_count": null,
      "outputs": [
        {
          "output_type": "stream",
          "name": "stdout",
          "text": [
            "[0 1 2 3 4 5 6 7 8 9]\n",
            "[[0 1 2 3 4]\n",
            " [5 6 7 8 9]]\n"
          ]
        }
      ]
    },
    {
      "cell_type": "markdown",
      "source": [
        "ㅤ"
      ],
      "metadata": {
        "id": "63hp-RG7eikA"
      }
    },
    {
      "cell_type": "markdown",
      "source": [
        "* 행이나 열중 하나의 갯수만 정하고 나머지는 정하기 힘들때\n",
        "행,열 자리에 -1 입력,\n",
        "* reshape(-1, 1)을 이용해 3차원을 2차원으로 2차원을 1차원으로 변경할 수 있습니다."
      ],
      "metadata": {
        "id": "isKQ11_GZUn3"
      }
    },
    {
      "cell_type": "markdown",
      "source": [
        "####행과 열을 바꾸기\n",
        "~~~\n",
        "배열이름.T\n",
        "~~~"
      ],
      "metadata": {
        "id": "rlRG2nj9vKT-"
      }
    },
    {
      "cell_type": "code",
      "source": [
        "arr = np.array([[1,2,3],[4,5,6]])\n",
        "print(arr)\n",
        "arr1 = arr.T\n",
        "print(arr1)"
      ],
      "metadata": {
        "colab": {
          "base_uri": "https://localhost:8080/"
        },
        "id": "F5gAGZtnSmwq",
        "outputId": "18d1b682-f5eb-4ae2-ad93-784ef436fad6"
      },
      "execution_count": null,
      "outputs": [
        {
          "output_type": "stream",
          "name": "stdout",
          "text": [
            "[[1 2 3]\n",
            " [4 5 6]]\n",
            "[[1 4]\n",
            " [2 5]\n",
            " [3 6]]\n"
          ]
        }
      ]
    },
    {
      "cell_type": "markdown",
      "source": [
        "####배열  연결하기\n",
        "* 같은 행인 배열 연결하기\n",
        "~~~\n",
        "np.hstack([배열1, 배열2])\n",
        "~~~\n",
        "\n",
        "* 같은 열인 배열 연결하기\n",
        "~~~\n",
        "np.vstack([배열1, 배열2])\n",
        "~~~"
      ],
      "metadata": {
        "id": "-2mqVjSCvgdZ"
      }
    },
    {
      "cell_type": "markdown",
      "source": [
        "ㅤ"
      ],
      "metadata": {
        "id": "y7CL5vOdekTB"
      }
    },
    {
      "cell_type": "markdown",
      "source": [
        "## **4. 데이터 세트 선택하기: 인덱싱(Indexing)**"
      ],
      "metadata": {
        "id": "_pJuaw6daHti"
      }
    },
    {
      "cell_type": "markdown",
      "source": [
        "### **1) 단일 값 추출**"
      ],
      "metadata": {
        "id": "Q-6sGHOMahqm"
      }
    },
    {
      "cell_type": "markdown",
      "source": [
        "객체에 해당하는 위치의 인덱스 값을 [ ]안에 입력합니다."
      ],
      "metadata": {
        "id": "8nvenAR5avvr"
      }
    },
    {
      "cell_type": "markdown",
      "source": [
        "ㅤ"
      ],
      "metadata": {
        "id": "EBDa3i2Del6w"
      }
    },
    {
      "cell_type": "code",
      "source": [
        "arr = np.arange(1,10)\n",
        "print(arr)\n",
        "print(arr[2])\n",
        "print(arr[-1])\n",
        "print(arr[-2])"
      ],
      "metadata": {
        "colab": {
          "base_uri": "https://localhost:8080/"
        },
        "id": "x5kIjynkTCJ1",
        "outputId": "21397adf-5791-4ff9-95ee-6e30f06caef8"
      },
      "execution_count": null,
      "outputs": [
        {
          "output_type": "stream",
          "name": "stdout",
          "text": [
            "[1 2 3 4 5 6 7 8 9]\n",
            "3\n",
            "9\n",
            "8\n"
          ]
        }
      ]
    },
    {
      "cell_type": "markdown",
      "source": [
        "단일 인덱스를 이용해 데이터값 수정도 가능합니다."
      ],
      "metadata": {
        "id": "qiwc_-mKbnw2"
      }
    },
    {
      "cell_type": "markdown",
      "source": [
        "ㅤ"
      ],
      "metadata": {
        "id": "ZEg2eolUen-Q"
      }
    },
    {
      "cell_type": "code",
      "source": [
        "arr[0] = 10\n",
        "print(arr)"
      ],
      "metadata": {
        "colab": {
          "base_uri": "https://localhost:8080/"
        },
        "id": "UO1mLaQhTfiE",
        "outputId": "9ffe2c6c-9190-4bad-c3fd-e3a30419f1ac"
      },
      "execution_count": null,
      "outputs": [
        {
          "output_type": "stream",
          "name": "stdout",
          "text": [
            "[10  2  3  4  5  6  7  8  9]\n"
          ]
        }
      ]
    },
    {
      "cell_type": "markdown",
      "source": [
        "다차원에서 단일 값을 추출할 수 있습니다."
      ],
      "metadata": {
        "id": "IFJPRXbHckYA"
      }
    },
    {
      "cell_type": "code",
      "source": [
        "arr2 = arr.reshape(3,3)\n",
        "print(arr2)\n",
        "print(arr2[0,0])\n",
        "print(arr2[0,1])\n",
        "print(arr2[1,1])"
      ],
      "metadata": {
        "colab": {
          "base_uri": "https://localhost:8080/"
        },
        "id": "scO4sOQhTqbO",
        "outputId": "60f4819f-4dda-4d8e-82f7-de1ba7a01014"
      },
      "execution_count": null,
      "outputs": [
        {
          "output_type": "stream",
          "name": "stdout",
          "text": [
            "[[10  2  3]\n",
            " [ 4  5  6]\n",
            " [ 7  8  9]]\n",
            "10\n",
            "2\n",
            "5\n"
          ]
        }
      ]
    },
    {
      "cell_type": "markdown",
      "source": [
        "ㅤ"
      ],
      "metadata": {
        "id": "oMsktWzQepaw"
      }
    },
    {
      "cell_type": "markdown",
      "source": [
        "ㅤ"
      ],
      "metadata": {
        "id": "svq_rNFAeqXJ"
      }
    },
    {
      "cell_type": "markdown",
      "source": [
        "### **2) 슬라이싱(Slicing)**"
      ],
      "metadata": {
        "id": "jYcrugElkv9d"
      }
    },
    {
      "cell_type": "markdown",
      "source": [
        ": 를 이용하여 연속 데이터를 추출합니다."
      ],
      "metadata": {
        "id": "4hFpTLcEk0dZ"
      }
    },
    {
      "cell_type": "markdown",
      "source": [
        "\n",
        "\n",
        "1.   : 기호 앞에 시작 인덱스를 생략하면 자동으로 맨 처음 인덱스인 0으로 간주합니다.\n",
        "2.   : 기호 뒤에 종료 인덱스를 생략하면 자동으로 맨 마지막 인덱스로 간주합니다.\n",
        "3.   : 기호 앞/뒤에 시작/종료 인덱스를 생략하면 자동으로 맨 처음/맨 마지막 인덱스로 간주합니다.\n",
        "\n"
      ],
      "metadata": {
        "id": "Li2toXC9TdHL"
      }
    },
    {
      "cell_type": "code",
      "source": [
        "arr = np.arange(1,10)\n",
        "print(arr)\n",
        "print(arr[0:2])\n",
        "print(arr[0:])\n",
        "print(arr[2:])"
      ],
      "metadata": {
        "colab": {
          "base_uri": "https://localhost:8080/"
        },
        "id": "L9yEgzHlUR_v",
        "outputId": "c6a327d1-2bbf-4bb4-eed2-ba1cced2c5b1"
      },
      "execution_count": null,
      "outputs": [
        {
          "output_type": "stream",
          "name": "stdout",
          "text": [
            "[1 2 3 4 5 6 7 8 9]\n",
            "[1 2]\n",
            "[1 2 3 4 5 6 7 8 9]\n",
            "[3 4 5 6 7 8 9]\n"
          ]
        }
      ]
    },
    {
      "cell_type": "markdown",
      "source": [
        "ㅤ"
      ],
      "metadata": {
        "id": "x1NAeDuoerzy"
      }
    },
    {
      "cell_type": "markdown",
      "source": [
        "2차원 ndarray에서 슬라이싱으로 데이터에 접근할 때는 콤마(,)로 행과 열 인덱스를 지칭합니다."
      ],
      "metadata": {
        "id": "6wFckcFjUjD5"
      }
    },
    {
      "cell_type": "code",
      "source": [
        "arr1 = arr.reshape(3,3)\n",
        "print(arr1)\n",
        "print('-'*30)\n",
        "print(arr1[0:2])\n"
      ],
      "metadata": {
        "colab": {
          "base_uri": "https://localhost:8080/"
        },
        "id": "pspAjEpVU3Ah",
        "outputId": "6470bfc2-61d5-496d-f207-7165ae979782"
      },
      "execution_count": null,
      "outputs": [
        {
          "output_type": "stream",
          "name": "stdout",
          "text": [
            "[[1 2 3]\n",
            " [4 5 6]\n",
            " [7 8 9]]\n",
            "------------------------------\n",
            "[[1 2 3]\n",
            " [4 5 6]]\n"
          ]
        }
      ]
    },
    {
      "cell_type": "markdown",
      "source": [
        "ㅤ"
      ],
      "metadata": {
        "id": "CinHnQ14es4b"
      }
    },
    {
      "cell_type": "markdown",
      "source": [
        "2차원 배열안에 있는 1차원 배열들 중에서 0번째와 1번째 배열을 가져옵니다."
      ],
      "metadata": {
        "id": "MH98R8EOkpeG"
      }
    },
    {
      "cell_type": "markdown",
      "source": [
        "ㅤ"
      ],
      "metadata": {
        "id": "r9zVm6xOet-N"
      }
    },
    {
      "cell_type": "markdown",
      "source": [
        "2차원 배열안에 있는 1차원 배열들 중에서 0번째부터 2번째까지 가져오고 가져온 1차원 배열 안에서 1번째부터 2번째까지 가져옵니다."
      ],
      "metadata": {
        "id": "td--N5fEk7JN"
      }
    },
    {
      "cell_type": "markdown",
      "source": [
        "ㅤ"
      ],
      "metadata": {
        "id": "SxeucqAoevY2"
      }
    },
    {
      "cell_type": "markdown",
      "source": [
        "2차원 배열안에 있는 1차원 배열들 중에서 1번째부터 맨 마지막번째까지 가져오고 가져온 1차원 배열안에서 맨 처음부터 1번째까지 가져옵니다."
      ],
      "metadata": {
        "id": "ULux28Eylfy0"
      }
    },
    {
      "cell_type": "markdown",
      "source": [
        "ㅤ"
      ],
      "metadata": {
        "id": "2Vs3jakrewoj"
      }
    },
    {
      "cell_type": "markdown",
      "source": [
        "2차원 배열안에 있는 1차원 배열들 중에서 0번째부터 2번째까지 가져오고 가져온 1차원 배열안에서 0번째까지 가져옵니다."
      ],
      "metadata": {
        "id": "p6RSg6w8mNYd"
      }
    },
    {
      "cell_type": "markdown",
      "source": [
        "ㅤ"
      ],
      "metadata": {
        "id": "LKcq9Wjnexh7"
      }
    },
    {
      "cell_type": "markdown",
      "source": [
        "### **3) 팬시 인덱싱**\n",
        "\n",
        "\n",
        "\n"
      ],
      "metadata": {
        "id": "BAnhYHvNmdg_"
      }
    },
    {
      "cell_type": "markdown",
      "source": [
        "리스트나 ndarray로 인덱스 집합을 지정하면 해당 위치의 인덱스에 해당하는 ndarray를 반환합니다."
      ],
      "metadata": {
        "id": "V_57eKJimyUu"
      }
    },
    {
      "cell_type": "markdown",
      "source": [
        "ㅤ"
      ],
      "metadata": {
        "id": "aO5JYHxKeyls"
      }
    },
    {
      "cell_type": "markdown",
      "source": [
        "### **4) 불린 인덱싱**"
      ],
      "metadata": {
        "id": "irvxDJMFoBJP"
      }
    },
    {
      "cell_type": "markdown",
      "source": [
        "조건 필터링과 검색을 동시에 할 수 있기 때문에 매우 자주 사용됩니다."
      ],
      "metadata": {
        "id": "ZuF31bqyoG-r"
      }
    },
    {
      "cell_type": "markdown",
      "source": [
        "* 1차원 불리언 배열 인덱싱\n",
        "--  [ ]대괄호안에 숫자나, 범위를 넣어주는것이 아니라 Boolean을 넣어줌\n",
        "-- Boolean은 True(1) , False(0)으로 만 이루어져있는 자료형\n",
        "-- 불리언 인덱싱을 사용할때 주의할점은 불리언배열과 인덱싱할배열이 같은 크기여야"
      ],
      "metadata": {
        "id": "mTnpbH1w5ZgI"
      }
    },
    {
      "cell_type": "code",
      "source": [
        "a = [1,2]\n",
        "b = [1,2]\n",
        "print(a==b)\n",
        "print(a is b)\n",
        "print(id(a),id(b))"
      ],
      "metadata": {
        "colab": {
          "base_uri": "https://localhost:8080/"
        },
        "id": "lHmaV35IVU2o",
        "outputId": "a2fff1c6-7597-4646-b5d1-d0836b01a834"
      },
      "execution_count": null,
      "outputs": [
        {
          "output_type": "stream",
          "name": "stdout",
          "text": [
            "True\n",
            "False\n",
            "136164687526464 136165053930816\n"
          ]
        }
      ]
    },
    {
      "cell_type": "code",
      "source": [
        "arr = np.array([0,1,2,3,4,5])\n",
        "arr2 = np.array([False, True, False, True, False, True])\n",
        "arr[arr2]    # 두 배열의 크기가 같아야지만 쓸 수 있다."
      ],
      "metadata": {
        "colab": {
          "base_uri": "https://localhost:8080/"
        },
        "id": "VgNzMmvmVqKW",
        "outputId": "771e7cb9-0a08-41b8-fbce-a3ed769e1c51"
      },
      "execution_count": null,
      "outputs": [
        {
          "output_type": "execute_result",
          "data": {
            "text/plain": [
              "array([1, 3, 5])"
            ]
          },
          "metadata": {},
          "execution_count": 66
        }
      ]
    },
    {
      "cell_type": "code",
      "source": [
        "boolean = arr[arr>3]\n",
        "print(boolean)"
      ],
      "metadata": {
        "colab": {
          "base_uri": "https://localhost:8080/"
        },
        "id": "1XUG3PnAWMwj",
        "outputId": "acb2fe71-3bc8-4bba-c68e-590fd6bbc038"
      },
      "execution_count": null,
      "outputs": [
        {
          "output_type": "stream",
          "name": "stdout",
          "text": [
            "[4 5]\n"
          ]
        }
      ]
    },
    {
      "cell_type": "code",
      "source": [
        "boolean = arr[(arr>3) & (arr%2 ==0)]\n",
        "print(boolean)     # 복합 조건도 가능하다."
      ],
      "metadata": {
        "colab": {
          "base_uri": "https://localhost:8080/"
        },
        "id": "D9LWB75-WZPF",
        "outputId": "d0415702-101b-4438-bbfb-878f2f4cd50a"
      },
      "execution_count": null,
      "outputs": [
        {
          "output_type": "stream",
          "name": "stdout",
          "text": [
            "[4]\n"
          ]
        }
      ]
    },
    {
      "cell_type": "markdown",
      "source": [
        "ㅤ"
      ],
      "metadata": {
        "id": "ORJAO10PezkI"
      }
    },
    {
      "cell_type": "markdown",
      "source": [
        "## **5. 행렬의 정렬  - sort()와 argsort()**"
      ],
      "metadata": {
        "id": "IEVa5mmGq3gv"
      }
    },
    {
      "cell_type": "markdown",
      "source": [
        "### **1) 행렬 정렬**"
      ],
      "metadata": {
        "id": "JaPabgJoq8GA"
      }
    },
    {
      "cell_type": "markdown",
      "source": [
        "\n",
        "\n",
        "*   np.sort() : 원본 행렬은 그대로 유지한 채 원 행렬의 정렬된 행렬을 반환합니다.\n",
        "*   ndarray.sort() : 원본 행렬 자체를 정렬합니다. 반환 값은 None 입니다.\n",
        "\n"
      ],
      "metadata": {
        "id": "yArKtZtsrHyF"
      }
    },
    {
      "cell_type": "code",
      "source": [
        "org_arr = np.array([4,2,8,6])\n",
        "print(org_arr)\n",
        "print(np.sort(org_arr))   # 기본적으로 오름차순\n",
        "print(org_arr)            # 원본 값이 변경되지 않음.\n",
        "print(org_arr.sort())     # 반환 값 없음\n",
        "print(org_arr)            # 원본 자체를 정렬, 값을 바꿈"
      ],
      "metadata": {
        "colab": {
          "base_uri": "https://localhost:8080/"
        },
        "id": "zcZUmLuNW1xl",
        "outputId": "a579aaac-0a85-4869-d38d-d9df9cb6114b"
      },
      "execution_count": null,
      "outputs": [
        {
          "output_type": "stream",
          "name": "stdout",
          "text": [
            "[4 2 8 6]\n",
            "[2 4 6 8]\n",
            "[4 2 8 6]\n",
            "None\n",
            "[2 4 6 8]\n"
          ]
        }
      ]
    },
    {
      "cell_type": "markdown",
      "source": [
        "ㅤ"
      ],
      "metadata": {
        "id": "lhIsN_Dfe0l7"
      }
    },
    {
      "cell_type": "markdown",
      "source": [
        "내림차순으로 반환하기 위해서는 np.sort에서 다음과 같이 [::-1]을 붙여줍니다."
      ],
      "metadata": {
        "id": "u_xfeiGhtSR2"
      }
    },
    {
      "cell_type": "code",
      "source": [
        "print(np.sort(org_arr)[::-1])"
      ],
      "metadata": {
        "colab": {
          "base_uri": "https://localhost:8080/"
        },
        "id": "Yf-vYsMSX19n",
        "outputId": "188bf6dc-9a3f-4665-ad23-ca79536d2e29"
      },
      "execution_count": null,
      "outputs": [
        {
          "output_type": "stream",
          "name": "stdout",
          "text": [
            "[8 6 4 2]\n"
          ]
        }
      ]
    },
    {
      "cell_type": "markdown",
      "source": [
        "ㅤ"
      ],
      "metadata": {
        "id": "aqYuHFBxe1pz"
      }
    },
    {
      "cell_type": "markdown",
      "source": [
        "2차원 배열은 axis 축 값 설정을 통해 행열 정렬을 수행합니다.\n",
        "\n",
        "*   axis = 0 : 행 방향\n",
        "*   axis = 1 : 열 방향\n",
        "* 오름차순 :\n",
        "-- 2차원배열 행기준 : np.sort(배열, axis=0)\n",
        "-- 2차원배열 열기준 : np.sort(배열, axis=1)\n",
        "* 내림차순 :\n",
        "-- 행기준 : np.sort(배열, axis=0)[::-1]\n",
        "-- 열기준 : np.sort(배열, axis=1)[::-1]\n",
        "\n",
        "\n"
      ],
      "metadata": {
        "id": "NfcC_3HOt9-3"
      }
    },
    {
      "cell_type": "markdown",
      "source": [
        "ㅤ"
      ],
      "metadata": {
        "id": "sb89CKsme2o9"
      }
    },
    {
      "cell_type": "markdown",
      "source": [
        "### **2) np.argsort() : 정렬된 행렬의 인덱스를 반환하기**"
      ],
      "metadata": {
        "id": "xfp0IkmJvjzO"
      }
    },
    {
      "cell_type": "markdown",
      "source": [
        "argsort()는 넘파이에서 매우 활용도가 높습니다."
      ],
      "metadata": {
        "id": "CC7vy0rmwotV"
      }
    },
    {
      "cell_type": "code",
      "source": [
        "print(np.argsort(org_arr))\n",
        "print(np.argsort(org_arr)[::-1])"
      ],
      "metadata": {
        "colab": {
          "base_uri": "https://localhost:8080/"
        },
        "id": "HYjI9xsqX_mR",
        "outputId": "9f737e22-0ca5-44db-b1f0-e6037bea1739"
      },
      "execution_count": null,
      "outputs": [
        {
          "output_type": "stream",
          "name": "stdout",
          "text": [
            "[0 1 2 3]\n",
            "[3 2 1 0]\n"
          ]
        }
      ]
    },
    {
      "cell_type": "markdown",
      "source": [
        "ㅤ"
      ],
      "metadata": {
        "id": "HeNdp4V8e3wy"
      }
    },
    {
      "cell_type": "markdown",
      "source": [
        "np.argsort 역시 np.sort와 마찬가지로 내림차순 반환이 가능합니다."
      ],
      "metadata": {
        "id": "SS_5afeBwVXf"
      }
    },
    {
      "cell_type": "markdown",
      "source": [
        "ㅤ"
      ],
      "metadata": {
        "id": "CZbPxd9ze47K"
      }
    },
    {
      "cell_type": "markdown",
      "source": [
        "## **7. 배열 간 사칙연산**"
      ],
      "metadata": {
        "id": "bHvEmmTy_NQi"
      }
    },
    {
      "cell_type": "markdown",
      "source": [
        "동일한 모양의 두 배열을 사칙연산합니다.(배열 두개만 가능)\n",
        "* 두 배열 더하기 : np.add(배열1, 배열2)\n",
        "* 두 배열 빼기 : np.subtract(배열1, 배열2)\n",
        "* 두 배열 곱하기 : np.multiply(배열1, 배열2)\n",
        "* 두 배열 나누기 : np.divide(배열1, 배열2)"
      ],
      "metadata": {
        "id": "tkw_sFCu_S3v"
      }
    },
    {
      "cell_type": "code",
      "source": [
        "arr = np.array([[11,12,13],[2,3,4]])\n",
        "print(arr)\n",
        "print('-'*20)\n",
        "print(arr+arr)\n",
        "print('-'*20)\n",
        "print(arr-arr)\n",
        "print('-'*20)\n",
        "print(arr/arr)\n",
        "print('-'*20)\n",
        "print(arr*arr)"
      ],
      "metadata": {
        "colab": {
          "base_uri": "https://localhost:8080/"
        },
        "id": "kWuIOUT8YiQs",
        "outputId": "828ee14e-e51f-47a9-e8d4-226cae9fcd8a"
      },
      "execution_count": null,
      "outputs": [
        {
          "output_type": "stream",
          "name": "stdout",
          "text": [
            "[[11 12 13]\n",
            " [ 2  3  4]]\n",
            "--------------------\n",
            "[[22 24 26]\n",
            " [ 4  6  8]]\n",
            "--------------------\n",
            "[[0 0 0]\n",
            " [0 0 0]]\n",
            "--------------------\n",
            "[[1. 1. 1.]\n",
            " [1. 1. 1.]]\n",
            "--------------------\n",
            "[[121 144 169]\n",
            " [  4   9  16]]\n"
          ]
        }
      ]
    },
    {
      "cell_type": "code",
      "source": [
        "a = np.array([1,2,3])\n",
        "b = np.array([3,2,1])\n",
        "sum = np.add(a,b)\n",
        "print(sum)\n",
        "sub = np.subtract(a,b)\n",
        "print(sub)\n",
        "multi = np.multiply(a,b)\n",
        "print(multi)\n",
        "div = np.divide(a,b)\n",
        "print(div)"
      ],
      "metadata": {
        "colab": {
          "base_uri": "https://localhost:8080/"
        },
        "id": "HCwjveFdZFN0",
        "outputId": "aa92b03f-f61c-40bc-d6e0-01da8d7561d6"
      },
      "execution_count": null,
      "outputs": [
        {
          "output_type": "stream",
          "name": "stdout",
          "text": [
            "[4 4 4]\n",
            "[-2  0  2]\n",
            "[3 4 3]\n",
            "[0.33333333 1.         3.        ]\n"
          ]
        }
      ]
    },
    {
      "cell_type": "markdown",
      "source": [
        "배열 내 같은 위치의 원소끼리 연산을 합니다."
      ],
      "metadata": {
        "id": "_ukpSUFl_y2O"
      }
    },
    {
      "cell_type": "markdown",
      "source": [
        "* == 사용해서 같은 값인지 비교"
      ],
      "metadata": {
        "id": "QvmlPe0sylIE"
      }
    },
    {
      "cell_type": "code",
      "source": [
        "a == b"
      ],
      "metadata": {
        "colab": {
          "base_uri": "https://localhost:8080/"
        },
        "id": "dIDb-o81Zqam",
        "outputId": "a1bf97e3-fb00-42c4-b956-849581ed6e0f"
      },
      "execution_count": null,
      "outputs": [
        {
          "output_type": "execute_result",
          "data": {
            "text/plain": [
              "array([False,  True, False])"
            ]
          },
          "metadata": {},
          "execution_count": 84
        }
      ]
    },
    {
      "cell_type": "markdown",
      "source": [
        "배열 비교해 최대값과 최소값을 찾기  ※ 배열두개만 가능\n",
        "* 두 배열중 최대값 : np.maximum(배열1, 배열2)\n",
        "* 두 배열중 최소값 : np.minimum(배열1, 배열2)"
      ],
      "metadata": {
        "id": "MeL2Yq2gzWoA"
      }
    },
    {
      "cell_type": "code",
      "source": [
        "print(np.maximum(a,b))\n",
        "print(np.minimum(a,b))"
      ],
      "metadata": {
        "colab": {
          "base_uri": "https://localhost:8080/"
        },
        "id": "ROd-7vUvZ0xE",
        "outputId": "43d1e9aa-1692-4363-a40e-e0853a96d2db"
      },
      "execution_count": null,
      "outputs": [
        {
          "output_type": "stream",
          "name": "stdout",
          "text": [
            "[3 2 3]\n",
            "[1 2 1]\n"
          ]
        }
      ]
    },
    {
      "cell_type": "markdown",
      "source": [
        "ㅤ"
      ],
      "metadata": {
        "id": "QvHQQCRae8vK"
      }
    },
    {
      "cell_type": "markdown",
      "source": [
        "## **8. Broadcasting**"
      ],
      "metadata": {
        "id": "_4EstB5J_8Xo"
      }
    },
    {
      "cell_type": "markdown",
      "source": [
        "배열과 1개의 숫자를 사칙 연산합니다."
      ],
      "metadata": {
        "id": "zKpD4G62AC3_"
      }
    },
    {
      "cell_type": "code",
      "source": [
        "print(a)\n",
        "print(a+13)\n"
      ],
      "metadata": {
        "colab": {
          "base_uri": "https://localhost:8080/"
        },
        "id": "Y7EIp1zbaFx-",
        "outputId": "a2eaed7a-1bee-43e9-ee38-0c47c64fcfa0"
      },
      "execution_count": null,
      "outputs": [
        {
          "output_type": "stream",
          "name": "stdout",
          "text": [
            "[1 2 3]\n",
            "[14 15 16]\n"
          ]
        }
      ]
    },
    {
      "cell_type": "markdown",
      "source": [
        "ㅤ"
      ],
      "metadata": {
        "id": "s6iJZo5he9zp"
      }
    },
    {
      "cell_type": "markdown",
      "source": [
        "같은 수의 행과 열을 가진 여러 개의 배열을 연산할 수도 있습니다."
      ],
      "metadata": {
        "id": "fKulZx_KPHKs"
      }
    },
    {
      "cell_type": "code",
      "source": [
        "a1 = np.array([[1,2,3],[4,5,6],[7,8,9]])\n",
        "a2 = np.array([[1,2,3],[5,7,1],[1,2,2]])\n",
        "print(a1)\n",
        "print('-'*20)\n",
        "print(a2)\n",
        "print('-'*20)\n",
        "print(a1+a2)"
      ],
      "metadata": {
        "colab": {
          "base_uri": "https://localhost:8080/"
        },
        "id": "FBcGei8iaZRR",
        "outputId": "a8f35211-d177-4af8-9ba9-0dac00563976"
      },
      "execution_count": null,
      "outputs": [
        {
          "output_type": "stream",
          "name": "stdout",
          "text": [
            "[[1 2 3]\n",
            " [4 5 6]\n",
            " [7 8 9]]\n",
            "--------------------\n",
            "[[1 2 3]\n",
            " [5 7 1]\n",
            " [1 2 2]]\n",
            "--------------------\n",
            "[[ 2  4  6]\n",
            " [ 9 12  7]\n",
            " [ 8 10 11]]\n"
          ]
        }
      ]
    },
    {
      "cell_type": "markdown",
      "source": [
        "ㅤ"
      ],
      "metadata": {
        "id": "Hg3cu1y4e-3z"
      }
    },
    {
      "cell_type": "markdown",
      "source": [
        "다른 형태의 배열끼리도 연산이 가능합니다."
      ],
      "metadata": {
        "id": "MaRNmHiYly6z"
      }
    },
    {
      "cell_type": "markdown",
      "source": [
        "ㅤ"
      ],
      "metadata": {
        "id": "eAKtLnFDfAUw"
      }
    },
    {
      "cell_type": "markdown",
      "source": [
        "## **9. 집계(Aggregation)**"
      ],
      "metadata": {
        "id": "DTvFnzXVBLvR"
      }
    },
    {
      "cell_type": "markdown",
      "source": [
        "### **1) 합계**"
      ],
      "metadata": {
        "id": "EgraYbRcK2gn"
      }
    },
    {
      "cell_type": "markdown",
      "source": [
        "배열의 합계는 .sum() 을 이용합니다."
      ],
      "metadata": {
        "id": "57yTlUOwLL0h"
      }
    },
    {
      "cell_type": "code",
      "source": [
        "a = np.array([1,2,3,4,5])\n",
        "\n",
        "print(a.sum())\n",
        "print(a.cumsum())"
      ],
      "metadata": {
        "colab": {
          "base_uri": "https://localhost:8080/"
        },
        "id": "k_cFE4PxbBf-",
        "outputId": "ad5f454d-f7ec-4bdc-f1fe-776dc2cb30e5"
      },
      "execution_count": null,
      "outputs": [
        {
          "output_type": "stream",
          "name": "stdout",
          "text": [
            "15\n",
            "[ 1  3  6 10 15]\n"
          ]
        }
      ]
    },
    {
      "cell_type": "markdown",
      "source": [
        "누적합계는 .cumsum() 이용"
      ],
      "metadata": {
        "id": "QnsYporrzrWb"
      }
    },
    {
      "cell_type": "markdown",
      "source": [
        "ㅤ"
      ],
      "metadata": {
        "id": "Mp16gTO-fBuF"
      }
    },
    {
      "cell_type": "markdown",
      "source": [
        "축을 설정하여 열 방향 혹은 행 방향으로만 더할 수 있습니다."
      ],
      "metadata": {
        "id": "E9fhAlObNdok"
      }
    },
    {
      "cell_type": "code",
      "source": [
        "print(a.sum(axis = 0))    #행방향\n",
        "print(a.sum(axix = 1))    #열방향"
      ],
      "metadata": {
        "id": "3OJbWvk7bXku"
      },
      "execution_count": null,
      "outputs": []
    },
    {
      "cell_type": "markdown",
      "source": [
        "ㅤ"
      ],
      "metadata": {
        "id": "lDR8pwNYfCy_"
      }
    },
    {
      "cell_type": "markdown",
      "source": [
        "### **2) 평균**"
      ],
      "metadata": {
        "id": "Nv9Abig2LPRI"
      }
    },
    {
      "cell_type": "markdown",
      "source": [
        "배열의 평균은 .mean()을 이용합니다."
      ],
      "metadata": {
        "id": "0Mhac27qLRgV"
      }
    },
    {
      "cell_type": "markdown",
      "source": [
        "ㅤ"
      ],
      "metadata": {
        "id": "PCBp41LJfD3D"
      }
    },
    {
      "cell_type": "markdown",
      "source": [
        "### **3) 곱셈**"
      ],
      "metadata": {
        "id": "nZcdAgGMLewX"
      }
    },
    {
      "cell_type": "markdown",
      "source": [
        "배열의 곱샘은 .prod()을 이용합니다."
      ],
      "metadata": {
        "id": "digCTvQ2LjeD"
      }
    },
    {
      "cell_type": "markdown",
      "source": [
        "누적 곱셉은 .cumprod()"
      ],
      "metadata": {
        "id": "utSvKxqd0knz"
      }
    },
    {
      "cell_type": "code",
      "source": [
        "print(a.prod())\n",
        "print(a.cumprod())"
      ],
      "metadata": {
        "id": "IQ-CQ5o3b3rG"
      },
      "execution_count": null,
      "outputs": []
    },
    {
      "cell_type": "markdown",
      "source": [
        "ㅤ"
      ],
      "metadata": {
        "id": "pBUcYBXsfEvX"
      }
    },
    {
      "cell_type": "markdown",
      "source": [
        "### **4) 최댓값과 최솟값**"
      ],
      "metadata": {
        "id": "Mj1QkSBsL0XQ"
      }
    },
    {
      "cell_type": "markdown",
      "source": [
        "최댓값과 최솟값은 각각 .max()와 .min()을 이용합니다."
      ],
      "metadata": {
        "id": "lyoxn1ubL3Y7"
      }
    },
    {
      "cell_type": "markdown",
      "source": [
        "ㅤ"
      ],
      "metadata": {
        "id": "qSLd8609fFmB"
      }
    },
    {
      "cell_type": "code",
      "source": [
        "print(a.max())\n",
        "print(a.min())"
      ],
      "metadata": {
        "colab": {
          "base_uri": "https://localhost:8080/"
        },
        "id": "mOdsTdttb-QK",
        "outputId": "6e5a2139-e4e9-4e38-d55e-9eb6d9e0e106"
      },
      "execution_count": null,
      "outputs": [
        {
          "output_type": "stream",
          "name": "stdout",
          "text": [
            "5\n",
            "1\n"
          ]
        }
      ]
    },
    {
      "cell_type": "markdown",
      "source": [
        "인덱싱으로 해당 열의 최댓값과 최솟값을 구할 수도 있습니다."
      ],
      "metadata": {
        "id": "li9o2_7JOE-A"
      }
    },
    {
      "cell_type": "markdown",
      "source": [
        "ㅤ"
      ],
      "metadata": {
        "id": "rFZnftCmfGlD"
      }
    },
    {
      "cell_type": "markdown",
      "source": [
        ".argmax()와 .argmin()을 이용하여 배열에서 최댓값인 원소의 인덱스 번호와 최솟값인 원소의 인덱스 번호를 구할 수 있습니다."
      ],
      "metadata": {
        "id": "sWO9DklxMkhP"
      }
    },
    {
      "cell_type": "markdown",
      "source": [
        "ㅤ"
      ],
      "metadata": {
        "id": "jj5jpdqLfHff"
      }
    },
    {
      "cell_type": "markdown",
      "source": [
        "### **5) 표준편차와 분산**"
      ],
      "metadata": {
        "id": "M1X5SCCzMB4u"
      }
    },
    {
      "cell_type": "markdown",
      "source": [
        "표준편차와 분산은 각각 .std()와 .var()을 이용합니다.\n",
        "* 분산 : 값들이 퍼져있는 정도 내가 만든범위(배열)에서 값들이 얼마나 퍼져있는지.\n",
        "* 예를들면 1,2,3의 분산과 100,101,102의 분산은 같음.\n",
        "* 수의 절대적인 크기가 아닌 내가 정한 범위안에서 이값들이 퍼져있는 정도\n",
        "* 표준편차 : 분산의 수치가 커서 제곱근으로 적당하게 줄인 값"
      ],
      "metadata": {
        "id": "47jr4du5MHYj"
      }
    },
    {
      "cell_type": "code",
      "source": [
        "print(a.std())\n",
        "print(a.var())"
      ],
      "metadata": {
        "colab": {
          "base_uri": "https://localhost:8080/"
        },
        "id": "HKmi9sWecMfe",
        "outputId": "de92a044-fbc9-49dd-9db8-5bf1a0882208"
      },
      "execution_count": null,
      "outputs": [
        {
          "output_type": "stream",
          "name": "stdout",
          "text": [
            "1.4142135623730951\n",
            "2.0\n"
          ]
        }
      ]
    },
    {
      "cell_type": "markdown",
      "source": [
        "### **6) 중복제거**\n",
        " .unique()\n"
      ],
      "metadata": {
        "id": "TXQ8k8eR1vYN"
      }
    },
    {
      "cell_type": "markdown",
      "source": [
        "\n",
        "---\n",
        "\n",
        "\n"
      ],
      "metadata": {
        "id": "tDzxC1xqVLfV"
      }
    },
    {
      "cell_type": "code",
      "source": [
        "a = np.array([1,1,2,2,3,4,5,5,6,6,10])\n",
        "\n",
        "print(np.unique(a))"
      ],
      "metadata": {
        "colab": {
          "base_uri": "https://localhost:8080/"
        },
        "id": "DxCgAlS6caBn",
        "outputId": "36717dbc-73bf-4250-a694-ed049c3976e9"
      },
      "execution_count": null,
      "outputs": [
        {
          "output_type": "stream",
          "name": "stdout",
          "text": [
            "[ 1  2  3  4  5  6 10]\n"
          ]
        }
      ]
    },
    {
      "cell_type": "markdown",
      "source": [
        "배열간 연산과 인덱싱, 슬라이싱은 Pandas와 함께 데이터 병합과 전처리를 진행할 때 유용하게 쓰이는 방법"
      ],
      "metadata": {
        "id": "sNuymI0mRm_x"
      }
    }
  ]
}