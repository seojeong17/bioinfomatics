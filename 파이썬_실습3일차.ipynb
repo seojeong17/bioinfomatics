{
  "nbformat": 4,
  "nbformat_minor": 0,
  "metadata": {
    "colab": {
      "provenance": [],
      "authorship_tag": "ABX9TyNeAWG1FoBzQSEzyq7nej7y",
      "include_colab_link": true
    },
    "kernelspec": {
      "name": "python3",
      "display_name": "Python 3"
    },
    "language_info": {
      "name": "python"
    }
  },
  "cells": [
    {
      "cell_type": "markdown",
      "metadata": {
        "id": "view-in-github",
        "colab_type": "text"
      },
      "source": [
        "<a href=\"https://colab.research.google.com/github/seojeong17/bioinfomatics/blob/main/%ED%8C%8C%EC%9D%B4%EC%8D%AC_%EC%8B%A4%EC%8A%B53%EC%9D%BC%EC%B0%A8.ipynb\" target=\"_parent\"><img src=\"https://colab.research.google.com/assets/colab-badge.svg\" alt=\"Open In Colab\"/></a>"
      ]
    },
    {
      "cell_type": "markdown",
      "source": [],
      "metadata": {
        "id": "wiJd1dh88EyC"
      }
    },
    {
      "cell_type": "code",
      "source": [
        "help(print)"
      ],
      "metadata": {
        "colab": {
          "base_uri": "https://localhost:8080/"
        },
        "id": "hSU2AF_CbXTm",
        "outputId": "b95a4459-f135-49ef-ca90-a80de16fef0e"
      },
      "execution_count": null,
      "outputs": [
        {
          "output_type": "stream",
          "name": "stdout",
          "text": [
            "Help on built-in function print in module builtins:\n",
            "\n",
            "print(...)\n",
            "    print(value, ..., sep=' ', end='\\n', file=sys.stdout, flush=False)\n",
            "    \n",
            "    Prints the values to a stream, or to sys.stdout by default.\n",
            "    Optional keyword arguments:\n",
            "    file:  a file-like object (stream); defaults to the current sys.stdout.\n",
            "    sep:   string inserted between values, default a space.\n",
            "    end:   string appended after the last value, default a newline.\n",
            "    flush: whether to forcibly flush the stream.\n",
            "\n"
          ]
        }
      ]
    },
    {
      "cell_type": "markdown",
      "source": [
        "### for 반복문\n",
        "유한개 일때 사용\n",
        "for (i.j.k.) in range(0,3,1):\n",
        "\n",
        "### while 문\n",
        "무한대, 언제끝날지 모를 때 사용"
      ],
      "metadata": {
        "id": "j5Ta6bes8G91"
      }
    },
    {
      "cell_type": "code",
      "source": [
        "# for 번호 in range(0,10,1)\n",
        "# for 번호 in range(0,10)\n",
        "# for 번호 in range(10)\n",
        "\n",
        "for i in range(0,3,1):\n",
        "  print (\"안녕하세요? 저는 파이썬 공부중입니다\")"
      ],
      "metadata": {
        "colab": {
          "base_uri": "https://localhost:8080/"
        },
        "id": "TS7LO7oU8LYd",
        "outputId": "c17491ed-ef50-4296-b103-799305f47e00"
      },
      "execution_count": null,
      "outputs": [
        {
          "output_type": "stream",
          "name": "stdout",
          "text": [
            "안녕하세요? 저는 파이썬 공부중입니다\n",
            "안녕하세요? 저는 파이썬 공부중입니다\n",
            "안녕하세요? 저는 파이썬 공부중입니다\n"
          ]
        }
      ]
    },
    {
      "cell_type": "code",
      "source": [
        "for j in range(0,2,1):\n",
        "  print (\"안녕안녕\")"
      ],
      "metadata": {
        "colab": {
          "base_uri": "https://localhost:8080/"
        },
        "id": "Farop4Vl9uhb",
        "outputId": "5d6579a6-6b95-47c7-e384-a8b80f8745e4"
      },
      "execution_count": null,
      "outputs": [
        {
          "output_type": "stream",
          "name": "stdout",
          "text": [
            "안녕안녕\n",
            "안녕안녕\n"
          ]
        }
      ]
    },
    {
      "cell_type": "code",
      "source": [
        "for 번호 in range(1,10,4):\n",
        "  print(f'{번호} 안녕하세요')"
      ],
      "metadata": {
        "colab": {
          "base_uri": "https://localhost:8080/"
        },
        "id": "rGwztups9xkj",
        "outputId": "ff3a1551-8756-42da-9ce1-0a8b012b235a"
      },
      "execution_count": null,
      "outputs": [
        {
          "output_type": "stream",
          "name": "stdout",
          "text": [
            "1 안녕하세요\n",
            "5 안녕하세요\n",
            "9 안녕하세요\n"
          ]
        }
      ]
    },
    {
      "cell_type": "code",
      "source": [
        "# range() 함수를 이용해 정수 나열 리스트 만들기\n",
        "print(list(range(2,10,3)))"
      ],
      "metadata": {
        "colab": {
          "base_uri": "https://localhost:8080/"
        },
        "id": "CHwCXVT3-4Ph",
        "outputId": "b759f319-2794-4b70-815e-e031276178ab"
      },
      "execution_count": null,
      "outputs": [
        {
          "output_type": "stream",
          "name": "stdout",
          "text": [
            "[2, 5, 8]\n"
          ]
        }
      ]
    },
    {
      "cell_type": "markdown",
      "source": [
        "### 리스트 사용해서 반복하기"
      ],
      "metadata": {
        "id": "Kjuiv10i_biD"
      }
    },
    {
      "cell_type": "code",
      "source": [
        "for 번호 in [1,2,'3','44',5,[6,7,8]]:\n",
        "  print(f'{번호} 안녕하세요')"
      ],
      "metadata": {
        "colab": {
          "base_uri": "https://localhost:8080/"
        },
        "id": "vlTH5VLg_d6z",
        "outputId": "390a8550-6754-48b9-f4f1-e71089039cb3"
      },
      "execution_count": null,
      "outputs": [
        {
          "output_type": "stream",
          "name": "stdout",
          "text": [
            "1 안녕하세요\n",
            "2 안녕하세요\n",
            "3 안녕하세요\n",
            "44 안녕하세요\n",
            "5 안녕하세요\n",
            "[6, 7, 8] 안녕하세요\n"
          ]
        }
      ]
    },
    {
      "cell_type": "code",
      "source": [
        "for 번호 in 'student':\n",
        "  print(f\"{번호} 안녕안녕\")"
      ],
      "metadata": {
        "colab": {
          "base_uri": "https://localhost:8080/"
        },
        "id": "jBy1YtioAObI",
        "outputId": "28be4b5a-4821-4ef2-c504-8096ec6e8c6d"
      },
      "execution_count": null,
      "outputs": [
        {
          "output_type": "stream",
          "name": "stdout",
          "text": [
            "s 안녕안녕\n",
            "t 안녕안녕\n",
            "u 안녕안녕\n",
            "d 안녕안녕\n",
            "e 안녕안녕\n",
            "n 안녕안녕\n",
            "t 안녕안녕\n"
          ]
        }
      ]
    },
    {
      "cell_type": "markdown",
      "source": [
        "### 변수를 사용하지 않으려면_사용"
      ],
      "metadata": {
        "id": "iablSBHxAUgl"
      }
    },
    {
      "cell_type": "code",
      "source": [
        "for _ in range(5):\n",
        "  print(\"안녕안녕\")"
      ],
      "metadata": {
        "colab": {
          "base_uri": "https://localhost:8080/"
        },
        "id": "9KnX96opAXiy",
        "outputId": "67bc8c06-639d-4c66-e2f0-9ebbd9668cd4"
      },
      "execution_count": null,
      "outputs": [
        {
          "output_type": "stream",
          "name": "stdout",
          "text": [
            "안녕안녕\n",
            "안녕안녕\n",
            "안녕안녕\n",
            "안녕안녕\n",
            "안녕안녕\n"
          ]
        }
      ]
    },
    {
      "cell_type": "code",
      "source": [
        "### 1~100까지 합 구하기\n",
        "\n",
        "hap=0\n",
        "for j in range(1,101,1):\n",
        "  hap += j\n",
        "print(f'1~100까지 정수의 합은:{hap}')"
      ],
      "metadata": {
        "colab": {
          "base_uri": "https://localhost:8080/"
        },
        "id": "iRnxf1JRBLqp",
        "outputId": "90ae8c3e-d24b-4c37-8a6d-a7ed7a516a67"
      },
      "execution_count": null,
      "outputs": [
        {
          "output_type": "stream",
          "name": "stdout",
          "text": [
            "1~100까지 정수의 합은:5050\n"
          ]
        }
      ]
    },
    {
      "cell_type": "code",
      "source": [
        "sum(list(range(1,101,1)))"
      ],
      "metadata": {
        "colab": {
          "base_uri": "https://localhost:8080/"
        },
        "id": "nP4O2t_kBoK_",
        "outputId": "2bc62174-1843-4670-ffd0-6e204bb278bd"
      },
      "execution_count": null,
      "outputs": [
        {
          "output_type": "execute_result",
          "data": {
            "text/plain": [
              "5050"
            ]
          },
          "metadata": {},
          "execution_count": 19
        }
      ]
    },
    {
      "cell_type": "code",
      "source": [
        "a_list = [20,30,55,25,34,67,89,12,66,98]\n",
        "hap = 0\n",
        "\n",
        "for i in a_list:\n",
        "  hap= hap+i\n",
        "print(f'{a_list}안의 모든 합은{hap}')"
      ],
      "metadata": {
        "colab": {
          "base_uri": "https://localhost:8080/"
        },
        "id": "Z8v9E5gbH0bo",
        "outputId": "47476ed2-418e-4932-a86c-11ca03f0e498"
      },
      "execution_count": null,
      "outputs": [
        {
          "output_type": "stream",
          "name": "stdout",
          "text": [
            "[20, 30, 55, 25, 34, 67, 89, 12, 66, 98]안의 모든 합은496\n"
          ]
        }
      ]
    },
    {
      "cell_type": "code",
      "source": [
        "n= int(input('합계를 구할 숫자 입력'))\n",
        "\n",
        "if n:\n",
        "  hap = 0\n",
        "  for i in range(1,int(n)+1):\n",
        "    hap += i\n",
        "  print(f'1~{n}까지 정수의 합은 : {hap}')\n",
        "else:\n",
        "  print('숫자를 입력해주세요')\n",
        "\n"
      ],
      "metadata": {
        "colab": {
          "base_uri": "https://localhost:8080/"
        },
        "id": "QL-S6KTcIR6t",
        "outputId": "e9f46c2b-ee97-4351-f74c-bf7aa7b8f6fd"
      },
      "execution_count": null,
      "outputs": [
        {
          "output_type": "stream",
          "name": "stdout",
          "text": [
            "합계를 구할 숫자 입력10\n",
            "1~10까지 정수의 합은 : 55\n"
          ]
        }
      ]
    },
    {
      "cell_type": "code",
      "source": [
        "n= int(input('합계를 구할 숫자 입력'))\n",
        "\n",
        "sum(list(range(1,int(n)+1,1)))"
      ],
      "metadata": {
        "id": "2LGww52LJEOV"
      },
      "execution_count": null,
      "outputs": []
    },
    {
      "cell_type": "code",
      "source": [
        "n= int(input('합계를 구할 숫자 입력'))\n",
        "\n",
        "a=list(range(1,int(n)+1,2))\n",
        "print(f'1~{n}까지 짝수를 제외한 합은 {sum(a)}')"
      ],
      "metadata": {
        "colab": {
          "base_uri": "https://localhost:8080/"
        },
        "id": "l5xUOhp1JlMn",
        "outputId": "feff771a-b01d-412e-89a6-e66580bac8d9"
      },
      "execution_count": null,
      "outputs": [
        {
          "output_type": "stream",
          "name": "stdout",
          "text": [
            "합계를 구할 숫자 입력11\n",
            "1~11까지 짝수를 제외한 합은 36\n"
          ]
        }
      ]
    },
    {
      "cell_type": "code",
      "source": [
        "n= int(input('합계를 구할 숫자 입력'))\n",
        "hap = 0\n",
        "for i in range(1,n+1):\n",
        "  if i%2 != 0:\n",
        "    hap = hap + i\n",
        "    #print(i)\n",
        "print(f'1~{n}까지 짝수를 제외한 정수의 합은: {hap}')\n"
      ],
      "metadata": {
        "colab": {
          "base_uri": "https://localhost:8080/",
          "height": 415
        },
        "id": "fc1BlrPSL2wV",
        "outputId": "37270a93-7c2d-432b-fb5c-92ef70669105"
      },
      "execution_count": 67,
      "outputs": [
        {
          "output_type": "error",
          "ename": "KeyboardInterrupt",
          "evalue": "ignored",
          "traceback": [
            "\u001b[0;31m---------------------------------------------------------------------------\u001b[0m",
            "\u001b[0;31mKeyboardInterrupt\u001b[0m                         Traceback (most recent call last)",
            "\u001b[0;32m<ipython-input-67-fc102b23e82e>\u001b[0m in \u001b[0;36m<cell line: 1>\u001b[0;34m()\u001b[0m\n\u001b[0;32m----> 1\u001b[0;31m \u001b[0mn\u001b[0m\u001b[0;34m=\u001b[0m \u001b[0mint\u001b[0m\u001b[0;34m(\u001b[0m\u001b[0minput\u001b[0m\u001b[0;34m(\u001b[0m\u001b[0;34m'합계를 구할 숫자 입력'\u001b[0m\u001b[0;34m)\u001b[0m\u001b[0;34m)\u001b[0m\u001b[0;34m\u001b[0m\u001b[0;34m\u001b[0m\u001b[0m\n\u001b[0m\u001b[1;32m      2\u001b[0m \u001b[0mhap\u001b[0m \u001b[0;34m=\u001b[0m \u001b[0;36m0\u001b[0m\u001b[0;34m\u001b[0m\u001b[0;34m\u001b[0m\u001b[0m\n\u001b[1;32m      3\u001b[0m \u001b[0;32mfor\u001b[0m \u001b[0mi\u001b[0m \u001b[0;32min\u001b[0m \u001b[0mrange\u001b[0m\u001b[0;34m(\u001b[0m\u001b[0;36m1\u001b[0m\u001b[0;34m,\u001b[0m\u001b[0mn\u001b[0m\u001b[0;34m+\u001b[0m\u001b[0;36m1\u001b[0m\u001b[0;34m)\u001b[0m\u001b[0;34m:\u001b[0m\u001b[0;34m\u001b[0m\u001b[0;34m\u001b[0m\u001b[0m\n\u001b[1;32m      4\u001b[0m   \u001b[0;32mif\u001b[0m \u001b[0mi\u001b[0m\u001b[0;34m%\u001b[0m\u001b[0;36m2\u001b[0m \u001b[0;34m!=\u001b[0m \u001b[0;36m0\u001b[0m\u001b[0;34m:\u001b[0m\u001b[0;34m\u001b[0m\u001b[0;34m\u001b[0m\u001b[0m\n\u001b[1;32m      5\u001b[0m     \u001b[0mhap\u001b[0m \u001b[0;34m=\u001b[0m \u001b[0mhap\u001b[0m \u001b[0;34m+\u001b[0m \u001b[0mi\u001b[0m\u001b[0;34m\u001b[0m\u001b[0;34m\u001b[0m\u001b[0m\n",
            "\u001b[0;32m/usr/local/lib/python3.10/dist-packages/ipykernel/kernelbase.py\u001b[0m in \u001b[0;36mraw_input\u001b[0;34m(self, prompt)\u001b[0m\n\u001b[1;32m    849\u001b[0m                 \u001b[0;34m\"raw_input was called, but this frontend does not support input requests.\"\u001b[0m\u001b[0;34m\u001b[0m\u001b[0;34m\u001b[0m\u001b[0m\n\u001b[1;32m    850\u001b[0m             )\n\u001b[0;32m--> 851\u001b[0;31m         return self._input_request(str(prompt),\n\u001b[0m\u001b[1;32m    852\u001b[0m             \u001b[0mself\u001b[0m\u001b[0;34m.\u001b[0m\u001b[0m_parent_ident\u001b[0m\u001b[0;34m,\u001b[0m\u001b[0;34m\u001b[0m\u001b[0;34m\u001b[0m\u001b[0m\n\u001b[1;32m    853\u001b[0m             \u001b[0mself\u001b[0m\u001b[0;34m.\u001b[0m\u001b[0m_parent_header\u001b[0m\u001b[0;34m,\u001b[0m\u001b[0;34m\u001b[0m\u001b[0;34m\u001b[0m\u001b[0m\n",
            "\u001b[0;32m/usr/local/lib/python3.10/dist-packages/ipykernel/kernelbase.py\u001b[0m in \u001b[0;36m_input_request\u001b[0;34m(self, prompt, ident, parent, password)\u001b[0m\n\u001b[1;32m    893\u001b[0m             \u001b[0;32mexcept\u001b[0m \u001b[0mKeyboardInterrupt\u001b[0m\u001b[0;34m:\u001b[0m\u001b[0;34m\u001b[0m\u001b[0;34m\u001b[0m\u001b[0m\n\u001b[1;32m    894\u001b[0m                 \u001b[0;31m# re-raise KeyboardInterrupt, to truncate traceback\u001b[0m\u001b[0;34m\u001b[0m\u001b[0;34m\u001b[0m\u001b[0m\n\u001b[0;32m--> 895\u001b[0;31m                 \u001b[0;32mraise\u001b[0m \u001b[0mKeyboardInterrupt\u001b[0m\u001b[0;34m(\u001b[0m\u001b[0;34m\"Interrupted by user\"\u001b[0m\u001b[0;34m)\u001b[0m \u001b[0;32mfrom\u001b[0m \u001b[0;32mNone\u001b[0m\u001b[0;34m\u001b[0m\u001b[0;34m\u001b[0m\u001b[0m\n\u001b[0m\u001b[1;32m    896\u001b[0m             \u001b[0;32mexcept\u001b[0m \u001b[0mException\u001b[0m \u001b[0;32mas\u001b[0m \u001b[0me\u001b[0m\u001b[0;34m:\u001b[0m\u001b[0;34m\u001b[0m\u001b[0;34m\u001b[0m\u001b[0m\n\u001b[1;32m    897\u001b[0m                 \u001b[0mself\u001b[0m\u001b[0;34m.\u001b[0m\u001b[0mlog\u001b[0m\u001b[0;34m.\u001b[0m\u001b[0mwarning\u001b[0m\u001b[0;34m(\u001b[0m\u001b[0;34m\"Invalid Message:\"\u001b[0m\u001b[0;34m,\u001b[0m \u001b[0mexc_info\u001b[0m\u001b[0;34m=\u001b[0m\u001b[0;32mTrue\u001b[0m\u001b[0;34m)\u001b[0m\u001b[0;34m\u001b[0m\u001b[0;34m\u001b[0m\u001b[0m\n",
            "\u001b[0;31mKeyboardInterrupt\u001b[0m: Interrupted by user"
          ]
        }
      ]
    },
    {
      "cell_type": "code",
      "source": [
        "n = int(input('합계를 구할 숫자 입력'))\n",
        "hap = 0\n",
        "for i in range(1,n+1):\n",
        "  if i%2 != 0:\n",
        "    hap += i\n",
        "print(f'1~{n}까지 짝수를 제외한 정수의 합은 : {hap}')\n"
      ],
      "metadata": {
        "colab": {
          "base_uri": "https://localhost:8080/"
        },
        "id": "sLFVaVefPrHV",
        "outputId": "04db2246-d3d2-4f9d-c6f6-ab2b26fc7149"
      },
      "execution_count": 36,
      "outputs": [
        {
          "output_type": "stream",
          "name": "stdout",
          "text": [
            "합계를 구할 숫자 입력4\n",
            "1~4까지 짝수를 제외한 정수의 합은 : 4\n"
          ]
        }
      ]
    },
    {
      "cell_type": "markdown",
      "source": [
        "### [실습문제] 괄호 체크 프로그램 만들기"
      ],
      "metadata": {
        "id": "XXHQNL2AOgrN"
      }
    },
    {
      "cell_type": "code",
      "source": [
        "a= list(input('괄호 문장을 입력하세요:'))\n",
        "\n",
        "total = 0\n",
        "for p in a:\n",
        "  if p =='(':\n",
        "    total += 1\n",
        "  elif p == ')':\n",
        "    total -= 1\n",
        "  if total < 0:\n",
        "    break\n",
        "\n",
        "\n",
        "\n",
        "\n",
        "if total ==0 :\n",
        "  print('결과 : True')\n",
        "else:\n",
        "  print('결과 : False')"
      ],
      "metadata": {
        "colab": {
          "base_uri": "https://localhost:8080/"
        },
        "id": "Pc0wiMj9OnJE",
        "outputId": "a0d3d1c9-f8ff-44bb-f50f-46d994c377a7"
      },
      "execution_count": null,
      "outputs": [
        {
          "output_type": "stream",
          "name": "stdout",
          "text": [
            "괄호 문장을 입력하세요:(())(())\n",
            "결과 : True\n"
          ]
        }
      ]
    },
    {
      "cell_type": "markdown",
      "source": [
        "### 구구단"
      ],
      "metadata": {
        "id": "ojrxUtvJUB3n"
      }
    },
    {
      "cell_type": "code",
      "source": [
        "n=int(input('몇 단을 출력할까요?'))\n",
        "print('-'*40)\n",
        "\n",
        "for i in range(1,10):\n",
        "  print(f'{n}x{i}= {n*i:>2}')"
      ],
      "metadata": {
        "colab": {
          "base_uri": "https://localhost:8080/"
        },
        "id": "yHYFhV2yUFjO",
        "outputId": "a9092288-03bf-4c76-e567-10259a6747a8"
      },
      "execution_count": null,
      "outputs": [
        {
          "output_type": "stream",
          "name": "stdout",
          "text": [
            "몇 단을 출력할까요?3\n",
            "----------------------------------------\n",
            "3x1=  3\n",
            "3x2=  6\n",
            "3x3=  9\n",
            "3x4= 12\n",
            "3x5= 15\n",
            "3x6= 18\n",
            "3x7= 21\n",
            "3x8= 24\n",
            "3x9= 27\n"
          ]
        }
      ]
    },
    {
      "cell_type": "code",
      "source": [
        "for i in range(5):\n",
        "  print(f'{i}', end=' ')\n",
        "\n",
        "for i in range(5):\n",
        "  for k in range(3):\n",
        "    print (f'{i}:{k}', end= '  ')\n",
        "  print()"
      ],
      "metadata": {
        "colab": {
          "base_uri": "https://localhost:8080/"
        },
        "id": "9sp7yCm6WYZs",
        "outputId": "5f899b08-f86a-45b9-cdda-724f4795b66b"
      },
      "execution_count": null,
      "outputs": [
        {
          "output_type": "stream",
          "name": "stdout",
          "text": [
            "0 1 2 3 4 0:0  0:1  0:2  \n",
            "1:0  1:1  1:2  \n",
            "2:0  2:1  2:2  \n",
            "3:0  3:1  3:2  \n",
            "4:0  4:1  4:2  \n"
          ]
        }
      ]
    },
    {
      "cell_type": "code",
      "source": [
        "for i in range(2,10):\n",
        "  print(f'#{i}단' , end='     ')\n",
        "print()         # '\\n' 엔터의 효과\n",
        "print('-'*60)\n",
        "for k in range(1,10,1):\n",
        "  for i in range(2,10,1):\n",
        "    print (f'{i}x{k} = {i*k :>2}', end=' ')\n",
        "  print()"
      ],
      "metadata": {
        "colab": {
          "base_uri": "https://localhost:8080/"
        },
        "id": "Sfn7fwtyXUsG",
        "outputId": "c31dc153-951c-406c-b953-7666e4e61a9a"
      },
      "execution_count": null,
      "outputs": [
        {
          "output_type": "stream",
          "name": "stdout",
          "text": [
            "#2단     #3단     #4단     #5단     #6단     #7단     #8단     #9단     \n",
            "------------------------------------------------------------\n",
            "2x1 =  2 3x1 =  3 4x1 =  4 5x1 =  5 6x1 =  6 7x1 =  7 8x1 =  8 9x1 =  9 \n",
            "2x2 =  4 3x2 =  6 4x2 =  8 5x2 = 10 6x2 = 12 7x2 = 14 8x2 = 16 9x2 = 18 \n",
            "2x3 =  6 3x3 =  9 4x3 = 12 5x3 = 15 6x3 = 18 7x3 = 21 8x3 = 24 9x3 = 27 \n",
            "2x4 =  8 3x4 = 12 4x4 = 16 5x4 = 20 6x4 = 24 7x4 = 28 8x4 = 32 9x4 = 36 \n",
            "2x5 = 10 3x5 = 15 4x5 = 20 5x5 = 25 6x5 = 30 7x5 = 35 8x5 = 40 9x5 = 45 \n",
            "2x6 = 12 3x6 = 18 4x6 = 24 5x6 = 30 6x6 = 36 7x6 = 42 8x6 = 48 9x6 = 54 \n",
            "2x7 = 14 3x7 = 21 4x7 = 28 5x7 = 35 6x7 = 42 7x7 = 49 8x7 = 56 9x7 = 63 \n",
            "2x8 = 16 3x8 = 24 4x8 = 32 5x8 = 40 6x8 = 48 7x8 = 56 8x8 = 64 9x8 = 72 \n",
            "2x9 = 18 3x9 = 27 4x9 = 36 5x9 = 45 6x9 = 54 7x9 = 63 8x9 = 72 9x9 = 81 \n"
          ]
        }
      ]
    },
    {
      "cell_type": "markdown",
      "source": [
        "## 난수(Random number)"
      ],
      "metadata": {
        "id": "Vem-9vlEtoQa"
      }
    },
    {
      "cell_type": "code",
      "source": [
        "import random\n",
        "\n",
        "# 임의의 정수\n",
        "print(random. randint(1,10))     #1~10까지 정수 중 하나 선택\n",
        "print( random. randrange(1,11,1)) #1~11미만 정수 중 하나 선택\n",
        "\n",
        "# 임의의 실수\n",
        "print ( random. random())         # 0~1 사이의 임의의 실수\n",
        "print ( random. uniform(0.5, 1))  # start~end 사이의 임의의 실수\n",
        "\n",
        "# 리스트 섞기\n",
        "# 강의자료 바꾸기 = 리스트 형태만 가능\n",
        "a = [1,2,3,4,5,6,7,8,9,10]\n",
        "print(a)\n",
        "random.shuffle(a)\n",
        "print(a)\n",
        "\n",
        "\n",
        "# 리스트 요소 중에 하나 선택하기\n",
        "print(random.choice(a))\n",
        "\n",
        "# 리스트 요소 중에 개수 지정해서 선택하기\n",
        "print(random.sample (a,3))\n",
        "print('로또번호 출력:', sorted(random.sample(range(1,46),6)))\n"
      ],
      "metadata": {
        "colab": {
          "base_uri": "https://localhost:8080/"
        },
        "id": "uLWAMSUbtthG",
        "outputId": "f866292e-04e1-478e-d462-f46d2fd66585"
      },
      "execution_count": 12,
      "outputs": [
        {
          "output_type": "stream",
          "name": "stdout",
          "text": [
            "8\n",
            "3\n",
            "0.5990762210840839\n",
            "0.7380211223815949\n",
            "[1, 2, 3, 4, 5, 6, 7, 8, 9, 10]\n",
            "[7, 8, 6, 5, 2, 3, 4, 1, 9, 10]\n",
            "3\n",
            "[10, 5, 3]\n",
            "로또번호 출력: [13, 25, 29, 35, 36, 44]\n"
          ]
        }
      ]
    },
    {
      "cell_type": "code",
      "source": [
        "print('주사위를 5번 던져서 비교하는 프로그램입니다.')\n",
        "\n",
        "for n in range (1,6):\n",
        "  print(f'-----{n}번째 시도입니다.')\n",
        "  a=random.randint(1,6)\n",
        "  b=random.randint(1,6)\n",
        "\n",
        "  print(f'A 결과: [{a}], B 결과:[{b}]')\n",
        "  if a>b:\n",
        "    print('A가 이겼습니다.')\n",
        "  elif a==b:\n",
        "      print('A와 B가 비겼습니다.')\n",
        "  else:\n",
        "      print('B가 이겼습니다.')\n",
        ""
      ],
      "metadata": {
        "colab": {
          "base_uri": "https://localhost:8080/"
        },
        "id": "RJ9K7ajtzMou",
        "outputId": "0f3994bc-6520-4541-c130-a151e2ac29ea"
      },
      "execution_count": 32,
      "outputs": [
        {
          "output_type": "stream",
          "name": "stdout",
          "text": [
            "주사위를 5번 던져서 비교하는 프로그램입니다.\n",
            "-----1번째 시도입니다.\n",
            "A 결과: [6], B 결과:[4]\n",
            "A가 이겼습니다.\n",
            "-----2번째 시도입니다.\n",
            "A 결과: [1], B 결과:[3]\n",
            "B가 이겼습니다.\n",
            "-----3번째 시도입니다.\n",
            "A 결과: [4], B 결과:[4]\n",
            "A와 B가 비겼습니다.\n",
            "-----4번째 시도입니다.\n",
            "A 결과: [3], B 결과:[6]\n",
            "B가 이겼습니다.\n",
            "-----5번째 시도입니다.\n",
            "A 결과: [5], B 결과:[3]\n",
            "A가 이겼습니다.\n"
          ]
        }
      ]
    },
    {
      "cell_type": "markdown",
      "source": [
        "### 실습문제 : 한 개의 주사위를 100번 던져서 나온 숫자 카운트하기"
      ],
      "metadata": {
        "id": "KgTJLwZE4zRM"
      }
    },
    {
      "cell_type": "code",
      "source": [
        "import random\n",
        "\n",
        "d1, d2, d3, d4, d5, d6 = 0, 0, 0, 0, 0, 0\n",
        "for i in range(100):\n",
        "  num = random.randint(1,6)\n",
        "\n",
        "  if num == 1 : d1 += 1\n",
        "  if num == 2 : d2 += 1\n",
        "  if num == 3 : d3 += 1\n",
        "  if num == 4 : d4 += 1\n",
        "  if num == 5 : d5 += 1\n",
        "  if num == 6 : d6 += 1\n",
        "\n",
        "print(f'주사위 숫자별 개수 : D1[{d1}], D2[{d2}], D3[{d3}], D4[{d4}], D5[{d5}], D6[{d6}]')\n",
        "\n"
      ],
      "metadata": {
        "colab": {
          "base_uri": "https://localhost:8080/"
        },
        "id": "r7Y-KqVL47B-",
        "outputId": "a5096d51-e0ac-43ee-c999-50ecac293ad9"
      },
      "execution_count": 35,
      "outputs": [
        {
          "output_type": "stream",
          "name": "stdout",
          "text": [
            "주사위 숫자별 개수 : D1[16], D2[7], D3[15], D4[26], D5[18], D6[18]\n"
          ]
        }
      ]
    },
    {
      "cell_type": "code",
      "source": [
        "# 중복값 처리 안된 코드\n",
        "\n",
        "import random\n",
        "\n",
        "dice = [0,0,0,0,0,0]\n",
        "for i in range(10):\n",
        "  num = random.randint(1,6)\n",
        "  dice [num-1] = dice[num-1] + 1\n",
        "  print(f'{i+1}회 시도 - 나온수({num}, 주사위 : {dice})')\n",
        "\n",
        "print(f'주사위 숫자의 나온 횟수: {dice}')\n",
        "print(f'가장 큰 횟수: {max(dice)}의 주사위 눈금은: {dice.index( max(dice) )+1} ')\n"
      ],
      "metadata": {
        "colab": {
          "base_uri": "https://localhost:8080/"
        },
        "id": "-TEykZvS6ZFI",
        "outputId": "0d7c2979-68b9-4453-8199-c10cd61d8122"
      },
      "execution_count": 46,
      "outputs": [
        {
          "output_type": "stream",
          "name": "stdout",
          "text": [
            "1회 시도 - 나온수(5, 주사위 : [0, 0, 0, 0, 1, 0])\n",
            "2회 시도 - 나온수(3, 주사위 : [0, 0, 1, 0, 1, 0])\n",
            "3회 시도 - 나온수(6, 주사위 : [0, 0, 1, 0, 1, 1])\n",
            "4회 시도 - 나온수(3, 주사위 : [0, 0, 2, 0, 1, 1])\n",
            "5회 시도 - 나온수(2, 주사위 : [0, 1, 2, 0, 1, 1])\n",
            "6회 시도 - 나온수(6, 주사위 : [0, 1, 2, 0, 1, 2])\n",
            "7회 시도 - 나온수(2, 주사위 : [0, 2, 2, 0, 1, 2])\n",
            "8회 시도 - 나온수(5, 주사위 : [0, 2, 2, 0, 2, 2])\n",
            "9회 시도 - 나온수(3, 주사위 : [0, 2, 3, 0, 2, 2])\n",
            "10회 시도 - 나온수(2, 주사위 : [0, 3, 3, 0, 2, 2])\n",
            "주사위 숫자의 나온 횟수: [0, 3, 3, 0, 2, 2]\n",
            "가장 큰 횟수: 3의 주사위 눈금은: 2 \n"
          ]
        }
      ]
    },
    {
      "cell_type": "markdown",
      "source": [
        "https://stablediffusionweb.com/#demo"
      ],
      "metadata": {
        "id": "VvQMCeV-Eqj3"
      }
    },
    {
      "cell_type": "markdown",
      "source": [
        "### 반복문 /\n",
        "부정문으로 하는 것 보다 continue로 표현하는게 처리 더 빠름"
      ],
      "metadata": {
        "id": "lKOgUwxpHQli"
      }
    },
    {
      "cell_type": "code",
      "source": [
        "treeHit = 0\n",
        "\n",
        "while treeHit < 10:\n",
        "  treeHit +=1\n",
        "  print(f'나무를 {treeHit}번 찍었습니다.')\n",
        "print('나무 넘어 갑니다~')\n"
      ],
      "metadata": {
        "colab": {
          "base_uri": "https://localhost:8080/"
        },
        "id": "b1khIDi-Hia8",
        "outputId": "4b99d6d0-0fc6-4dce-86c2-062abe744913"
      },
      "execution_count": 53,
      "outputs": [
        {
          "output_type": "stream",
          "name": "stdout",
          "text": [
            "나무를 1번 찍었습니다.\n",
            "나무를 2번 찍었습니다.\n",
            "나무를 3번 찍었습니다.\n",
            "나무를 4번 찍었습니다.\n",
            "나무를 5번 찍었습니다.\n",
            "나무를 6번 찍었습니다.\n",
            "나무를 7번 찍었습니다.\n",
            "나무를 8번 찍었습니다.\n",
            "나무를 9번 찍었습니다.\n",
            "나무를 10번 찍었습니다.\n",
            "나무 넘어 갑니다~\n"
          ]
        }
      ]
    },
    {
      "cell_type": "code",
      "source": [
        "treeHit = 0\n",
        "\n",
        "while True:\n",
        "  treeHit +=1\n",
        "  print(f'나무를 {treeHit}번 찍었습니다.')\n",
        "  if treeHit == 10: break     # 간단한 부분은 연달아 입력해도 가능\n",
        "print('나무 넘어갑니다~')"
      ],
      "metadata": {
        "colab": {
          "base_uri": "https://localhost:8080/"
        },
        "id": "kgydyPjKKctr",
        "outputId": "58ae8467-bd6b-4d2a-d5bb-496de065cd5f"
      },
      "execution_count": 55,
      "outputs": [
        {
          "output_type": "stream",
          "name": "stdout",
          "text": [
            "나무를 1번 찍었습니다.\n",
            "나무를 2번 찍었습니다.\n",
            "나무를 3번 찍었습니다.\n",
            "나무를 4번 찍었습니다.\n",
            "나무를 5번 찍었습니다.\n",
            "나무를 6번 찍었습니다.\n",
            "나무를 7번 찍었습니다.\n",
            "나무를 8번 찍었습니다.\n",
            "나무를 9번 찍었습니다.\n",
            "나무를 10번 찍었습니다.\n",
            "나무 넘어갑니다~\n"
          ]
        }
      ]
    },
    {
      "cell_type": "code",
      "source": [
        "prompt = \"\"\"\n",
        "    1. 추가   2. 삭제   3. 수정   4. 종료\n",
        "    번호를 입력해주세요: \"\"\"\n",
        "\n",
        "num = ''\n",
        "while num != '4':\n",
        "    num = input(prompt)\n",
        "print('program finish!')\n"
      ],
      "metadata": {
        "colab": {
          "base_uri": "https://localhost:8080/"
        },
        "id": "r8Awg0D_LYIO",
        "outputId": "9cfb0d90-6be7-42d3-ba29-b76afbc5ea4c"
      },
      "execution_count": 57,
      "outputs": [
        {
          "output_type": "stream",
          "name": "stdout",
          "text": [
            "\n",
            "    1. 추가   2. 삭제   3. 수정   4. 종료\n",
            "    번호를 입력해주세요: 3\n",
            "\n",
            "    1. 추가   2. 삭제   3. 수정   4. 종료\n",
            "    번호를 입력해주세요: 4\n",
            "program finish!\n"
          ]
        }
      ]
    },
    {
      "cell_type": "code",
      "source": [
        "prompt = \"\"\"\n",
        "    1. 추가   2. 삭제   3. 수정   4. 종료\n",
        "    번호를 입력해주세요: \"\"\"\n",
        "\n",
        "num = ''\n",
        "while True:\n",
        "    num = input(prompt)\n",
        "    if num == '4': break\n",
        "\n",
        "print('program finish!')"
      ],
      "metadata": {
        "colab": {
          "base_uri": "https://localhost:8080/"
        },
        "id": "b7VTH3gyM6r2",
        "outputId": "af683f61-8693-417b-925e-605fed48ff75"
      },
      "execution_count": 58,
      "outputs": [
        {
          "output_type": "stream",
          "name": "stdout",
          "text": [
            "\n",
            "    1. 추가   2. 삭제   3. 수정   4. 종료\n",
            "    번호를 입력해주세요: 3\n",
            "\n",
            "    1. 추가   2. 삭제   3. 수정   4. 종료\n",
            "    번호를 입력해주세요: 4\n",
            "program finish!\n"
          ]
        }
      ]
    },
    {
      "cell_type": "code",
      "source": [
        "# 커피 주문 프로그램  반복문 이용해서 거스름돈 > 0까지 돈을 넣으라고 반복하기\n",
        "coffee1_price = 2500\n",
        "coffee2_price = 3000\n",
        "coffee3_price = 3000\n",
        "menu = f'''[커피 자동주문 머신 메뉴]\n",
        "------------------------\n",
        "- 아메리카노:  {coffee1_price}원\n",
        "- 카페라떼:    {coffee2_price}원\n",
        "- 카푸치노:    {coffee3_price}원\n",
        "------------------------\n",
        "원하시는 커피종류와 잔수를 입력하세요!\n",
        "'''\n",
        "print(menu)\n",
        "coffee1 = int(input('아메리카노 몇잔: '))\n",
        "coffee2 = int(input('카페라떼   몇잔: '))\n",
        "coffee3 = int(input('카푸치노   몇잔: '))\n",
        "total = coffee1_price*coffee1 + coffee2_price*coffee2 + coffee3_price*coffee3\n",
        "print(f'주문하신 총 가격은 {total}원 입니다.')\n",
        "\n",
        "\n",
        "while True:\n",
        " money = int(input('돈을 입력해주세요: '))\n",
        " change = total - money\n",
        " total = change\n",
        " if change > 0:\n",
        "  print(f'금액이 부족합니다. {change} 원을 더 넣어주세요.')\n",
        "\n",
        " else:\n",
        "  print(f'거스름돈은 {abs(change)}원 입니다. 커피 맛있게 드세요~')\n",
        "  break"
      ],
      "metadata": {
        "colab": {
          "base_uri": "https://localhost:8080/"
        },
        "id": "4IWyGuTANqHC",
        "outputId": "2613662e-c619-4e37-e07d-c05abf874e28"
      },
      "execution_count": 71,
      "outputs": [
        {
          "output_type": "stream",
          "name": "stdout",
          "text": [
            "[커피 자동주문 머신 메뉴]\n",
            "------------------------\n",
            "- 아메리카노:  2500원\n",
            "- 카페라떼:    3000원\n",
            "- 카푸치노:    3000원\n",
            "------------------------\n",
            "원하시는 커피종류와 잔수를 입력하세요!\n",
            "\n",
            "아메리카노 몇잔: 3\n",
            "카페라떼   몇잔: 2\n",
            "카푸치노   몇잔: 1\n",
            "주문하신 총 가격은 16500원 입니다.\n",
            "돈을 입력해주세요: 14000\n",
            "금액이 부족합니다. 2500 원을 더 넣어주세요.\n",
            "돈을 입력해주세요: 1000\n",
            "금액이 부족합니다. 1500 원을 더 넣어주세요.\n",
            "돈을 입력해주세요: 1500\n",
            "거스름돈은 0원 입니다. 커피 맛있게 드세요~\n"
          ]
        }
      ]
    }
  ]
}