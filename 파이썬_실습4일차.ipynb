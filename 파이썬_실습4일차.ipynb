{
  "nbformat": 4,
  "nbformat_minor": 0,
  "metadata": {
    "colab": {
      "provenance": [],
      "authorship_tag": "ABX9TyPoRLPeqqLUGu1P80RQXO7+",
      "include_colab_link": true
    },
    "kernelspec": {
      "name": "python3",
      "display_name": "Python 3"
    },
    "language_info": {
      "name": "python"
    }
  },
  "cells": [
    {
      "cell_type": "markdown",
      "metadata": {
        "id": "view-in-github",
        "colab_type": "text"
      },
      "source": [
        "<a href=\"https://colab.research.google.com/github/seojeong17/bioinfomatics/blob/main/%ED%8C%8C%EC%9D%B4%EC%8D%AC_%EC%8B%A4%EC%8A%B54%EC%9D%BC%EC%B0%A8.ipynb\" target=\"_parent\"><img src=\"https://colab.research.google.com/assets/colab-badge.svg\" alt=\"Open In Colab\"/></a>"
      ]
    },
    {
      "cell_type": "code",
      "execution_count": 17,
      "metadata": {
        "colab": {
          "base_uri": "https://localhost:8080/"
        },
        "id": "oAEb8QnA9Oo8",
        "outputId": "b9d7cc87-2e32-4afc-ee51-1b00be3c794d"
      },
      "outputs": [
        {
          "output_type": "stream",
          "name": "stdout",
          "text": [
            "------------------------------------------------------------\n",
            "* 비밀의 숫자가 지정되었습니다.\n",
            "------------------------------------------------------------\n",
            "숫자를 입력하세요:50\n",
            "비밀의 수는 더 큰 수 입니다 \n",
            "숫자를 입력하세요:75\n",
            "비밀의 수는 더 큰 수 입니다 \n",
            "숫자를 입력하세요:89\n",
            "비밀의 수는 더 작은 수 입니다.\n",
            "숫자를 입력하세요:80\n",
            "비밀의 수는 더 큰 수 입니다 \n",
            "숫자를 입력하세요:87\n",
            "비밀의 수는 더 큰 수 입니다 \n",
            "숫자를 입력하세요:88\n",
            "정답입니다.\n",
            "------------------------------------------------------------\n",
            "비밀의 숫자: 88\n"
          ]
        }
      ],
      "source": [
        "import random\n",
        "\n",
        "number = random.randint(1,101)\n",
        "(random.randint(1,101))\n",
        "print('-'*60)\n",
        "print('* 비밀의 숫자가 지정되었습니다.')\n",
        "print('-'*60)\n",
        "\n",
        "\n",
        "while True:\n",
        " n= int(input('숫자를 입력하세요:'))\n",
        " if number < n:\n",
        "    print(f'비밀의 수는 더 작은 수 입니다.')\n",
        " elif number > n:\n",
        "    print(f'비밀의 수는 더 큰 수 입니다 ')\n",
        " else:\n",
        "    print(f'정답입니다.')\n",
        "    break\n",
        "\n",
        "print('-'*60)\n",
        "print(f'비밀의 숫자: {number}')\n"
      ]
    },
    {
      "cell_type": "code",
      "source": [
        "import random\n",
        "\n",
        "secretNbr = random.randint(1,101)\n",
        "print('-'*60)\n",
        "print('* 비밀의 숫자가 지정되었습니다.')\n",
        "print('-'*60)\n",
        "\n",
        "tryCnt = 0\n",
        "\n",
        "while True:\n",
        "  guessNbr = int(input('당신이 생각하는 비밀의 수는?'))\n",
        "  tryCnt +=1\n",
        "\n",
        "  if guessNbr == secretNbr:\n",
        "    print('축하합니다. 정답입니다.')\n",
        "    break\n",
        "  elif guessNbr > secretNbr:\n",
        "    print('비밀의 수는 더 작은 수 입니다.')\n",
        "  else:\n",
        "    print('비밀의 수는 더 큰 수 입니다.')\n",
        "\n",
        "\n",
        "\n",
        "print (f'비밀의 숫자 : {secretNbr}')\n",
        "print (f'당신의 시도 횟수 : {tryCnt}')"
      ],
      "metadata": {
        "colab": {
          "base_uri": "https://localhost:8080/"
        },
        "id": "h12SBzeBDtbd",
        "outputId": "0bcfa764-db30-4c38-8ada-33a5db6621ca"
      },
      "execution_count": 18,
      "outputs": [
        {
          "output_type": "stream",
          "name": "stdout",
          "text": [
            "------------------------------------------------------------\n",
            "* 비밀의 숫자가 지정되었습니다.\n",
            "------------------------------------------------------------\n",
            "당신이 생각하는 비밀의 수는?50\n",
            "비밀의 수는 더 작은 수 입니다.\n",
            "당신이 생각하는 비밀의 수는?25\n",
            "비밀의 수는 더 작은 수 입니다.\n",
            "당신이 생각하는 비밀의 수는?12\n",
            "비밀의 수는 더 큰 수 입니다.\n",
            "당신이 생각하는 비밀의 수는?26\n",
            "비밀의 수는 더 작은 수 입니다.\n",
            "당신이 생각하는 비밀의 수는?16\n",
            "비밀의 수는 더 큰 수 입니다.\n",
            "당신이 생각하는 비밀의 수는?20\n",
            "비밀의 수는 더 큰 수 입니다.\n",
            "당신이 생각하는 비밀의 수는?24\n",
            "비밀의 수는 더 작은 수 입니다.\n",
            "당신이 생각하는 비밀의 수는?23\n",
            "비밀의 수는 더 작은 수 입니다.\n",
            "당신이 생각하는 비밀의 수는?22\n",
            "축하합니다. 정답입니다.\n",
            "비밀의 숫자 : 22\n",
            "당신의 시도 횟수 : 9\n"
          ]
        }
      ]
    },
    {
      "cell_type": "code",
      "source": [
        "print('\\u2605'*20)"
      ],
      "metadata": {
        "colab": {
          "base_uri": "https://localhost:8080/"
        },
        "id": "fBJjaJkgGetq",
        "outputId": "e3743b30-05c0-4c00-8a6e-dffb1cc44669"
      },
      "execution_count": 20,
      "outputs": [
        {
          "output_type": "stream",
          "name": "stdout",
          "text": [
            "★★★★★★★★★★★★★★★★★★★★\n"
          ]
        }
      ]
    },
    {
      "cell_type": "code",
      "source": [
        "length = int(input('공의 높이를 입력하세요(meter) :'))\n",
        "meter, cnt = length, 0\n",
        "\n",
        "# meter= length  현재 공의 위치(높이)\n",
        "# cnt = 0  공이 튕긴 횟수\n",
        "\n",
        "\n",
        "while True:\n",
        "  meter = meter / 2\n",
        "  cnt +=1\n",
        "  print(meter, ' : ', cnt)\n",
        "  if meter < 0.00001:\n",
        "    break\n",
        "\n",
        "print(f'{length}(meter) 위치에서 공의 튕긴 횟수는 총 {cnt}번입니다.')"
      ],
      "metadata": {
        "colab": {
          "base_uri": "https://localhost:8080/"
        },
        "id": "zzYCOB-eIICX",
        "outputId": "774aff41-919e-4641-89b5-a633e271d697"
      },
      "execution_count": 27,
      "outputs": [
        {
          "output_type": "stream",
          "name": "stdout",
          "text": [
            "공의 높이를 입력하세요(meter) :10\n",
            "5.0  :  1\n",
            "2.5  :  2\n",
            "1.25  :  3\n",
            "0.625  :  4\n",
            "0.3125  :  5\n",
            "0.15625  :  6\n",
            "0.078125  :  7\n",
            "0.0390625  :  8\n",
            "0.01953125  :  9\n",
            "0.009765625  :  10\n",
            "0.0048828125  :  11\n",
            "0.00244140625  :  12\n",
            "0.001220703125  :  13\n",
            "0.0006103515625  :  14\n",
            "0.00030517578125  :  15\n",
            "0.000152587890625  :  16\n",
            "7.62939453125e-05  :  17\n",
            "3.814697265625e-05  :  18\n",
            "1.9073486328125e-05  :  19\n",
            "9.5367431640625e-06  :  20\n",
            "10(meter) 위치에서 공의 튕긴 횟수는 총 20번입니다.\n"
          ]
        }
      ]
    },
    {
      "cell_type": "markdown",
      "source": [
        "### enumerate() : 인덱스와 값을 함께 사용할 수 있는 함수"
      ],
      "metadata": {
        "id": "xOV7aZz3LWYy"
      }
    },
    {
      "cell_type": "code",
      "source": [
        "a_list = [2,3,4,5,6,7]\n",
        "six_index = a_list.index(6)\n",
        "print(f'6이란 값의 인덱스 : {six_index}')\n",
        "\n",
        "\n",
        "for idx, v in enumerate(a_list):\n",
        "  print(f'인덱스 : {idx}, 값 : {v}')"
      ],
      "metadata": {
        "colab": {
          "base_uri": "https://localhost:8080/"
        },
        "id": "ro7I4SS1Lbvw",
        "outputId": "3fdaba66-77a3-4876-de15-a4f32de0924d"
      },
      "execution_count": 32,
      "outputs": [
        {
          "output_type": "stream",
          "name": "stdout",
          "text": [
            "6이란 값의 인덱스 : 4\n",
            "인덱스 : 0, 값 : 2\n",
            "인덱스 : 1, 값 : 3\n",
            "인덱스 : 2, 값 : 4\n",
            "인덱스 : 3, 값 : 5\n",
            "인덱스 : 4, 값 : 6\n",
            "인덱스 : 5, 값 : 7\n"
          ]
        }
      ]
    },
    {
      "cell_type": "markdown",
      "source": [
        "## 파이썬 자료형 : List(리스트)"
      ],
      "metadata": {
        "id": "pEFcudZ_SAoj"
      }
    },
    {
      "cell_type": "code",
      "source": [
        "print(type([1,2,3,4]))"
      ],
      "metadata": {
        "colab": {
          "base_uri": "https://localhost:8080/"
        },
        "id": "ariH9ziiSLnN",
        "outputId": "3344a7c9-382e-42bc-c107-1a596aae675d"
      },
      "execution_count": 34,
      "outputs": [
        {
          "output_type": "stream",
          "name": "stdout",
          "text": [
            "<class 'list'>\n"
          ]
        }
      ]
    },
    {
      "cell_type": "code",
      "source": [
        "help(list)"
      ],
      "metadata": {
        "id": "Ja7WDg-dR5mY"
      },
      "execution_count": null,
      "outputs": []
    },
    {
      "cell_type": "markdown",
      "source": [
        "### 리스트 생성"
      ],
      "metadata": {
        "id": "jA9W6YggTK3v"
      }
    },
    {
      "cell_type": "code",
      "source": [
        "mylist = list()      # 빈 리스트 생성\n",
        "mylist = []          # 빈 리스트 생성\n",
        "\n",
        "mylist = list(range(1,11))\n"
      ],
      "metadata": {
        "colab": {
          "base_uri": "https://localhost:8080/"
        },
        "id": "nGIgE1qGTJaL",
        "outputId": "9e509ed9-724c-4bf5-e923-b4e6d518418d"
      },
      "execution_count": 35,
      "outputs": [
        {
          "output_type": "execute_result",
          "data": {
            "text/plain": [
              "[1, 2, 3, 4, 5, 6, 7, 8, 9, 10]"
            ]
          },
          "metadata": {},
          "execution_count": 35
        }
      ]
    },
    {
      "cell_type": "markdown",
      "source": [
        "### 리스트 요소(element)에 접근하기"
      ],
      "metadata": {
        "id": "oGKrbP99T1yz"
      }
    },
    {
      "cell_type": "code",
      "source": [
        "# 인덱스로 요소에 접근한다.\n",
        "\n",
        "colors = ['blue','purple','green','pink','white']\n",
        "print(f'인덱스 3번의 값(요소)은 : {colors[3]}')\n",
        "print(colors[2:])\n",
        "\n",
        "for idx, color in enumerate(colors):\n",
        "  print(f'내가 좋아하는 색상은{idx} : {color}!')"
      ],
      "metadata": {
        "colab": {
          "base_uri": "https://localhost:8080/"
        },
        "id": "WWzlJaZRT7gT",
        "outputId": "76408d27-4844-417a-86e2-de7f4421af64"
      },
      "execution_count": 40,
      "outputs": [
        {
          "output_type": "stream",
          "name": "stdout",
          "text": [
            "인덱스 3번의 값(요소)은 : pink\n",
            "['green', 'pink', 'white']\n",
            "내가 좋아하는 색상은0 : blue!\n",
            "내가 좋아하는 색상은1 : purple!\n",
            "내가 좋아하는 색상은2 : green!\n",
            "내가 좋아하는 색상은3 : pink!\n",
            "내가 좋아하는 색상은4 : white!\n"
          ]
        }
      ]
    },
    {
      "cell_type": "code",
      "source": [
        "a = [1,2,3,4]\n",
        "b = [5,6,7]\n",
        "print(a+b, len(a+b))"
      ],
      "metadata": {
        "colab": {
          "base_uri": "https://localhost:8080/"
        },
        "id": "fh3NiqhDVnx2",
        "outputId": "db3ee01e-b591-4690-b9e3-f2480a1ad7c2"
      },
      "execution_count": 41,
      "outputs": [
        {
          "output_type": "stream",
          "name": "stdout",
          "text": [
            "[1, 2, 3, 4, 5, 6, 7] 7\n"
          ]
        }
      ]
    },
    {
      "cell_type": "code",
      "source": [
        "colors = ['blue','purple','green','pink','white']\n",
        "\n",
        "# 맨 뒤에 추가하기. append(값)\n",
        "colors.append('black')\n",
        "print(colors)\n",
        "\n",
        "# 특정 위치에 추가하기 .insert(위치, 값)\n",
        "colors.insert(2,'remon')\n",
        "print(colors)"
      ],
      "metadata": {
        "colab": {
          "base_uri": "https://localhost:8080/"
        },
        "id": "v_Y8GbZrWH5W",
        "outputId": "3af1acd0-e164-43b4-81ef-0b351a74925c"
      },
      "execution_count": 44,
      "outputs": [
        {
          "output_type": "stream",
          "name": "stdout",
          "text": [
            "['blue', 'purple', 'green', 'pink', 'white', 'black']\n",
            "['blue', 'purple', 'remon', 'green', 'pink', 'white', 'black']\n"
          ]
        }
      ]
    },
    {
      "cell_type": "code",
      "source": [
        "colors = ['blue','purple','green','pink','white']\n",
        "print(colors)\n",
        "\n",
        "\n",
        "# 리스트에서 특정 요소 삭제하기 : remove(값)\n",
        "colors.remove('green')\n",
        "print(colors)\n",
        "\n",
        "# 리스트에서 맨 뒤 요소 삭제하기 : pop()\n",
        "colors.pop()\n",
        "print(colors)\n"
      ],
      "metadata": {
        "colab": {
          "base_uri": "https://localhost:8080/"
        },
        "id": "X-Svoi_1XK6D",
        "outputId": "6f656945-82ee-4228-c0f6-07e2518e0214"
      },
      "execution_count": 46,
      "outputs": [
        {
          "output_type": "stream",
          "name": "stdout",
          "text": [
            "['blue', 'purple', 'green', 'pink', 'white']\n",
            "['blue', 'purple', 'pink', 'white']\n",
            "['blue', 'purple', 'pink']\n"
          ]
        }
      ]
    },
    {
      "cell_type": "code",
      "source": [
        "colors = ['blue','purple','green','pink','white']\n",
        "print(colors)\n",
        "\n",
        "# 인덱스 위치에 해당하는 값을 변경하기(대체하기)\n",
        "colors[2]='little_green'\n",
        "print(colors)\n",
        "\n",
        "colors[2:]='little_green'\n",
        "print(colors)\n",
        "\n",
        "\n",
        "\n",
        "\n"
      ],
      "metadata": {
        "colab": {
          "base_uri": "https://localhost:8080/"
        },
        "id": "CIDPDv2AX_GY",
        "outputId": "ed3f045d-a13d-4810-dfc3-5ce2b28078b5"
      },
      "execution_count": 48,
      "outputs": [
        {
          "output_type": "stream",
          "name": "stdout",
          "text": [
            "['blue', 'purple', 'green', 'pink', 'white']\n",
            "['blue', 'purple', 'little_green', 'pink', 'white']\n",
            "['blue', 'purple', 'l', 'i', 't', 't', 'l', 'e', '_', 'g', 'r', 'e', 'e', 'n']\n"
          ]
        }
      ]
    },
    {
      "cell_type": "code",
      "source": [
        "colors = ['blue','purple','green','pink','white']\n",
        "print(colors)\n",
        "\n",
        "colors.sort()\n",
        "print(colors)\n",
        "\n",
        "\n",
        "colors.sort(reverse=True)\n",
        "print(colors)\n"
      ],
      "metadata": {
        "colab": {
          "base_uri": "https://localhost:8080/"
        },
        "id": "EFRxuK7pZP2H",
        "outputId": "1e23c0f2-3d3c-4f9e-e047-42368e87ab3f"
      },
      "execution_count": 50,
      "outputs": [
        {
          "output_type": "stream",
          "name": "stdout",
          "text": [
            "['blue', 'purple', 'green', 'pink', 'white']\n",
            "['blue', 'green', 'pink', 'purple', 'white']\n",
            "['white', 'purple', 'pink', 'green', 'blue']\n"
          ]
        }
      ]
    },
    {
      "cell_type": "code",
      "source": [
        "# 파이썬 기본 함수 : 정렬하기 sorted()"
      ],
      "metadata": {
        "id": "OaH36c8LaXqe"
      },
      "execution_count": null,
      "outputs": []
    },
    {
      "cell_type": "markdown",
      "source": [
        "###  다차원 리스트 요소 접근"
      ],
      "metadata": {
        "id": "jUA5w-ZhbVlp"
      }
    },
    {
      "cell_type": "code",
      "source": [
        "numbers = [[1,2,3],\n",
        "           [4,5,[6,7,8]],\n",
        "           9,\n",
        "           10]\n",
        "print(len(numbers))\n",
        "print(len(numbers[0]))   #[1,2,3]\n",
        "print(len(numbers[1]))   #[4,5,[6,7,8]]\n",
        "print(numbers[0][1])      # 2에 대한 접근\n",
        "print(numbers[1][2][1])   # 7에 대한 접근\n",
        "print(numbers[1][2][1:])"
      ],
      "metadata": {
        "colab": {
          "base_uri": "https://localhost:8080/"
        },
        "id": "iyS2_yGAbZy9",
        "outputId": "4327130e-e4dc-4858-cd76-9b719e0ffd98"
      },
      "execution_count": 61,
      "outputs": [
        {
          "output_type": "stream",
          "name": "stdout",
          "text": [
            "4\n",
            "3\n",
            "3\n",
            "2\n",
            "7\n",
            "[7, 8]\n"
          ]
        }
      ]
    },
    {
      "cell_type": "markdown",
      "source": [
        "### 3행 4열 리스트 출력하기 : 중첩 for문"
      ],
      "metadata": {
        "id": "gCnlvEi0fLdL"
      }
    },
    {
      "cell_type": "code",
      "source": [
        "#mylist = list(range(3))\n",
        "#mylist = [ i for i in range(3)]    # 컴프리헨션\n",
        "\n",
        "\n",
        "# 빈 방(2차원 리스트)를 준비\n",
        "mylist = [ [] for i in range(3)]\n",
        "mylist\n",
        "\n",
        "# 각 방(2차원 리스트)에 값을 추가\n",
        "value = 1\n",
        "for i in range(3):\n",
        "  for _ in range(4):\n",
        "    mylist[i].append(f'{value :>4}')\n",
        "    value +=1\n",
        "\n",
        "print(mylist)\n",
        "\n",
        "\n",
        "for i in range(3):\n",
        "  print(\"\".join(mylist[i]))"
      ],
      "metadata": {
        "colab": {
          "base_uri": "https://localhost:8080/"
        },
        "id": "a5e4VzwEdems",
        "outputId": "39ac5e0f-5673-40eb-f7ea-00dfa502ed2a"
      },
      "execution_count": 69,
      "outputs": [
        {
          "output_type": "stream",
          "name": "stdout",
          "text": [
            "[['   1', '   2', '   3', '   4'], ['   5', '   6', '   7', '   8'], ['   9', '  10', '  11', '  12']]\n",
            "   1   2   3   4\n",
            "   5   6   7   8\n",
            "   9  10  11  12\n"
          ]
        }
      ]
    },
    {
      "cell_type": "code",
      "source": [
        "# 각 방(2차원 리스트)에 값을 추가한다.\n",
        "value = 1\n",
        "mylist = []\n",
        "for i in range(5):\n",
        "    mylist.append([])\n",
        "    for _ in range(6):\n",
        "        mylist[i].append(f'{value:>2}')\n",
        "        value += 1\n",
        "print(mylist)\n",
        "\n",
        "for i in range(4):\n",
        "    print(\" \".join(mylist[i]))  # 1 2 3 4"
      ],
      "metadata": {
        "id": "6tG1mZwxkCzq"
      },
      "execution_count": null,
      "outputs": []
    },
    {
      "cell_type": "code",
      "source": [
        "def func_sum(x, y):\n",
        "    return 2*x + y\n",
        "\n",
        "\n",
        "print(func_sum(5, 10))\n",
        "\n",
        "#튜플타입으로 자료손상시키지 않고/함수의 인자들은 튜플로 전달/속도 더 빠름"
      ],
      "metadata": {
        "colab": {
          "base_uri": "https://localhost:8080/"
        },
        "id": "pdjP28KJldZV",
        "outputId": "c6f91676-3936-41e8-95b8-6c2c52da8b1a"
      },
      "execution_count": 71,
      "outputs": [
        {
          "output_type": "stream",
          "name": "stdout",
          "text": [
            "20\n"
          ]
        }
      ]
    }
  ]
}