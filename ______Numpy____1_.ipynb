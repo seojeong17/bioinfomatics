{
  "nbformat": 4,
  "nbformat_minor": 0,
  "metadata": {
    "colab": {
      "provenance": [],
      "toc_visible": true,
      "include_colab_link": true
    },
    "kernelspec": {
      "name": "python3",
      "display_name": "Python 3"
    },
    "language_info": {
      "name": "python"
    }
  },
  "cells": [
    {
      "cell_type": "markdown",
      "metadata": {
        "id": "view-in-github",
        "colab_type": "text"
      },
      "source": [
        "<a href=\"https://colab.research.google.com/github/seojeong17/bioinfomatics/blob/main/______Numpy____1_.ipynb\" target=\"_parent\"><img src=\"https://colab.research.google.com/assets/colab-badge.svg\" alt=\"Open In Colab\"/></a>"
      ]
    },
    {
      "cell_type": "markdown",
      "source": [
        "\n",
        "1. **Numpy**\n",
        "\n",
        "2. **np.array()**\n",
        "\n",
        "  1) ndarray의 데이터 타입\n",
        "\n",
        "  2) ndarray를 편리하게 생성하기\n",
        "\n",
        "3.  **차원과 크기 변경: reshape()**\n",
        "\n",
        "4.  **데이터 세트 선택하기 - 인덱싱(Indexing)**\n",
        "\n",
        "5. **행렬의 정렬 - sort()와 argsort()**\n",
        "\n",
        "6. **선형대수 연산 - 행렬 내적과 전치 행렬 구하기**\n",
        "\n",
        "7. **배열 간 사칙연산**\n",
        "\n",
        "8. **Broadcasting**\n",
        "\n",
        "9. **집계(Aggregation)**\n",
        "\n",
        "  1) 합계\n",
        "\n",
        "  2) 평균\n",
        "\n",
        "  3) 곱셈\n",
        "\n",
        "  4) 최댓값과 최솟값\n",
        "\n",
        "  5) 표준편차와 분산\n"
      ],
      "metadata": {
        "id": "m8MtFY4im7Eg"
      }
    },
    {
      "cell_type": "markdown",
      "source": [
        "<div><span>"
      ],
      "metadata": {
        "id": "Tr-D3iAYn8Wt"
      }
    },
    {
      "cell_type": "markdown",
      "source": [
        "\n",
        "\n",
        "---\n",
        "\n"
      ],
      "metadata": {
        "id": "PXTmJWXAfI6P"
      }
    },
    {
      "cell_type": "markdown",
      "source": [
        "## **1. Numpy**"
      ],
      "metadata": {
        "id": "j4O3-2SYmjHA"
      }
    },
    {
      "cell_type": "markdown",
      "source": [
        "선형대수는 머신러닝 주요 알고리즘 중 하나입니다.\n",
        "<br/>넘파이는 파이썬에서 선형대수 기반 프로그램을 가능하게 하는 대표적인 패키지이며 빠른 계산과 배열 연산 능력을 보장합니다."
      ],
      "metadata": {
        "id": "LNIbwJt0ca6z"
      }
    },
    {
      "cell_type": "markdown",
      "source": [
        "수행 성능이 중요시될 때는 C/C++ 기반의 코드를 넘파이에서 호출하여 쉽게 통합할 수도 있습니다.\n",
        "<br/> 딥러닝 프레임워크인 텐서플로가 앞서 말한 방식으로 작성됐습니다."
      ],
      "metadata": {
        "id": "FvnFcCaTfZGo"
      }
    },
    {
      "cell_type": "markdown",
      "source": [
        "넘파이는 다양한 데이터 핸들링 기능도 제공하지만 데이터 처리 패키지인 판다스의 편리성은 따라가지 못합니다.\n",
        "<br/> 그러나 많은 머신러닝 알고리즘이 넘파이를 기반으로 하기 때문에 넘파이에 익숙해지는 것이 매우 중요합니다."
      ],
      "metadata": {
        "id": "YElQBKAZeQPb"
      }
    },
    {
      "cell_type": "markdown",
      "source": [
        "ㅤ"
      ],
      "metadata": {
        "id": "w9jjVOmoEivl"
      }
    },
    {
      "cell_type": "code",
      "source": [
        "import numpy as np"
      ],
      "metadata": {
        "id": "Cs2YJVO4mpAS"
      },
      "execution_count": null,
      "outputs": []
    },
    {
      "cell_type": "markdown",
      "source": [
        "ㅤ"
      ],
      "metadata": {
        "id": "JiM99u3ieQAc"
      }
    },
    {
      "cell_type": "code",
      "source": [
        "data = [1,2,3,4]\n",
        "result = []\n",
        "\n",
        "for i in data :\n",
        "  result.append(i*10)\n",
        "\n",
        "print(result, type(result))"
      ],
      "metadata": {
        "colab": {
          "base_uri": "https://localhost:8080/"
        },
        "id": "K2-mMSXnBkyE",
        "outputId": "9e46d97a-9508-4514-8dc4-010cb1fd7131"
      },
      "execution_count": null,
      "outputs": [
        {
          "output_type": "stream",
          "name": "stdout",
          "text": [
            "[10, 20, 30, 40] <class 'list'>\n"
          ]
        }
      ]
    },
    {
      "cell_type": "code",
      "source": [
        "#넘파이를 이용해 10씩 곱하기\n",
        "arr = np.array(data)\n",
        "\n",
        "arr10  = arr*10\n",
        "print(arr10, type(arr10))"
      ],
      "metadata": {
        "colab": {
          "base_uri": "https://localhost:8080/"
        },
        "id": "OAq0YTbRB7hj",
        "outputId": "8dff96d8-5179-42cf-dbc2-bf43ffcd9f0b"
      },
      "execution_count": null,
      "outputs": [
        {
          "output_type": "stream",
          "name": "stdout",
          "text": [
            "[10 20 30 40] <class 'numpy.ndarray'>\n"
          ]
        }
      ]
    },
    {
      "cell_type": "markdown",
      "source": [
        "## **2. np.array()**\n",
        "\n",
        "*   리스트와 같은 다양한 인자를 입력 받아서 ndarray로 변환하는 기능을 수행합니다.\n",
        "*   .shape로 배열의 모양을 확인할 수 있으며 ndarray의 행과 열의 수를 튜플 형태로 가집니다.\n",
        "*   대괄호[] 중첩으로 배열이 증가합니다.\n",
        "\n",
        "\n",
        "\n",
        "\n"
      ],
      "metadata": {
        "id": "lWh8o8ypm5Ot"
      }
    },
    {
      "cell_type": "code",
      "source": [
        "#1차원 배열\n",
        "배열1 = np.array([1,2,3])\n",
        "print(배열1)\n",
        "print(배열1.shape)"
      ],
      "metadata": {
        "colab": {
          "base_uri": "https://localhost:8080/"
        },
        "id": "X4wDZJpHG0ge",
        "outputId": "912ab421-1568-488e-d6fb-05498befa630"
      },
      "execution_count": null,
      "outputs": [
        {
          "output_type": "stream",
          "name": "stdout",
          "text": [
            "[1 2 3]\n",
            "(3,)\n"
          ]
        }
      ]
    },
    {
      "cell_type": "code",
      "source": [
        "#2차원 배열\n",
        "배열2 = np.array([[1,2,3], [4,5,6]])\n",
        "print(배열2)\n",
        "print(배열2.shape)"
      ],
      "metadata": {
        "colab": {
          "base_uri": "https://localhost:8080/"
        },
        "id": "wpswR6ItHlDe",
        "outputId": "024b9479-5188-4257-ed6b-f64b3aca30f6"
      },
      "execution_count": null,
      "outputs": [
        {
          "output_type": "stream",
          "name": "stdout",
          "text": [
            "[[1 2 3]\n",
            " [4 5 6]]\n",
            "(2, 3)\n"
          ]
        }
      ]
    },
    {
      "cell_type": "code",
      "source": [
        "#3차원 배열\n",
        "배열3 = np.array([[[1,2,3], [4,5,6],[7,8,9]]])\n",
        "print(배열3)\n",
        "print(배열3.shape)"
      ],
      "metadata": {
        "colab": {
          "base_uri": "https://localhost:8080/"
        },
        "id": "WNOUzScwIKgZ",
        "outputId": "02740a47-a944-43f2-fdd5-bc2ad836f0dc"
      },
      "execution_count": null,
      "outputs": [
        {
          "output_type": "stream",
          "name": "stdout",
          "text": [
            "[[[1 2 3]\n",
            "  [4 5 6]\n",
            "  [7 8 9]]]\n",
            "(1, 3, 3)\n"
          ]
        }
      ]
    },
    {
      "cell_type": "markdown",
      "source": [
        "ㅤ"
      ],
      "metadata": {
        "id": "8SKfQy9ieQ8D"
      }
    },
    {
      "cell_type": "markdown",
      "source": [
        "ㅤ"
      ],
      "metadata": {
        "id": "82xE1uF0eTjk"
      }
    },
    {
      "cell_type": "markdown",
      "source": [
        "### **1) ndarray의 데이터 타입**\n",
        "\n",
        "\n",
        "\n",
        "\n"
      ],
      "metadata": {
        "id": "9gskT0Xlxem9"
      }
    },
    {
      "cell_type": "markdown",
      "source": [
        "숫자값, 문자열 값, bool 값 등이 모두 가능합니다."
      ],
      "metadata": {
        "id": "t8vACAuNyMpy"
      }
    },
    {
      "cell_type": "markdown",
      "source": [
        "연산의 특성상 같은 데이터 타입만 가능합니다. 즉, 한 개의 ndarray 객체에 int와 float가 함께 있을 수 없습니다."
      ],
      "metadata": {
        "id": "NH8Dr7yeyYYY"
      }
    },
    {
      "cell_type": "markdown",
      "source": [
        "dtype으로 데이터 타입 속성을 확인 할 수 있습니다."
      ],
      "metadata": {
        "id": "PcFMzR_lyppz"
      }
    },
    {
      "cell_type": "markdown",
      "source": [
        "ㅤ"
      ],
      "metadata": {
        "id": "GnYoHdK3eVHs"
      }
    },
    {
      "cell_type": "code",
      "source": [
        "list1 = [1.5, 2.4,3.7]\n",
        "print(type(list1))\n",
        "\n",
        "array1 = np.array(list1)\n",
        "print(type(array1))\n",
        "\n",
        "print(array1, array1.dtype)"
      ],
      "metadata": {
        "colab": {
          "base_uri": "https://localhost:8080/"
        },
        "id": "RuxMYujYJZCP",
        "outputId": "85c947f6-629f-4828-9307-db436d0df38f"
      },
      "execution_count": null,
      "outputs": [
        {
          "output_type": "stream",
          "name": "stdout",
          "text": [
            "<class 'list'>\n",
            "<class 'numpy.ndarray'>\n",
            "[1.5 2.4 3.7] float64\n"
          ]
        }
      ]
    },
    {
      "cell_type": "code",
      "source": [
        "list2 = [1, 2, 't']\n",
        "arr2 = np.array(list2)\n",
        "print(arr2, arr2.dtype)"
      ],
      "metadata": {
        "colab": {
          "base_uri": "https://localhost:8080/"
        },
        "id": "FfH908alJ1QX",
        "outputId": "e967bcae-1836-4f05-9d82-b73622912a78"
      },
      "execution_count": null,
      "outputs": [
        {
          "output_type": "stream",
          "name": "stdout",
          "text": [
            "['1' '2' 't'] <U21\n"
          ]
        }
      ]
    },
    {
      "cell_type": "code",
      "source": [
        "list2 = [1, 2, 3.5, 4]\n",
        "arr2 = np.array(list2)\n",
        "print(arr2, arr2.dtype)"
      ],
      "metadata": {
        "colab": {
          "base_uri": "https://localhost:8080/"
        },
        "id": "H19tLrHUKSPo",
        "outputId": "50d60289-9ebf-42a8-d2c6-cccb01171707"
      },
      "execution_count": null,
      "outputs": [
        {
          "output_type": "stream",
          "name": "stdout",
          "text": [
            "[1.  2.  3.5 4. ] float64\n"
          ]
        }
      ]
    },
    {
      "cell_type": "markdown",
      "source": [
        "* 서로 다른 데이터 타입이 섞여 있을 경우 데이터 타입이 더 큰 데이터 타입으로 변환됩니다.\n",
        "* 사용하는 아키텍처에 따라 지정되기 때문에\n",
        "int64비트가 기본으로 설정\n",
        "\n",
        "\n",
        "> int형: 8bit, 16bit, 32bit\n",
        "\n",
        "\n",
        "> unsigned int형: 8bit, 16bit, 32bit\n",
        "\n",
        "\n",
        "> float형: 16bit, 32bit, 64bit, 128bit\n",
        "\n",
        "\n",
        "\n",
        "\n",
        "\n",
        "\n",
        "\n",
        "\n",
        "\n"
      ],
      "metadata": {
        "id": "7XuUrUR31N51"
      }
    },
    {
      "cell_type": "markdown",
      "source": [
        "ㅤ"
      ],
      "metadata": {
        "id": "8jvtA_SBeXGA"
      }
    },
    {
      "cell_type": "markdown",
      "source": [
        "* int8 ( -128 ~ 127 )\n",
        "* int16 ( -32768 ~ 32767 )\n",
        "* int32 ( -2147483648 ~ 2147483647 )"
      ],
      "metadata": {
        "id": "lG_S_DkGpQY-"
      }
    },
    {
      "cell_type": "markdown",
      "source": [
        "메모리를 절약해야 할 때 astype()을 사용하여 ndarray 내 데이터값의 타입을 변경할 수 있습니다."
      ],
      "metadata": {
        "id": "hkQHjmT_2mG8"
      }
    },
    {
      "cell_type": "markdown",
      "source": [
        "ㅤ"
      ],
      "metadata": {
        "id": "LRMPWLhLeYWi"
      }
    },
    {
      "cell_type": "markdown",
      "source": [
        "### **2) ndarray를 편리하게 생성하기**\n"
      ],
      "metadata": {
        "id": "WwpZVu7Q3kQ7"
      }
    },
    {
      "cell_type": "markdown",
      "source": [
        "**[ arange() ]**"
      ],
      "metadata": {
        "id": "LjHxuwbKff1J"
      }
    },
    {
      "cell_type": "markdown",
      "source": [
        "arange()는 표준 함수 range()와 유사,\n",
        "데이터 타입 지정하지 않으면 넘파이가 가장 적절한 타입으로 지정.\n",
        "~~~\n",
        "np.arange( 시작번호, 끝번호(포함X), 간격, dtype=데이터타입 )\n",
        "~~~"
      ],
      "metadata": {
        "id": "1Fxatu863uN3"
      }
    },
    {
      "cell_type": "code",
      "source": [
        "seq_arr = np.arange(10)\n",
        "print(seq_arr)"
      ],
      "metadata": {
        "colab": {
          "base_uri": "https://localhost:8080/"
        },
        "id": "jBPvP9DvLmil",
        "outputId": "a83baf79-49f9-4777-a99c-f01b384ff4e4"
      },
      "execution_count": null,
      "outputs": [
        {
          "output_type": "stream",
          "name": "stdout",
          "text": [
            "[0 1 2 3 4 5 6 7 8 9]\n"
          ]
        }
      ]
    },
    {
      "cell_type": "markdown",
      "source": [
        "0부터 함수 인자 값 -1까지의 값을 순차적으로 ndarray의 데이터값으로 변환합니다."
      ],
      "metadata": {
        "id": "umcifAMn4ryG"
      }
    },
    {
      "cell_type": "markdown",
      "source": [
        "**[ linspace() ]**\n",
        "\n",
        "범위를 정해주고 정해진 수만큼 분할된 수열 생성"
      ],
      "metadata": {
        "id": "Tn8clfLzrhzH"
      }
    },
    {
      "cell_type": "markdown",
      "source": [
        "~~~\n",
        "np.linspace( 시작번호, 끝번호(포함), 나눌갯수, dtype=데이터타입 )\n",
        "~~~\n",
        "기본 값 실수, arange와 다른점을 끝번호를 포함하여 생성"
      ],
      "metadata": {
        "id": "Rbzer6z6roLt"
      }
    },
    {
      "cell_type": "code",
      "source": [
        "seq_arr = np.linspace(1,100, 5, dtype=np.int32)\n",
        "print(seq_arr, seq_arr.dtype)"
      ],
      "metadata": {
        "colab": {
          "base_uri": "https://localhost:8080/"
        },
        "id": "IgjjIA9fMTr_",
        "outputId": "8a61b8a8-66c6-4c16-91b4-0b2478dda9be"
      },
      "execution_count": null,
      "outputs": [
        {
          "output_type": "stream",
          "name": "stdout",
          "text": [
            "[  1  25  50  75 100] int32\n"
          ]
        }
      ]
    },
    {
      "cell_type": "markdown",
      "source": [
        "ㅤ"
      ],
      "metadata": {
        "id": "e4T6VFEEeaRu"
      }
    },
    {
      "cell_type": "markdown",
      "source": [
        "**[ zeros() ]**"
      ],
      "metadata": {
        "id": "0T1upwBKgASw"
      }
    },
    {
      "cell_type": "markdown",
      "source": [
        "zeros()는 모든 값을 0으로 채운 배열을 만듭니다."
      ],
      "metadata": {
        "id": "THThhjM34uyI"
      }
    },
    {
      "cell_type": "code",
      "source": [
        "zeros = np.zeros(10, dtype=np.int8)\n",
        "print(zeros, zeros.dtype)"
      ],
      "metadata": {
        "colab": {
          "base_uri": "https://localhost:8080/"
        },
        "id": "wK0vsSYMNMS9",
        "outputId": "680529e3-d3e4-4d5d-e629-044c562747f7"
      },
      "execution_count": null,
      "outputs": [
        {
          "output_type": "stream",
          "name": "stdout",
          "text": [
            "[0 0 0 0 0 0 0 0 0 0] int8\n"
          ]
        }
      ]
    },
    {
      "cell_type": "code",
      "source": [
        "zeros1 = np.zeros((3,2))\n",
        "print(zeros1)"
      ],
      "metadata": {
        "colab": {
          "base_uri": "https://localhost:8080/"
        },
        "id": "Pqs4VQMQNiUx",
        "outputId": "74e4c87b-3d9a-41a9-a266-96b380dfe47c"
      },
      "execution_count": null,
      "outputs": [
        {
          "output_type": "stream",
          "name": "stdout",
          "text": [
            "[[0. 0.]\n",
            " [0. 0.]\n",
            " [0. 0.]]\n"
          ]
        }
      ]
    },
    {
      "cell_type": "code",
      "source": [
        "zeros2 = np.zeros([3,2])\n",
        "print(zeros2)"
      ],
      "metadata": {
        "colab": {
          "base_uri": "https://localhost:8080/"
        },
        "id": "XzJoEY9RNq9E",
        "outputId": "6228eb49-a880-4a42-e32b-b8d9ddee6802"
      },
      "execution_count": null,
      "outputs": [
        {
          "output_type": "stream",
          "name": "stdout",
          "text": [
            "[[0. 0.]\n",
            " [0. 0.]\n",
            " [0. 0.]]\n"
          ]
        }
      ]
    },
    {
      "cell_type": "markdown",
      "source": [
        "ㅤ"
      ],
      "metadata": {
        "id": "BKe_LmKFecVp"
      }
    },
    {
      "cell_type": "markdown",
      "source": [
        "**[ ones() ]**"
      ],
      "metadata": {
        "id": "FphezyjhgDfO"
      }
    },
    {
      "cell_type": "markdown",
      "source": [
        "ones()는 모든 값을 1로 채운 배열을 만듭니다."
      ],
      "metadata": {
        "id": "DThhde6O5lgB"
      }
    },
    {
      "cell_type": "code",
      "source": [
        "one1 = np.ones((3,2))\n",
        "print(one1)"
      ],
      "metadata": {
        "colab": {
          "base_uri": "https://localhost:8080/"
        },
        "id": "HLg7QGRzN165",
        "outputId": "f0146979-f035-4cbd-c8cb-1d3a30b2abd4"
      },
      "execution_count": null,
      "outputs": [
        {
          "output_type": "stream",
          "name": "stdout",
          "text": [
            "[[1. 1.]\n",
            " [1. 1.]\n",
            " [1. 1.]]\n"
          ]
        }
      ]
    },
    {
      "cell_type": "markdown",
      "source": [
        "ㅤ"
      ],
      "metadata": {
        "id": "QgmpkAf5edxJ"
      }
    },
    {
      "cell_type": "markdown",
      "source": [
        "**[ random.randn() ]**"
      ],
      "metadata": {
        "id": "CRaBQ4vRgFvM"
      }
    },
    {
      "cell_type": "markdown",
      "source": [
        "random.randn()는 랜덤한 숫자 배열을 만듭니다."
      ],
      "metadata": {
        "id": "pkBAKXPi5ueu"
      }
    },
    {
      "cell_type": "code",
      "source": [
        "rd = np.random.randn(3,2)\n",
        "print(rd)"
      ],
      "metadata": {
        "colab": {
          "base_uri": "https://localhost:8080/"
        },
        "id": "BSoq4WDrOX8y",
        "outputId": "a882d9ec-dbe9-4238-e597-c2ca5c1934bb"
      },
      "execution_count": null,
      "outputs": [
        {
          "output_type": "stream",
          "name": "stdout",
          "text": [
            "[[ 2.11953232  0.55015813]\n",
            " [-0.74682058 -0.99314932]\n",
            " [-0.93531894  0.23948829]]\n"
          ]
        }
      ]
    },
    {
      "cell_type": "markdown",
      "source": [
        "ㅤ"
      ],
      "metadata": {
        "id": "T0g6eAzYefbN"
      }
    },
    {
      "cell_type": "markdown",
      "source": [
        "## **3. 차원과 크기 변경: reshape()**"
      ],
      "metadata": {
        "id": "3Jrc0vHq7E9X"
      }
    },
    {
      "cell_type": "markdown",
      "source": [
        "ndarray를 특정 차원 및 크기로 변환합니다."
      ],
      "metadata": {
        "id": "YZ2mPWrlS5g9"
      }
    },
    {
      "cell_type": "markdown",
      "source": [
        "지정된 사이즈로 변경이 불가능하면 오류가 발생합니다."
      ],
      "metadata": {
        "id": "V2KgtItWUhIw"
      }
    },
    {
      "cell_type": "markdown",
      "source": [
        "####배열의 차원 확인(뒤에 괄호 붙이지 않음)\n",
        "\n",
        "~~~\n",
        "배열이름.ndim\n",
        "~~~"
      ],
      "metadata": {
        "id": "n1-iX6KCsu61"
      }
    },
    {
      "cell_type": "code",
      "source": [
        "a1 =  np.array([1,2,3,4,5])\n",
        "a2 = np.array([[1,2,3,4,5],[1,2,3,4,5]])\n",
        "a3 = np.array([[[1,2,3],[1,2,3]],[[1,2,3],[1,2,3,]],[[1,2,3],[1,2,3]]])\n",
        "print(a1.ndim)\n",
        "print(a2.ndim)\n",
        "print(a3.ndim)"
      ],
      "metadata": {
        "colab": {
          "base_uri": "https://localhost:8080/"
        },
        "id": "A97lkw3CO37A",
        "outputId": "b96eb667-dde2-439d-c914-bc011b32a302"
      },
      "execution_count": null,
      "outputs": [
        {
          "output_type": "stream",
          "name": "stdout",
          "text": [
            "1\n",
            "2\n",
            "3\n"
          ]
        }
      ]
    },
    {
      "cell_type": "markdown",
      "source": [
        "####배열의 크기\n",
        "~~~\n",
        "배열이름.shape\n",
        "~~~"
      ],
      "metadata": {
        "id": "H7nijyNjtHs3"
      }
    },
    {
      "cell_type": "code",
      "source": [
        "print(a1.shape)\n",
        "print(a2.shape)\n",
        "print(a3.shape)"
      ],
      "metadata": {
        "colab": {
          "base_uri": "https://localhost:8080/"
        },
        "id": "Nq19A2DGP2Ab",
        "outputId": "413f2869-3f0f-432c-a2cb-eec47982eec7"
      },
      "execution_count": null,
      "outputs": [
        {
          "output_type": "stream",
          "name": "stdout",
          "text": [
            "(5,)\n",
            "(2, 5)\n",
            "(3, 2, 3)\n"
          ]
        }
      ]
    },
    {
      "cell_type": "markdown",
      "source": [
        "####배열의 차원 바꾸기\n",
        "~~~\n",
        "배열이름.reshape(행, 열)\n",
        "~~~"
      ],
      "metadata": {
        "id": "LosLOgqwtl2p"
      }
    },
    {
      "cell_type": "code",
      "source": [
        "arr1 = np.arange(10)\n",
        "print(arr1)\n",
        "\n",
        "arr2 = arr1. reshape(2,5)\n",
        "print(arr2)\n",
        "\n",
        "#arr3 = arr1. reshape(3,3)\n",
        "#print(arr3)"
      ],
      "metadata": {
        "id": "71d3Yzc5QHxo"
      },
      "execution_count": null,
      "outputs": []
    },
    {
      "cell_type": "markdown",
      "source": [
        "ㅤ"
      ],
      "metadata": {
        "id": "63hp-RG7eikA"
      }
    },
    {
      "cell_type": "markdown",
      "source": [
        "* 행이나 열중 하나의 갯수만 정하고 나머지는 정하기 힘들때\n",
        "행,열 자리에 -1 입력,\n",
        "* reshape(-1, 1)을 이용해 3차원을 2차원으로 2차원을 1차원으로 변경할 수 있습니다."
      ],
      "metadata": {
        "id": "isKQ11_GZUn3"
      }
    },
    {
      "cell_type": "markdown",
      "source": [
        "####행과 열을 바꾸기\n",
        "~~~\n",
        "배열이름.T\n",
        "~~~"
      ],
      "metadata": {
        "id": "rlRG2nj9vKT-"
      }
    },
    {
      "cell_type": "code",
      "source": [
        "arr = np.array([[1,2,3], [4,5,6]])\n",
        "arr"
      ],
      "metadata": {
        "colab": {
          "base_uri": "https://localhost:8080/"
        },
        "id": "3MG0sVc0SlJr",
        "outputId": "22c0c385-0a25-4517-cfe3-897b1e528472"
      },
      "execution_count": null,
      "outputs": [
        {
          "output_type": "execute_result",
          "data": {
            "text/plain": [
              "array([[1, 2, 3],\n",
              "       [4, 5, 6]])"
            ]
          },
          "metadata": {},
          "execution_count": 36
        }
      ]
    },
    {
      "cell_type": "code",
      "source": [
        "arr1 = arr.T\n",
        "arr1"
      ],
      "metadata": {
        "colab": {
          "base_uri": "https://localhost:8080/"
        },
        "id": "YgTDM4BmSv04",
        "outputId": "c1a2f304-aad9-43e5-e34d-fd88461c1d47"
      },
      "execution_count": null,
      "outputs": [
        {
          "output_type": "execute_result",
          "data": {
            "text/plain": [
              "array([[1, 4],\n",
              "       [2, 5],\n",
              "       [3, 6]])"
            ]
          },
          "metadata": {},
          "execution_count": 37
        }
      ]
    },
    {
      "cell_type": "markdown",
      "source": [
        "####배열  연결하기\n",
        "* 같은 행인 배열 연결하기\n",
        "~~~\n",
        "np.hstack([배열1, 배열2])\n",
        "~~~\n",
        "\n",
        "* 같은 열인 배열 연결하기\n",
        "~~~\n",
        "np.vstack([배열1, 배열2])\n",
        "~~~"
      ],
      "metadata": {
        "id": "-2mqVjSCvgdZ"
      }
    },
    {
      "cell_type": "markdown",
      "source": [
        "ㅤ"
      ],
      "metadata": {
        "id": "y7CL5vOdekTB"
      }
    },
    {
      "cell_type": "markdown",
      "source": [
        "## **4. 데이터 세트 선택하기: 인덱싱(Indexing)**"
      ],
      "metadata": {
        "id": "_pJuaw6daHti"
      }
    },
    {
      "cell_type": "markdown",
      "source": [
        "### **1) 단일 값 추출**"
      ],
      "metadata": {
        "id": "Q-6sGHOMahqm"
      }
    },
    {
      "cell_type": "markdown",
      "source": [
        "객체에 해당하는 위치의 인덱스 값을 [ ]안에 입력합니다."
      ],
      "metadata": {
        "id": "8nvenAR5avvr"
      }
    },
    {
      "cell_type": "code",
      "source": [
        "arr = np.arange(1,10)\n",
        "print(arr)\n",
        "print(arr[2])\n",
        "print(arr[-1])"
      ],
      "metadata": {
        "colab": {
          "base_uri": "https://localhost:8080/"
        },
        "id": "tAksIdWjS-u_",
        "outputId": "53aa5d41-6fb6-48c4-f875-338dff885c44"
      },
      "execution_count": null,
      "outputs": [
        {
          "output_type": "stream",
          "name": "stdout",
          "text": [
            "[1 2 3 4 5 6 7 8 9]\n",
            "3\n",
            "9\n"
          ]
        }
      ]
    },
    {
      "cell_type": "markdown",
      "source": [
        "ㅤ"
      ],
      "metadata": {
        "id": "EBDa3i2Del6w"
      }
    },
    {
      "cell_type": "markdown",
      "source": [
        "단일 인덱스를 이용해 데이터값 수정도 가능합니다."
      ],
      "metadata": {
        "id": "qiwc_-mKbnw2"
      }
    },
    {
      "cell_type": "code",
      "source": [
        "arr[0] = 10\n",
        "print(arr)"
      ],
      "metadata": {
        "colab": {
          "base_uri": "https://localhost:8080/"
        },
        "id": "lvwFHvktTeIz",
        "outputId": "6f870522-114b-4ed5-9777-9a2c7c1dca34"
      },
      "execution_count": null,
      "outputs": [
        {
          "output_type": "stream",
          "name": "stdout",
          "text": [
            "[10  2  3  4  5  6  7  8  9]\n"
          ]
        }
      ]
    },
    {
      "cell_type": "markdown",
      "source": [
        "ㅤ"
      ],
      "metadata": {
        "id": "ZEg2eolUen-Q"
      }
    },
    {
      "cell_type": "markdown",
      "source": [
        "다차원에서 단일 값을 추출할 수 있습니다."
      ],
      "metadata": {
        "id": "IFJPRXbHckYA"
      }
    },
    {
      "cell_type": "code",
      "source": [
        "arr2 = arr.reshape(3,3)\n",
        "print(arr2)\n",
        "print(arr2[0,0])\n",
        "print(arr2[0, 1])\n",
        "print(arr2[1, 1])"
      ],
      "metadata": {
        "colab": {
          "base_uri": "https://localhost:8080/"
        },
        "id": "1ObMuvq6TrdQ",
        "outputId": "21185e5e-9728-4a27-875b-6bc295642f92"
      },
      "execution_count": null,
      "outputs": [
        {
          "output_type": "stream",
          "name": "stdout",
          "text": [
            "[[10  2  3]\n",
            " [ 4  5  6]\n",
            " [ 7  8  9]]\n",
            "10\n",
            "2\n",
            "5\n"
          ]
        }
      ]
    },
    {
      "cell_type": "markdown",
      "source": [
        "ㅤ"
      ],
      "metadata": {
        "id": "oMsktWzQepaw"
      }
    },
    {
      "cell_type": "markdown",
      "source": [
        "ㅤ"
      ],
      "metadata": {
        "id": "svq_rNFAeqXJ"
      }
    },
    {
      "cell_type": "markdown",
      "source": [
        "### **2) 슬라이싱(Slicing)**"
      ],
      "metadata": {
        "id": "jYcrugElkv9d"
      }
    },
    {
      "cell_type": "markdown",
      "source": [
        ": 를 이용하여 연속 데이터를 추출합니다."
      ],
      "metadata": {
        "id": "4hFpTLcEk0dZ"
      }
    },
    {
      "cell_type": "markdown",
      "source": [
        "\n",
        "\n",
        "1.   : 기호 앞에 시작 인덱스를 생략하면 자동으로 맨 처음 인덱스인 0으로 간주합니다.\n",
        "2.   : 기호 뒤에 종료 인덱스를 생략하면 자동으로 맨 마지막 인덱스로 간주합니다.\n",
        "3.   : 기호 앞/뒤에 시작/종료 인덱스를 생략하면 자동으로 맨 처음/맨 마지막 인덱스로 간주합니다.\n",
        "\n"
      ],
      "metadata": {
        "id": "Li2toXC9TdHL"
      }
    },
    {
      "cell_type": "code",
      "source": [
        "arr = np.arange(1,10)\n",
        "print(arr)\n",
        "print(arr[0:2])\n",
        "print(arr[0:])\n",
        "print(arr[3:])"
      ],
      "metadata": {
        "colab": {
          "base_uri": "https://localhost:8080/"
        },
        "id": "Xs8RhBfmUQ8p",
        "outputId": "7379ded6-0dad-4a97-cbb2-c1293a5b375b"
      },
      "execution_count": null,
      "outputs": [
        {
          "output_type": "stream",
          "name": "stdout",
          "text": [
            "[1 2 3 4 5 6 7 8 9]\n",
            "[1 2]\n",
            "[1 2 3 4 5 6 7 8 9]\n",
            "[4 5 6 7 8 9]\n"
          ]
        }
      ]
    },
    {
      "cell_type": "markdown",
      "source": [
        "ㅤ"
      ],
      "metadata": {
        "id": "x1NAeDuoerzy"
      }
    },
    {
      "cell_type": "markdown",
      "source": [
        "2차원 ndarray에서 슬라이싱으로 데이터에 접근할 때는 콤마(,)로 행과 열 인덱스를 지칭합니다."
      ],
      "metadata": {
        "id": "6wFckcFjUjD5"
      }
    },
    {
      "cell_type": "code",
      "source": [
        "arr1 = arr.reshape(3,3)\n",
        "print(arr1)\n",
        "print(\"-------\")\n",
        "print(arr1[0:2])"
      ],
      "metadata": {
        "colab": {
          "base_uri": "https://localhost:8080/"
        },
        "id": "qwT8wXAYU4BF",
        "outputId": "74004b52-4d60-4d60-e3e1-ac58c5f241eb"
      },
      "execution_count": null,
      "outputs": [
        {
          "output_type": "stream",
          "name": "stdout",
          "text": [
            "[[1 2 3]\n",
            " [4 5 6]\n",
            " [7 8 9]]\n",
            "-------\n",
            "[[1 2 3]\n",
            " [4 5 6]]\n"
          ]
        }
      ]
    },
    {
      "cell_type": "markdown",
      "source": [
        "ㅤ"
      ],
      "metadata": {
        "id": "CinHnQ14es4b"
      }
    },
    {
      "cell_type": "markdown",
      "source": [
        "2차원 배열안에 있는 1차원 배열들 중에서 0번째와 1번째 배열을 가져옵니다."
      ],
      "metadata": {
        "id": "MH98R8EOkpeG"
      }
    },
    {
      "cell_type": "markdown",
      "source": [
        "ㅤ"
      ],
      "metadata": {
        "id": "r9zVm6xOet-N"
      }
    },
    {
      "cell_type": "markdown",
      "source": [
        "2차원 배열안에 있는 1차원 배열들 중에서 0번째부터 2번째까지 가져오고 가져온 1차원 배열 안에서 1번째부터 2번째까지 가져옵니다."
      ],
      "metadata": {
        "id": "td--N5fEk7JN"
      }
    },
    {
      "cell_type": "markdown",
      "source": [
        "ㅤ"
      ],
      "metadata": {
        "id": "SxeucqAoevY2"
      }
    },
    {
      "cell_type": "markdown",
      "source": [
        "2차원 배열안에 있는 1차원 배열들 중에서 1번째부터 맨 마지막번째까지 가져오고 가져온 1차원 배열안에서 맨 처음부터 1번째까지 가져옵니다."
      ],
      "metadata": {
        "id": "ULux28Eylfy0"
      }
    },
    {
      "cell_type": "markdown",
      "source": [
        "ㅤ"
      ],
      "metadata": {
        "id": "2Vs3jakrewoj"
      }
    },
    {
      "cell_type": "markdown",
      "source": [
        "2차원 배열안에 있는 1차원 배열들 중에서 0번째부터 2번째까지 가져오고 가져온 1차원 배열안에서 0번째까지 가져옵니다."
      ],
      "metadata": {
        "id": "p6RSg6w8mNYd"
      }
    },
    {
      "cell_type": "markdown",
      "source": [
        "ㅤ"
      ],
      "metadata": {
        "id": "LKcq9Wjnexh7"
      }
    },
    {
      "cell_type": "markdown",
      "source": [
        "### **3) 팬시 인덱싱**\n",
        "\n",
        "\n",
        "\n"
      ],
      "metadata": {
        "id": "BAnhYHvNmdg_"
      }
    },
    {
      "cell_type": "markdown",
      "source": [
        "리스트나 ndarray로 인덱스 집합을 지정하면 해당 위치의 인덱스에 해당하는 ndarray를 반환합니다."
      ],
      "metadata": {
        "id": "V_57eKJimyUu"
      }
    },
    {
      "cell_type": "code",
      "source": [
        "print(array1)\n",
        "print('-'*10)\n",
        "\n",
        "print(array1[[0,2]]) #0 행과 2행\n",
        "print('-'*10)\n",
        "\n",
        "print(array1[[0,2], 1]) #0행과 2행 중 1열\n",
        "print('-'*10)\n",
        "\n",
        "print(array1[[0,2], 0:2]) #0행과 2행의 0~1열"
      ],
      "metadata": {
        "id": "_aLUyLzf5O4K"
      },
      "execution_count": null,
      "outputs": []
    },
    {
      "cell_type": "markdown",
      "source": [
        "ㅤ"
      ],
      "metadata": {
        "id": "aO5JYHxKeyls"
      }
    },
    {
      "cell_type": "markdown",
      "source": [
        "### **4) 불린 인덱싱**"
      ],
      "metadata": {
        "id": "irvxDJMFoBJP"
      }
    },
    {
      "cell_type": "markdown",
      "source": [
        "조건 필터링과 검색을 동시에 할 수 있기 때문에 매우 자주 사용됩니다."
      ],
      "metadata": {
        "id": "ZuF31bqyoG-r"
      }
    },
    {
      "cell_type": "markdown",
      "source": [
        "* 1차원 불리언 배열 인덱싱\n",
        "--  [ ]대괄호안에 숫자나, 범위를 넣어주는것이 아니라 Boolean을 넣어줌\n",
        "-- Boolean은 True(1) , False(0)으로 만 이루어져있는 자료형\n",
        "-- 불리언 인덱싱을 사용할때 주의할점은 불리언배열과 인덱싱할배열이 같은 크기여야"
      ],
      "metadata": {
        "id": "mTnpbH1w5ZgI"
      }
    },
    {
      "cell_type": "markdown",
      "source": [
        "ㅤ"
      ],
      "metadata": {
        "id": "ORJAO10PezkI"
      }
    },
    {
      "cell_type": "code",
      "source": [
        "a = [1,2]\n",
        "b = [1,2]\n",
        "\n",
        "print(a==b)\n",
        "print(a is b)\n",
        "print(id(a), id(b))"
      ],
      "metadata": {
        "colab": {
          "base_uri": "https://localhost:8080/"
        },
        "id": "RRJBRiyBVTLQ",
        "outputId": "4bcda143-ac6f-4bcd-c12d-436483a0e600"
      },
      "execution_count": null,
      "outputs": [
        {
          "output_type": "stream",
          "name": "stdout",
          "text": [
            "True\n",
            "False\n",
            "138175362746368 138175363118784\n"
          ]
        }
      ]
    },
    {
      "cell_type": "code",
      "source": [
        "arr = np.array([0,1,2,3,4,5])\n",
        "arr2 = np.array([False, True, False, True, False, True])\n",
        "arr[arr2]"
      ],
      "metadata": {
        "colab": {
          "base_uri": "https://localhost:8080/"
        },
        "id": "swilAFTbVpOJ",
        "outputId": "19e8df42-c781-4dbf-801a-3f3a9065da3c"
      },
      "execution_count": null,
      "outputs": [
        {
          "output_type": "execute_result",
          "data": {
            "text/plain": [
              "array([1, 3, 5])"
            ]
          },
          "metadata": {},
          "execution_count": 55
        }
      ]
    },
    {
      "cell_type": "code",
      "source": [
        "boolean  = arr[arr > 3]\n",
        "print(boolean)"
      ],
      "metadata": {
        "colab": {
          "base_uri": "https://localhost:8080/"
        },
        "id": "ENH01RBbWKyW",
        "outputId": "d0af05b0-7d9a-4157-a538-e064e705b033"
      },
      "execution_count": null,
      "outputs": [
        {
          "output_type": "stream",
          "name": "stdout",
          "text": [
            "[4 5]\n"
          ]
        }
      ]
    },
    {
      "cell_type": "code",
      "source": [
        "boolean = arr[ (arr> 3) & (arr%2 ==0)]\n",
        "print(boolean)"
      ],
      "metadata": {
        "colab": {
          "base_uri": "https://localhost:8080/"
        },
        "id": "xlW5k_3VWZC8",
        "outputId": "6ffc1fdb-3691-4856-f61d-91f7af92d799"
      },
      "execution_count": null,
      "outputs": [
        {
          "output_type": "stream",
          "name": "stdout",
          "text": [
            "[4]\n"
          ]
        }
      ]
    },
    {
      "cell_type": "markdown",
      "source": [
        "## **5. 행렬의 정렬  - sort()와 argsort()**"
      ],
      "metadata": {
        "id": "IEVa5mmGq3gv"
      }
    },
    {
      "cell_type": "markdown",
      "source": [
        "### **1) 행렬 정렬**"
      ],
      "metadata": {
        "id": "JaPabgJoq8GA"
      }
    },
    {
      "cell_type": "markdown",
      "source": [
        "\n",
        "\n",
        "*   np.sort() : 원본 행렬은 그대로 유지한 채 원 행렬의 정렬된 행렬을 반환합니다.\n",
        "*   ndarray.sort() : 원본 행렬 자체를 정렬합니다. 반환 값은 None 입니다.\n",
        "\n"
      ],
      "metadata": {
        "id": "yArKtZtsrHyF"
      }
    },
    {
      "cell_type": "code",
      "source": [
        "org_arr = np.array([4,2,8,6])\n",
        "print(org_arr)\n",
        "print(np.sort(org_arr)) #원본 값이 변경 되지 않음.\n",
        "print(org_arr)\n",
        "print(org_arr.sort()) #반환 값 없음\n",
        "print(org_arr) #원본 자체를 정렬, 값을 바꿈"
      ],
      "metadata": {
        "colab": {
          "base_uri": "https://localhost:8080/"
        },
        "id": "FMcxUIoyW0H7",
        "outputId": "2533e812-2152-4af6-c483-4637df0fb9fb"
      },
      "execution_count": null,
      "outputs": [
        {
          "output_type": "stream",
          "name": "stdout",
          "text": [
            "[4 2 8 6]\n",
            "[2 4 6 8]\n",
            "[4 2 8 6]\n",
            "None\n",
            "[2 4 6 8]\n"
          ]
        }
      ]
    },
    {
      "cell_type": "markdown",
      "source": [
        "ㅤ"
      ],
      "metadata": {
        "id": "lhIsN_Dfe0l7"
      }
    },
    {
      "cell_type": "markdown",
      "source": [
        "내림차순으로 반환하기 위해서는 np.sort에서 다음과 같이 [::-1]을 붙여줍니다."
      ],
      "metadata": {
        "id": "u_xfeiGhtSR2"
      }
    },
    {
      "cell_type": "code",
      "source": [
        "print(np.sort(org_arr)[::-1])"
      ],
      "metadata": {
        "colab": {
          "base_uri": "https://localhost:8080/"
        },
        "id": "dXrTTEA4XwZC",
        "outputId": "7f9aab87-535d-4702-d7c6-27bce78acbfa"
      },
      "execution_count": null,
      "outputs": [
        {
          "output_type": "stream",
          "name": "stdout",
          "text": [
            "[8 6 4 2]\n"
          ]
        }
      ]
    },
    {
      "cell_type": "markdown",
      "source": [
        "ㅤ"
      ],
      "metadata": {
        "id": "aqYuHFBxe1pz"
      }
    },
    {
      "cell_type": "markdown",
      "source": [
        "2차원 배열은 axis 축 값 설정을 통해 행열 정렬을 수행합니다.\n",
        "\n",
        "*   axis = 0 : 행 방향\n",
        "*   axis = 1 : 열 방향\n",
        "* 오름차순 :\n",
        "-- 2차원배열 행기준 : np.sort(배열, axis=0)\n",
        "-- 2차원배열 열기준 : np.sort(배열, axis=1)\n",
        "* 내림차순 :\n",
        "-- 행기준 : np.sort(배열, axis=0)[::-1]\n",
        "-- 열기준 : np.sort(배열, axis=1)[::-1]\n",
        "\n",
        "\n"
      ],
      "metadata": {
        "id": "NfcC_3HOt9-3"
      }
    },
    {
      "cell_type": "code",
      "source": [
        "array2 = np.array([[8, 1], [7, 12]])\n",
        "\n",
        "print(array2)\n",
        "\n",
        "print('열 방향 정렬:\\n', np.sort(array2, axis = 1))\n",
        "print('행 방향 정렬:\\n', np.sort(array2, axis = 0))"
      ],
      "metadata": {
        "id": "RXNjUa_p5U6E"
      },
      "execution_count": null,
      "outputs": []
    },
    {
      "cell_type": "markdown",
      "source": [
        "ㅤ"
      ],
      "metadata": {
        "id": "sb89CKsme2o9"
      }
    },
    {
      "cell_type": "markdown",
      "source": [
        "### **2) np.argsort() : 정렬된 행렬의 인덱스를 반환하기**"
      ],
      "metadata": {
        "id": "xfp0IkmJvjzO"
      }
    },
    {
      "cell_type": "markdown",
      "source": [
        "argsort()는 넘파이에서 매우 활용도가 높습니다."
      ],
      "metadata": {
        "id": "CC7vy0rmwotV"
      }
    },
    {
      "cell_type": "code",
      "source": [
        "print(np.argsort(org_arr))"
      ],
      "metadata": {
        "colab": {
          "base_uri": "https://localhost:8080/"
        },
        "id": "wxgvPNKGX_CL",
        "outputId": "362b928c-fc06-44fb-a105-eb5ed3fd6a86"
      },
      "execution_count": null,
      "outputs": [
        {
          "output_type": "stream",
          "name": "stdout",
          "text": [
            "[0 1 2 3]\n"
          ]
        }
      ]
    },
    {
      "cell_type": "markdown",
      "source": [
        "ㅤ"
      ],
      "metadata": {
        "id": "HeNdp4V8e3wy"
      }
    },
    {
      "cell_type": "markdown",
      "source": [
        "np.argsort 역시 np.sort와 마찬가지로 내림차순 반환이 가능합니다."
      ],
      "metadata": {
        "id": "SS_5afeBwVXf"
      }
    },
    {
      "cell_type": "code",
      "source": [
        "print(np.argsort(org_arr)[::-1])"
      ],
      "metadata": {
        "colab": {
          "base_uri": "https://localhost:8080/"
        },
        "id": "wcCcYtjOYONk",
        "outputId": "bf1de292-32dc-4691-c73d-343c36131cf0"
      },
      "execution_count": null,
      "outputs": [
        {
          "output_type": "stream",
          "name": "stdout",
          "text": [
            "[3 2 1 0]\n"
          ]
        }
      ]
    },
    {
      "cell_type": "markdown",
      "source": [
        "ㅤ"
      ],
      "metadata": {
        "id": "CZbPxd9ze47K"
      }
    },
    {
      "cell_type": "markdown",
      "source": [
        "## **7. 배열 간 사칙연산**"
      ],
      "metadata": {
        "id": "bHvEmmTy_NQi"
      }
    },
    {
      "cell_type": "markdown",
      "source": [
        "동일한 모양의 두 배열을 사칙연산합니다.(배열 두개만 가능)\n",
        "* 두 배열 더하기 : np.add(배열1, 배열2)\n",
        "* 두 배열 빼기 : np.subtract(배열1, 배열2)\n",
        "* 두 배열 곱하기 : np.multiply(배열1, 배열2)\n",
        "* 두 배열 나누기 : np.divide(배열1, 배열2)"
      ],
      "metadata": {
        "id": "tkw_sFCu_S3v"
      }
    },
    {
      "cell_type": "code",
      "source": [
        "arr = np.array([[11,12,13], [2,3,4]])\n",
        "print(arr)\n",
        "print(\"*\"*10)\n",
        "print(arr+arr)"
      ],
      "metadata": {
        "colab": {
          "base_uri": "https://localhost:8080/"
        },
        "id": "NFO39Hu-Yfvb",
        "outputId": "45ccc2cc-7714-4aaf-9efa-7fd4fa2eaf67"
      },
      "execution_count": null,
      "outputs": [
        {
          "output_type": "stream",
          "name": "stdout",
          "text": [
            "[[11 12 13]\n",
            " [ 2  3  4]]\n",
            "**********\n",
            "[[1. 1. 1.]\n",
            " [1. 1. 1.]]\n"
          ]
        }
      ]
    },
    {
      "cell_type": "code",
      "source": [
        "a = np.array([1,2,3])\n",
        "b = np.array([3,2,1])\n",
        "sum = np.add(a,b)\n",
        "print(sum)\n",
        "sub = np.subtract(a,b)\n",
        "print(sub)\n",
        "multi = np.multiply(a,b)\n",
        "print(multi)\n",
        "div = np.divide(a,b)\n",
        "print(div)"
      ],
      "metadata": {
        "colab": {
          "base_uri": "https://localhost:8080/"
        },
        "id": "sPDxz7djZEca",
        "outputId": "29b3796d-e936-44f5-e135-4440bb56c382"
      },
      "execution_count": null,
      "outputs": [
        {
          "output_type": "stream",
          "name": "stdout",
          "text": [
            "[4 4 4]\n",
            "[-2  0  2]\n",
            "[3 4 3]\n",
            "[0.33333333 1.         3.        ]\n"
          ]
        }
      ]
    },
    {
      "cell_type": "markdown",
      "source": [
        "배열 내 같은 위치의 원소끼리 연산을 합니다."
      ],
      "metadata": {
        "id": "_ukpSUFl_y2O"
      }
    },
    {
      "cell_type": "markdown",
      "source": [
        "* == 사용해서 같은 값인지 비교"
      ],
      "metadata": {
        "id": "QvmlPe0sylIE"
      }
    },
    {
      "cell_type": "code",
      "source": [
        "a == b"
      ],
      "metadata": {
        "colab": {
          "base_uri": "https://localhost:8080/"
        },
        "id": "zdmSKL69ZqWg",
        "outputId": "ed209355-8722-4eb8-c911-ce7eda09b528"
      },
      "execution_count": null,
      "outputs": [
        {
          "output_type": "execute_result",
          "data": {
            "text/plain": [
              "array([False,  True, False])"
            ]
          },
          "metadata": {},
          "execution_count": 74
        }
      ]
    },
    {
      "cell_type": "markdown",
      "source": [
        "배열 비교해 최대값과 최소값을 찾기  ※ 배열두개만 가능\n",
        "* 두 배열중 최대값 : np.maximum(배열1, 배열2)\n",
        "* 두 배열중 최소값 : np.minimum(배열1, 배열2)"
      ],
      "metadata": {
        "id": "MeL2Yq2gzWoA"
      }
    },
    {
      "cell_type": "code",
      "source": [
        "print(np.maximum(a,b))\n",
        "print(np.minimum(a,b))"
      ],
      "metadata": {
        "colab": {
          "base_uri": "https://localhost:8080/"
        },
        "id": "hmkZQgwtZzbD",
        "outputId": "34a972af-ee4a-49bc-c27f-ec62ba7644c9"
      },
      "execution_count": null,
      "outputs": [
        {
          "output_type": "stream",
          "name": "stdout",
          "text": [
            "[3 2 3]\n",
            "[1 2 1]\n"
          ]
        }
      ]
    },
    {
      "cell_type": "markdown",
      "source": [
        "ㅤ"
      ],
      "metadata": {
        "id": "QvHQQCRae8vK"
      }
    },
    {
      "cell_type": "markdown",
      "source": [
        "## **8. Broadcasting**"
      ],
      "metadata": {
        "id": "_4EstB5J_8Xo"
      }
    },
    {
      "cell_type": "markdown",
      "source": [
        "배열과 1개의 숫자를 사칙 연산합니다."
      ],
      "metadata": {
        "id": "zKpD4G62AC3_"
      }
    },
    {
      "cell_type": "code",
      "source": [
        "print(a)\n",
        "print(a+13)\n",
        "print(a*13)"
      ],
      "metadata": {
        "colab": {
          "base_uri": "https://localhost:8080/"
        },
        "id": "aKfBjKqlaEpO",
        "outputId": "a64d348c-c698-4842-be6f-081aa8691e55"
      },
      "execution_count": null,
      "outputs": [
        {
          "output_type": "stream",
          "name": "stdout",
          "text": [
            "[1 2 3]\n",
            "[14 15 16]\n",
            "[13 26 39]\n"
          ]
        }
      ]
    },
    {
      "cell_type": "markdown",
      "source": [
        "ㅤ"
      ],
      "metadata": {
        "id": "s6iJZo5he9zp"
      }
    },
    {
      "cell_type": "markdown",
      "source": [
        "같은 수의 행과 열을 가진 여러 개의 배열을 연산할 수도 있습니다."
      ],
      "metadata": {
        "id": "fKulZx_KPHKs"
      }
    },
    {
      "cell_type": "code",
      "source": [
        "a1 = np.array([[1,2,3],[4,5,6],[7,8,9]])\n",
        "a2 = np.array([[1,2,3],[4,5,6],[1,2,3]])\n",
        "print(a1)\n",
        "print(\"*\"*10)\n",
        "print(a2)\n",
        "print(\"*\"*10)\n",
        "print(a1+a2)"
      ],
      "metadata": {
        "colab": {
          "base_uri": "https://localhost:8080/"
        },
        "id": "bkwbVD4UaZJS",
        "outputId": "9d82558d-91b5-44ff-d7bf-506ecb9ccf95"
      },
      "execution_count": null,
      "outputs": [
        {
          "output_type": "stream",
          "name": "stdout",
          "text": [
            "[[1 2 3]\n",
            " [4 5 6]\n",
            " [7 8 9]]\n",
            "**********\n",
            "[[1 2 3]\n",
            " [4 5 6]\n",
            " [1 2 3]]\n",
            "**********\n",
            "[[ 2  4  6]\n",
            " [ 8 10 12]\n",
            " [ 8 10 12]]\n"
          ]
        }
      ]
    },
    {
      "cell_type": "markdown",
      "source": [
        "ㅤ"
      ],
      "metadata": {
        "id": "Hg3cu1y4e-3z"
      }
    },
    {
      "cell_type": "markdown",
      "source": [
        "다른 형태의 배열끼리도 연산이 가능합니다."
      ],
      "metadata": {
        "id": "MaRNmHiYly6z"
      }
    },
    {
      "cell_type": "markdown",
      "source": [
        "ㅤ"
      ],
      "metadata": {
        "id": "eAKtLnFDfAUw"
      }
    },
    {
      "cell_type": "markdown",
      "source": [
        "## **9. 집계(Aggregation)**"
      ],
      "metadata": {
        "id": "DTvFnzXVBLvR"
      }
    },
    {
      "cell_type": "markdown",
      "source": [
        "### **1) 합계**"
      ],
      "metadata": {
        "id": "EgraYbRcK2gn"
      }
    },
    {
      "cell_type": "markdown",
      "source": [
        "배열의 합계는 .sum() 을 이용합니다."
      ],
      "metadata": {
        "id": "57yTlUOwLL0h"
      }
    },
    {
      "cell_type": "code",
      "source": [
        "a = np.array([1,2,3,4,5])\n",
        "\n",
        "print(a.sum())"
      ],
      "metadata": {
        "colab": {
          "base_uri": "https://localhost:8080/"
        },
        "id": "-FgRwK7ya_0A",
        "outputId": "c1046b24-3497-422e-93b3-00133a9d0a92"
      },
      "execution_count": null,
      "outputs": [
        {
          "output_type": "stream",
          "name": "stdout",
          "text": [
            "15\n"
          ]
        }
      ]
    },
    {
      "cell_type": "markdown",
      "source": [
        "누적합계는 .cumsum() 이용"
      ],
      "metadata": {
        "id": "QnsYporrzrWb"
      }
    },
    {
      "cell_type": "code",
      "source": [
        "print(a.cumsum())"
      ],
      "metadata": {
        "colab": {
          "base_uri": "https://localhost:8080/"
        },
        "id": "yqNJ6BVKbKJY",
        "outputId": "7de8c2a0-090d-49cc-d265-d6152fbc037a"
      },
      "execution_count": null,
      "outputs": [
        {
          "output_type": "stream",
          "name": "stdout",
          "text": [
            "[ 1  3  6 10 15]\n"
          ]
        }
      ]
    },
    {
      "cell_type": "markdown",
      "source": [
        "ㅤ"
      ],
      "metadata": {
        "id": "Mp16gTO-fBuF"
      }
    },
    {
      "cell_type": "markdown",
      "source": [
        "축을 설정하여 열 방향 혹은 행 방향으로만 더할 수 있습니다."
      ],
      "metadata": {
        "id": "E9fhAlObNdok"
      }
    },
    {
      "cell_type": "code",
      "source": [
        "print(a.sum(axis = 0))\n",
        "#print(a.sum(axis =1))"
      ],
      "metadata": {
        "colab": {
          "base_uri": "https://localhost:8080/"
        },
        "id": "AhLjny9vbXSJ",
        "outputId": "a2e57ad6-0849-4b8b-f215-10baec8f505e"
      },
      "execution_count": null,
      "outputs": [
        {
          "output_type": "stream",
          "name": "stdout",
          "text": [
            "15\n"
          ]
        }
      ]
    },
    {
      "cell_type": "markdown",
      "source": [
        "ㅤ"
      ],
      "metadata": {
        "id": "lDR8pwNYfCy_"
      }
    },
    {
      "cell_type": "markdown",
      "source": [
        "### **2) 평균**"
      ],
      "metadata": {
        "id": "Nv9Abig2LPRI"
      }
    },
    {
      "cell_type": "markdown",
      "source": [
        "배열의 평균은 .mean()을 이용합니다."
      ],
      "metadata": {
        "id": "0Mhac27qLRgV"
      }
    },
    {
      "cell_type": "markdown",
      "source": [
        "ㅤ"
      ],
      "metadata": {
        "id": "PCBp41LJfD3D"
      }
    },
    {
      "cell_type": "code",
      "source": [
        "print(a.mean())"
      ],
      "metadata": {
        "colab": {
          "base_uri": "https://localhost:8080/"
        },
        "id": "rytkFi70btUe",
        "outputId": "cfbeeac4-48be-4262-9685-b32526b61dd3"
      },
      "execution_count": null,
      "outputs": [
        {
          "output_type": "stream",
          "name": "stdout",
          "text": [
            "3.0\n"
          ]
        }
      ]
    },
    {
      "cell_type": "markdown",
      "source": [
        "### **3) 곱셈**"
      ],
      "metadata": {
        "id": "nZcdAgGMLewX"
      }
    },
    {
      "cell_type": "markdown",
      "source": [
        "배열의 곱샘은 .prod()을 이용합니다."
      ],
      "metadata": {
        "id": "digCTvQ2LjeD"
      }
    },
    {
      "cell_type": "code",
      "source": [
        "print(a.prod())"
      ],
      "metadata": {
        "colab": {
          "base_uri": "https://localhost:8080/"
        },
        "id": "u8cgZsPpbwZ5",
        "outputId": "deebe4d8-693e-4c84-ecf1-2934babfaded"
      },
      "execution_count": null,
      "outputs": [
        {
          "output_type": "stream",
          "name": "stdout",
          "text": [
            "120\n"
          ]
        }
      ]
    },
    {
      "cell_type": "markdown",
      "source": [
        "누적 곱셉은 .cumprod()"
      ],
      "metadata": {
        "id": "utSvKxqd0knz"
      }
    },
    {
      "cell_type": "code",
      "source": [
        "print(a.cumprod())"
      ],
      "metadata": {
        "colab": {
          "base_uri": "https://localhost:8080/"
        },
        "id": "GWKW6kyzbzU9",
        "outputId": "514c14e3-b7ee-4d0b-adc5-e580af169648"
      },
      "execution_count": null,
      "outputs": [
        {
          "output_type": "stream",
          "name": "stdout",
          "text": [
            "[  1   2   6  24 120]\n"
          ]
        }
      ]
    },
    {
      "cell_type": "markdown",
      "source": [
        "ㅤ"
      ],
      "metadata": {
        "id": "pBUcYBXsfEvX"
      }
    },
    {
      "cell_type": "markdown",
      "source": [
        "### **4) 최댓값과 최솟값**"
      ],
      "metadata": {
        "id": "Mj1QkSBsL0XQ"
      }
    },
    {
      "cell_type": "markdown",
      "source": [
        "최댓값과 최솟값은 각각 .max()와 .min()을 이용합니다."
      ],
      "metadata": {
        "id": "lyoxn1ubL3Y7"
      }
    },
    {
      "cell_type": "code",
      "source": [
        "print(a.max())\n",
        "print(a.min())"
      ],
      "metadata": {
        "colab": {
          "base_uri": "https://localhost:8080/"
        },
        "id": "8PovRCEFb3_7",
        "outputId": "9f002fec-090c-4579-8588-8c4d1513f21a"
      },
      "execution_count": null,
      "outputs": [
        {
          "output_type": "stream",
          "name": "stdout",
          "text": [
            "5\n",
            "1\n"
          ]
        }
      ]
    },
    {
      "cell_type": "markdown",
      "source": [
        "ㅤ"
      ],
      "metadata": {
        "id": "qSLd8609fFmB"
      }
    },
    {
      "cell_type": "markdown",
      "source": [
        "인덱싱으로 해당 열의 최댓값과 최솟값을 구할 수도 있습니다."
      ],
      "metadata": {
        "id": "li9o2_7JOE-A"
      }
    },
    {
      "cell_type": "code",
      "source": [
        "print(a)\n",
        "print(a[1].max())\n",
        "print(a[0].min())"
      ],
      "metadata": {
        "id": "hII1YwgI5an4"
      },
      "execution_count": null,
      "outputs": []
    },
    {
      "cell_type": "markdown",
      "source": [
        "ㅤ"
      ],
      "metadata": {
        "id": "rFZnftCmfGlD"
      }
    },
    {
      "cell_type": "markdown",
      "source": [
        ".argmax()와 .argmin()을 이용하여 배열에서 최댓값인 원소의 인덱스 번호와 최솟값인 원소의 인덱스 번호를 구할 수 있습니다."
      ],
      "metadata": {
        "id": "sWO9DklxMkhP"
      }
    },
    {
      "cell_type": "code",
      "source": [
        "print(a.argmax())\n",
        "print(a.argmin())"
      ],
      "metadata": {
        "id": "TtyaQ_E15cAW"
      },
      "execution_count": null,
      "outputs": []
    },
    {
      "cell_type": "markdown",
      "source": [
        "ㅤ"
      ],
      "metadata": {
        "id": "jj5jpdqLfHff"
      }
    },
    {
      "cell_type": "markdown",
      "source": [
        "### **5) 표준편차와 분산**"
      ],
      "metadata": {
        "id": "M1X5SCCzMB4u"
      }
    },
    {
      "cell_type": "markdown",
      "source": [
        "표준편차와 분산은 각각 .std()와 .var()을 이용합니다.\n",
        "* 분산 : 값들이 퍼져있는 정도 내가 만든범위(배열)에서 값들이 얼마나 퍼져있는지.\n",
        "* 예를들면 1,2,3의 분산과 100,101,102의 분산은 같음.\n",
        "* 수의 절대적인 크기가 아닌 내가 정한 범위안에서 이값들이 퍼져있는 정도\n",
        "* 표준편차 : 분산의 수치가 커서 제곱근으로 적당하게 줄인 값"
      ],
      "metadata": {
        "id": "47jr4du5MHYj"
      }
    },
    {
      "cell_type": "code",
      "source": [
        "print(a.std())\n",
        "print(a.var())"
      ],
      "metadata": {
        "colab": {
          "base_uri": "https://localhost:8080/"
        },
        "id": "GlQX0QkLcMHT",
        "outputId": "2dfca76f-12ca-49cb-8805-58640745eb64"
      },
      "execution_count": null,
      "outputs": [
        {
          "output_type": "stream",
          "name": "stdout",
          "text": [
            "1.4142135623730951\n",
            "2.0\n"
          ]
        }
      ]
    },
    {
      "cell_type": "markdown",
      "source": [
        "### **6) 중복제거**\n",
        " .unique()\n"
      ],
      "metadata": {
        "id": "TXQ8k8eR1vYN"
      }
    },
    {
      "cell_type": "markdown",
      "source": [
        "\n",
        "---\n",
        "\n",
        "\n"
      ],
      "metadata": {
        "id": "tDzxC1xqVLfV"
      }
    },
    {
      "cell_type": "code",
      "source": [
        "a = np.array([1,2,1,2,3,4,5,6,6,10,10])\n",
        "\n",
        "print(np.unique(a))"
      ],
      "metadata": {
        "colab": {
          "base_uri": "https://localhost:8080/"
        },
        "id": "hancqsiZcYCd",
        "outputId": "22f2cea4-8072-40e0-c768-f86845a0ec1d"
      },
      "execution_count": null,
      "outputs": [
        {
          "output_type": "stream",
          "name": "stdout",
          "text": [
            "[ 1  2  3  4  5  6 10]\n"
          ]
        }
      ]
    },
    {
      "cell_type": "markdown",
      "source": [
        "배열간 연산과 인덱싱, 슬라이싱은 Pandas와 함께 데이터 병합과 전처리를 진행할 때 유용하게 쓰이는 방법"
      ],
      "metadata": {
        "id": "sNuymI0mRm_x"
      }
    }
  ]
}